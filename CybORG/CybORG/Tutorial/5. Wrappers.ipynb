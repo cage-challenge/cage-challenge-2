{
 "cells": [
  {
   "cell_type": "markdown",
   "metadata": {},
   "source": [
    "### Simple Wrappers"
   ]
  },
  {
   "cell_type": "code",
   "execution_count": 1,
   "metadata": {},
   "outputs": [],
   "source": [
    "import inspect\n",
    "from pprint import pprint\n",
    "from CybORG import CybORG\n",
    "from CybORG.Agents.Wrappers import *\n",
    "\n",
    "path = str(inspect.getfile(CybORG))\n",
    "path = '../Shared/Scenarios/Scenario2_No_Decoy.yaml'\n",
    "\n",
    "cyborg = CybORG(path,'sim')"
   ]
  },
  {
   "cell_type": "markdown",
   "metadata": {},
   "source": [
    "Our demonstrations have mostly been with native CybORG, but we will now demonstrate how AI can be assisted by the use of Wrappers.\n",
    "\n",
    "Our first Wrapper is EnumActionWrapper, which calculates all the possible actions and returns the action space as the number of such actions. This gives a relatively large number of actions for both Blue and Red team."
   ]
  },
  {
   "cell_type": "code",
   "execution_count": 6,
   "metadata": {},
   "outputs": [
    {
     "name": "stdout",
     "output_type": "stream",
     "text": [
      "Blue action space: 41\n",
      "[<CybORG.Shared.Actions.Action.Sleep object at 0x7f47c2552fa0>, <CybORG.Shared.Actions.AbstractActions.Monitor.Monitor object at 0x7f47c24ae7c0>, <CybORG.Shared.Actions.AbstractActions.Analyse.Analyse object at 0x7f47c24ae0a0>, <CybORG.Shared.Actions.AbstractActions.Analyse.Analyse object at 0x7f47c24ae0d0>, <CybORG.Shared.Actions.AbstractActions.Analyse.Analyse object at 0x7f47c24a8070>, <CybORG.Shared.Actions.AbstractActions.Analyse.Analyse object at 0x7f47c24fcbb0>, <CybORG.Shared.Actions.AbstractActions.Analyse.Analyse object at 0x7f47c24fcd00>, <CybORG.Shared.Actions.AbstractActions.Analyse.Analyse object at 0x7f47c261caf0>, <CybORG.Shared.Actions.AbstractActions.Analyse.Analyse object at 0x7f47c261a160>, <CybORG.Shared.Actions.AbstractActions.Analyse.Analyse object at 0x7f47c24eba00>, <CybORG.Shared.Actions.AbstractActions.Analyse.Analyse object at 0x7f47c24eb5b0>, <CybORG.Shared.Actions.AbstractActions.Analyse.Analyse object at 0x7f47c250ff40>, <CybORG.Shared.Actions.AbstractActions.Analyse.Analyse object at 0x7f47c250f580>, <CybORG.Shared.Actions.AbstractActions.Analyse.Analyse object at 0x7f47c250fca0>, <CybORG.Shared.Actions.AbstractActions.Analyse.Analyse object at 0x7f47c250fd00>, <CybORG.Shared.Actions.AbstractActions.Remove.Remove object at 0x7f47c250fc40>, <CybORG.Shared.Actions.AbstractActions.Remove.Remove object at 0x7f47c250fd30>, <CybORG.Shared.Actions.AbstractActions.Remove.Remove object at 0x7f483add2970>, <CybORG.Shared.Actions.AbstractActions.Remove.Remove object at 0x7f47c24d24f0>, <CybORG.Shared.Actions.AbstractActions.Remove.Remove object at 0x7f47c24d21f0>, <CybORG.Shared.Actions.AbstractActions.Remove.Remove object at 0x7f47c24d2a00>, <CybORG.Shared.Actions.AbstractActions.Remove.Remove object at 0x7f47c24d2d60>, <CybORG.Shared.Actions.AbstractActions.Remove.Remove object at 0x7f47c24d28b0>, <CybORG.Shared.Actions.AbstractActions.Remove.Remove object at 0x7f47c269bc10>, <CybORG.Shared.Actions.AbstractActions.Remove.Remove object at 0x7f47c269b460>, <CybORG.Shared.Actions.AbstractActions.Remove.Remove object at 0x7f47c269b0a0>, <CybORG.Shared.Actions.AbstractActions.Remove.Remove object at 0x7f47c269be50>, <CybORG.Shared.Actions.AbstractActions.Remove.Remove object at 0x7f47c269ba30>, <CybORG.Shared.Actions.AbstractActions.Restore.Restore object at 0x7f47c269bbb0>, <CybORG.Shared.Actions.AbstractActions.Restore.Restore object at 0x7f47c24c2130>, <CybORG.Shared.Actions.AbstractActions.Restore.Restore object at 0x7f47c24c2190>, <CybORG.Shared.Actions.AbstractActions.Restore.Restore object at 0x7f47c24c2460>, <CybORG.Shared.Actions.AbstractActions.Restore.Restore object at 0x7f47c24c2700>, <CybORG.Shared.Actions.AbstractActions.Restore.Restore object at 0x7f47c24c25b0>, <CybORG.Shared.Actions.AbstractActions.Restore.Restore object at 0x7f48581e90a0>, <CybORG.Shared.Actions.AbstractActions.Restore.Restore object at 0x7f47c24da0d0>, <CybORG.Shared.Actions.AbstractActions.Restore.Restore object at 0x7f47c24a2f40>, <CybORG.Shared.Actions.AbstractActions.Restore.Restore object at 0x7f47c24a2be0>, <CybORG.Shared.Actions.AbstractActions.Restore.Restore object at 0x7f47c24f9b50>, <CybORG.Shared.Actions.AbstractActions.Restore.Restore object at 0x7f47c24f9f70>, <CybORG.Shared.Actions.AbstractActions.Restore.Restore object at 0x7f47c24f9af0>]\n"
     ]
    }
   ],
   "source": [
    "env = EnumActionWrapper(cyborg)\n",
    "\n",
    "results = env.reset(agent='Blue')\n",
    "action_space = results.action_space\n",
    "print('Blue action space:',action_space)\n",
    "\n",
    "print(env.possible_actions)"
   ]
  },
  {
   "cell_type": "markdown",
   "metadata": {},
   "source": [
    "We can do a similar thing for the observation space. The FlatFixedWrapper parses the internal state of CybORG and turns it into a list of floats, which can easily be converted into a vector. Unfortunately, this vector is extremely long, with length over 11,000!"
   ]
  },
  {
   "cell_type": "code",
   "execution_count": 35,
   "metadata": {},
   "outputs": [
    {
     "name": "stdout",
     "output_type": "stream",
     "text": [
      "(42,)\n",
      "----------------------------------------------------------------------------\n",
      "(42,)\n",
      "----------------------------------------------------------------------------\n",
      "(42,)\n",
      "----------------------------------------------------------------------------\n"
     ]
    }
   ],
   "source": [
    "env = BlueTableWrapper(cyborg,output_mode='vector')\n",
    "\n",
    "env.reset(agent='Blue')\n",
    "for i in range(3):\n",
    "    results = env.step(agent='Blue')\n",
    "    blue_obs = results.observation.shape\n",
    "    print(blue_obs)\n",
    "    print(76*'-')"
   ]
  },
  {
   "cell_type": "code",
   "execution_count": 24,
   "metadata": {},
   "outputs": [
    {
     "name": "stdout",
     "output_type": "stream",
     "text": [
      "<class 'list'>\n",
      "11293\n"
     ]
    }
   ],
   "source": [
    "env = FixedFlatWrapper(CybORG(path, 'sim'))\n",
    "\n",
    "results = env.reset()\n",
    "obs = results.observation\n",
    "print(type(obs))\n",
    "print(len(obs))"
   ]
  },
  {
   "cell_type": "markdown",
   "metadata": {},
   "source": [
    "The OpenAIGymWrapper converts the output of FlatFixedWrapper to a numpy array as well as conforming to other parts of the OpenAI Gym API. It requires FlatFixedWrapper and EnumActionWrapper in order to function and should always be the outermost of the provided wrappers. You must also specify an agent parameter and explitly specify the environment parameter."
   ]
  },
  {
   "cell_type": "code",
   "execution_count": 19,
   "metadata": {},
   "outputs": [
    {
     "name": "stdout",
     "output_type": "stream",
     "text": [
      "Observation: [ 0.66666667  0.          1.         ... -1.         -1.\n",
      " -1.        ]\n",
      "-------------------------------------------------------------------------\n",
      "Action_Space: Discrete(41)\n",
      "-------------------------------------------------------------------------\n",
      "Observation Space: Box(-1.0, 1.0, (11293,), float32)\n"
     ]
    }
   ],
   "source": [
    "wrappers = FixedFlatWrapper(EnumActionWrapper(cyborg))\n",
    "env = OpenAIGymWrapper(env=wrappers,agent_name='Blue')\n",
    "\n",
    "obs = env.reset()\n",
    "print('Observation:',obs)\n",
    "print(73*'-')\n",
    "print('Action_Space:',env.action_space)\n",
    "print(73*'-')\n",
    "print('Observation Space:',env.observation_space)"
   ]
  },
  {
   "cell_type": "markdown",
   "metadata": {},
   "source": [
    "### Table Wrappers"
   ]
  },
  {
   "cell_type": "markdown",
   "metadata": {},
   "source": [
    "The 'Table Wrappers' attempt to use basic logic to infer a human-friendly picture of the state by keeping track of past observations. This allows for a greatly simplified state space and much greater human readibility. However, it mercilessly exploits the current limitations of Scenario 1b and thus would have limited use on real-world cyber problems.\n",
    "\n",
    "The first wrapper is the TrueTableWrapper, which modifies the get_agent_state method to return the true state in the form of the table."
   ]
  },
  {
   "cell_type": "code",
   "execution_count": 20,
   "metadata": {},
   "outputs": [
    {
     "name": "stdout",
     "output_type": "stream",
     "text": [
      "+----------------+-------------+-------------+-------+---------+------------+\n",
      "|     Subnet     |  IP Address |   Hostname  | Known | Scanned |   Access   |\n",
      "+----------------+-------------+-------------+-------+---------+------------+\n",
      "| 10.0.64.112/28 | 10.0.64.119 |   Defender  | False |  False  |    None    |\n",
      "| 10.0.64.112/28 | 10.0.64.118 | Enterprise0 | False |  False  |    None    |\n",
      "| 10.0.64.112/28 | 10.0.64.123 | Enterprise1 | False |  False  |    None    |\n",
      "| 10.0.64.112/28 | 10.0.64.124 | Enterprise2 | False |  False  |    None    |\n",
      "| 10.0.221.0/28  |  10.0.221.9 |   Op_Host0  | False |  False  |    None    |\n",
      "| 10.0.221.0/28  |  10.0.221.7 |   Op_Host1  | False |  False  |    None    |\n",
      "| 10.0.221.0/28  |  10.0.221.6 |   Op_Host2  | False |  False  |    None    |\n",
      "| 10.0.221.0/28  |  10.0.221.3 |  Op_Server0 | False |  False  |    None    |\n",
      "| 10.0.76.176/28 | 10.0.76.188 |    User0    |  True |  False  | Privileged |\n",
      "| 10.0.76.176/28 | 10.0.76.181 |    User1    | False |  False  |    None    |\n",
      "| 10.0.76.176/28 | 10.0.76.189 |    User2    | False |  False  |    None    |\n",
      "| 10.0.76.176/28 | 10.0.76.185 |    User3    | False |  False  |    None    |\n",
      "| 10.0.76.176/28 | 10.0.76.184 |    User4    | False |  False  |    None    |\n",
      "+----------------+-------------+-------------+-------+---------+------------+\n"
     ]
    }
   ],
   "source": [
    "env = TrueTableWrapper(cyborg)\n",
    "\n",
    "env.reset()\n",
    "\n",
    "true_table = env.get_agent_state('True')\n",
    "print(true_table)"
   ]
  },
  {
   "cell_type": "markdown",
   "metadata": {},
   "source": [
    "The BlueTableWrapper provides similar functionality for the blue observation."
   ]
  },
  {
   "cell_type": "code",
   "execution_count": 21,
   "metadata": {},
   "outputs": [
    {
     "name": "stdout",
     "output_type": "stream",
     "text": [
      "+-----------------+--------------+-------------+----------+-------------+\n",
      "|      Subnet     |  IP Address  |   Hostname  | Activity | Compromised |\n",
      "+-----------------+--------------+-------------+----------+-------------+\n",
      "| 10.0.150.128/28 | 10.0.150.130 |   Defender  |   None   |      No     |\n",
      "| 10.0.150.128/28 | 10.0.150.138 | Enterprise0 |   None   |      No     |\n",
      "| 10.0.150.128/28 | 10.0.150.135 | Enterprise1 |   None   |      No     |\n",
      "| 10.0.150.128/28 | 10.0.150.131 | Enterprise2 |   None   |      No     |\n",
      "|   10.0.72.0/28  |  10.0.72.6   |   Op_Host0  |   None   |      No     |\n",
      "|   10.0.72.0/28  |  10.0.72.12  |   Op_Host1  |   None   |      No     |\n",
      "|   10.0.72.0/28  |  10.0.72.8   |   Op_Host2  |   None   |      No     |\n",
      "|   10.0.72.0/28  |  10.0.72.10  |  Op_Server0 |   None   |      No     |\n",
      "| 10.0.237.128/28 | 10.0.237.131 |    User0    |   None   |      No     |\n",
      "| 10.0.237.128/28 | 10.0.237.140 |    User1    |   None   |      No     |\n",
      "| 10.0.237.128/28 | 10.0.237.136 |    User2    |   None   |      No     |\n",
      "+-----------------+--------------+-------------+----------+-------------+\n",
      "+-----------------+--------------+-------------+----------+-------------+\n",
      "|      Subnet     |  IP Address  |   Hostname  | Activity | Compromised |\n",
      "+-----------------+--------------+-------------+----------+-------------+\n",
      "| 10.0.150.128/28 | 10.0.150.130 |   Defender  |   None   |      No     |\n",
      "| 10.0.150.128/28 | 10.0.150.138 | Enterprise0 |   None   |      No     |\n",
      "| 10.0.150.128/28 | 10.0.150.135 | Enterprise1 |   None   |      No     |\n",
      "| 10.0.150.128/28 | 10.0.150.131 | Enterprise2 |   None   |      No     |\n",
      "|   10.0.72.0/28  |  10.0.72.6   |   Op_Host0  |   None   |      No     |\n",
      "|   10.0.72.0/28  |  10.0.72.12  |   Op_Host1  |   None   |      No     |\n",
      "|   10.0.72.0/28  |  10.0.72.8   |   Op_Host2  |   None   |      No     |\n",
      "|   10.0.72.0/28  |  10.0.72.10  |  Op_Server0 |   None   |      No     |\n",
      "| 10.0.237.128/28 | 10.0.237.131 |    User0    |   None   |      No     |\n",
      "| 10.0.237.128/28 | 10.0.237.140 |    User1    |   None   |      No     |\n",
      "| 10.0.237.128/28 | 10.0.237.136 |    User2    |   Scan   |      No     |\n",
      "+-----------------+--------------+-------------+----------+-------------+\n",
      "+-----------------+--------------+-------------+----------+-------------+\n",
      "|      Subnet     |  IP Address  |   Hostname  | Activity | Compromised |\n",
      "+-----------------+--------------+-------------+----------+-------------+\n",
      "| 10.0.150.128/28 | 10.0.150.130 |   Defender  |   None   |      No     |\n",
      "| 10.0.150.128/28 | 10.0.150.138 | Enterprise0 |   None   |      No     |\n",
      "| 10.0.150.128/28 | 10.0.150.135 | Enterprise1 |   None   |      No     |\n",
      "| 10.0.150.128/28 | 10.0.150.131 | Enterprise2 |   None   |      No     |\n",
      "|   10.0.72.0/28  |  10.0.72.6   |   Op_Host0  |   None   |      No     |\n",
      "|   10.0.72.0/28  |  10.0.72.12  |   Op_Host1  |   None   |      No     |\n",
      "|   10.0.72.0/28  |  10.0.72.8   |   Op_Host2  |   None   |      No     |\n",
      "|   10.0.72.0/28  |  10.0.72.10  |  Op_Server0 |   None   |      No     |\n",
      "| 10.0.237.128/28 | 10.0.237.131 |    User0    |   None   |      No     |\n",
      "| 10.0.237.128/28 | 10.0.237.140 |    User1    |   None   |      No     |\n",
      "| 10.0.237.128/28 | 10.0.237.136 |    User2    | Exploit  |     User    |\n",
      "+-----------------+--------------+-------------+----------+-------------+\n"
     ]
    }
   ],
   "source": [
    "from CybORG.Agents import B_lineAgent\n",
    "from CybORG.Shared.Actions import Sleep\n",
    "cyborg = CybORG(path,'sim', agents={'Red':B_lineAgent})\n",
    "\n",
    "env = BlueTableWrapper(cyborg)\n",
    "\n",
    "results = env.reset(agent='Blue')\n",
    "\n",
    "for i in range(3):\n",
    "    results = env.step(agent='Blue')\n",
    "    blue_obs = results.observation\n",
    "    print(blue_obs)"
   ]
  },
  {
   "cell_type": "markdown",
   "metadata": {},
   "source": [
    "The table can also be converted into a vector. This is done by setting the output_mode parameter to 'vector'."
   ]
  },
  {
   "cell_type": "markdown",
   "metadata": {},
   "source": [
    "The RedTableWrapper is the Red Team version of the BlueTableWrapper."
   ]
  },
  {
   "cell_type": "code",
   "execution_count": 8,
   "metadata": {},
   "outputs": [
    {
     "name": "stdout",
     "output_type": "stream",
     "text": [
      "+-----------------+--------------+----------+---------+------------+\n",
      "|      Subnet     |  IP Address  | Hostname | Scanned |   Access   |\n",
      "+-----------------+--------------+----------+---------+------------+\n",
      "| 10.0.219.192/28 | 10.0.219.194 |  User0   |  False  | Privileged |\n",
      "+-----------------+--------------+----------+---------+------------+\n",
      "+-----------------+--------------+-----------------+---------+------------+\n",
      "|      Subnet     |  IP Address  |     Hostname    | Scanned |   Access   |\n",
      "+-----------------+--------------+-----------------+---------+------------+\n",
      "| 10.0.219.192/28 | 10.0.219.193 | UNKNOWN_HOST: 2 |  False  |    None    |\n",
      "| 10.0.219.192/28 | 10.0.219.194 |      User0      |  False  | Privileged |\n",
      "| 10.0.219.192/28 | 10.0.219.196 | UNKNOWN_HOST: 0 |  False  |    None    |\n",
      "| 10.0.219.192/28 | 10.0.219.198 | UNKNOWN_HOST: 3 |  False  |    None    |\n",
      "| 10.0.219.192/28 | 10.0.219.199 | UNKNOWN_HOST: 1 |  False  |    None    |\n",
      "+-----------------+--------------+-----------------+---------+------------+\n",
      "+-----------------+--------------+-----------------+---------+------------+\n",
      "|      Subnet     |  IP Address  |     Hostname    | Scanned |   Access   |\n",
      "+-----------------+--------------+-----------------+---------+------------+\n",
      "| 10.0.219.192/28 | 10.0.219.193 | UNKNOWN_HOST: 2 |  False  |    None    |\n",
      "| 10.0.219.192/28 | 10.0.219.194 |      User0      |  False  | Privileged |\n",
      "| 10.0.219.192/28 | 10.0.219.196 | UNKNOWN_HOST: 0 |   True  |    None    |\n",
      "| 10.0.219.192/28 | 10.0.219.198 | UNKNOWN_HOST: 3 |  False  |    None    |\n",
      "| 10.0.219.192/28 | 10.0.219.199 | UNKNOWN_HOST: 1 |  False  |    None    |\n",
      "+-----------------+--------------+-----------------+---------+------------+\n",
      "+-----------------+--------------+-----------------+---------+------------+\n",
      "|      Subnet     |  IP Address  |     Hostname    | Scanned |   Access   |\n",
      "+-----------------+--------------+-----------------+---------+------------+\n",
      "| 10.0.219.192/28 | 10.0.219.193 | UNKNOWN_HOST: 2 |  False  |    None    |\n",
      "| 10.0.219.192/28 | 10.0.219.194 |      User0      |  False  | Privileged |\n",
      "| 10.0.219.192/28 | 10.0.219.196 |      User1      |   True  |    User    |\n",
      "| 10.0.219.192/28 | 10.0.219.198 | UNKNOWN_HOST: 3 |  False  |    None    |\n",
      "| 10.0.219.192/28 | 10.0.219.199 | UNKNOWN_HOST: 1 |  False  |    None    |\n",
      "+-----------------+--------------+-----------------+---------+------------+\n"
     ]
    }
   ],
   "source": [
    "env = RedTableWrapper(cyborg)\n",
    "\n",
    "results = env.reset(agent='Red')\n",
    "print(results.observation)\n",
    "\n",
    "for i in range(3):\n",
    "    results = env.step(agent='Red')\n",
    "    red_obs = results.observation\n",
    "    print(red_obs)"
   ]
  },
  {
   "cell_type": "markdown",
   "metadata": {},
   "source": [
    "### Challenge Wrapper"
   ]
  },
  {
   "cell_type": "markdown",
   "metadata": {},
   "source": [
    "The challenge wrapper is three wrappers nested together: BlueTableWrapper, EnumActionWrapper and OpenAIGymWrapper."
   ]
  },
  {
   "cell_type": "code",
   "execution_count": 9,
   "metadata": {},
   "outputs": [
    {
     "name": "stdout",
     "output_type": "stream",
     "text": [
      "[ 1  0  0  1  0  0  0  0  0  0  0  0  0  0  0  0 -1 -1 -1 -1 -1 -1 -1 -1\n",
      " -1 -1 -1 -1 -1 -1 -1 -1 -1 -1 -1 -1 -1 -1 -1 -1]\n",
      "----------------------------------------------------------------------------\n",
      "0.0\n",
      "----------------------------------------------------------------------------\n",
      "False\n",
      "----------------------------------------------------------------------------\n",
      "{'action': <CybORG.Shared.Actions.AbstractActions.DiscoverRemoteSystems.DiscoverRemoteSystems object at 0x7fbdfc1879a0>,\n",
      " 'action_name': None,\n",
      " 'action_space': 888,\n",
      " 'done': False,\n",
      " 'error': None,\n",
      " 'error_msg': None,\n",
      " 'info': None,\n",
      " 'next_observation': None,\n",
      " 'observation': array([ 1,  0,  0,  1,  0,  0,  0,  0,  0,  0,  0,  0,  0,  0,  0,  0, -1,\n",
      "       -1, -1, -1, -1, -1, -1, -1, -1, -1, -1, -1, -1, -1, -1, -1, -1, -1,\n",
      "       -1, -1, -1, -1, -1, -1]),\n",
      " 'parameter_mask': None,\n",
      " 'reward': 0.0,\n",
      " 'selection_masks': None}\n"
     ]
    }
   ],
   "source": [
    "env = ChallengeWrapper(env=cyborg,agent_name='Red')\n",
    "\n",
    "obs = env.reset()\n",
    "\n",
    "for i in range(1):\n",
    "    obs, reward, done, info = env.step()\n",
    "    print(obs)\n",
    "    print(76*'-')\n",
    "    print(reward)\n",
    "    print(76*'-')\n",
    "    print(done)\n",
    "    print(76*'-')\n",
    "    pprint(info)"
   ]
  },
  {
   "cell_type": "code",
   "execution_count": 15,
   "metadata": {},
   "outputs": [
    {
     "ename": "SyntaxError",
     "evalue": "unexpected EOF while parsing (3060779413.py, line 1)",
     "output_type": "error",
     "traceback": [
      "\u001b[0;36m  File \u001b[0;32m\"/tmp/ipykernel_35572/3060779413.py\"\u001b[0;36m, line \u001b[0;32m1\u001b[0m\n\u001b[0;31m    if np.array([0,0,0]):\u001b[0m\n\u001b[0m                         ^\u001b[0m\n\u001b[0;31mSyntaxError\u001b[0m\u001b[0;31m:\u001b[0m unexpected EOF while parsing\n"
     ]
    }
   ],
   "source": [
    "if np.array([0,0,0])"
   ]
  }
 ],
 "metadata": {
  "kernelspec": {
   "display_name": "Python 3",
   "language": "python",
   "name": "python3"
  },
  "language_info": {
   "codemirror_mode": {
    "name": "ipython",
    "version": 3
   },
   "file_extension": ".py",
   "mimetype": "text/x-python",
   "name": "python",
   "nbconvert_exporter": "python",
   "pygments_lexer": "ipython3",
   "version": "3.8.16"
  }
 },
 "nbformat": 4,
 "nbformat_minor": 4
}
