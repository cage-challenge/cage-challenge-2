{
 "cells": [
  {
   "cell_type": "markdown",
   "metadata": {},
   "source": [
    "### CybORG Action Space"
   ]
  },
  {
   "cell_type": "markdown",
   "metadata": {},
   "source": [
    "Without the use of wrappers,  CybORG actions need to be constructed by the agent before being passed in. If you are not interested this we suggest you skip to the wrapper tutorial.\n",
    "\n",
    "The action space is updated every step and can be found as a dictionary in the results object. Because this dictionary is quite large, we will only print the keys below."
   ]
  },
  {
   "cell_type": "code",
   "execution_count": 7,
   "metadata": {},
   "outputs": [
    {
     "name": "stdout",
     "output_type": "stream",
     "text": [
      "dict_keys(['action', 'subnet', 'ip_address', 'session', 'username', 'password', 'process', 'port', 'target_session', 'agent', 'hostname'])\n"
     ]
    }
   ],
   "source": [
    "import inspect\n",
    "from pprint import pprint\n",
    "from CybORG import CybORG\n",
    "\n",
    "path = str(inspect.getfile(CybORG))\n",
    "path = path[:-10] + '/Shared/Scenarios/Scenario2_No_Decoy.yaml'\n",
    "\n",
    "env = CybORG(path, 'sim')\n",
    "\n",
    "results = env.reset(agent='Red')\n",
    "action_space = results.action_space\n",
    "pprint(action_space.keys())"
   ]
  },
  {
   "cell_type": "markdown",
   "metadata": {},
   "source": [
    "The CybORG action space is divided into \"actions\" and \"parameters\". Actions represent the use of specific cyber tools (for example a network scanning tool like nmap), while parameters represent the inputs the tool requires to function (to scan the interfaces of a host with nmap, you need to provide the ip address of the host).\n",
    "\n",
    "The \"actions\" are located under the 'action' key in the action_space dictionary."
   ]
  },
  {
   "cell_type": "code",
   "execution_count": 8,
   "metadata": {},
   "outputs": [
    {
     "name": "stdout",
     "output_type": "stream",
     "text": [
      "{<class 'CybORG.Shared.Actions.Action.Sleep'>: True,\n",
      " <class 'CybORG.Shared.Actions.ConcreteActions.BlueKeep.BlueKeep'>: True,\n",
      " <class 'CybORG.Shared.Actions.ConcreteActions.EternalBlue.EternalBlue'>: True,\n",
      " <class 'CybORG.Shared.Actions.ConcreteActions.HTTPRFI.HTTPRFI'>: True,\n",
      " <class 'CybORG.Shared.Actions.ConcreteActions.HTTPSRFI.HTTPSRFI'>: True,\n",
      " <class 'CybORG.Shared.Actions.ConcreteActions.SSHBruteForce.SSHBruteForce'>: True,\n",
      " <class 'CybORG.Shared.Actions.ConcreteActions.HarakaRCE.HarakaRCE'>: True,\n",
      " <class 'CybORG.Shared.Actions.ConcreteActions.SQLInjection.SQLInjection'>: True,\n",
      " <class 'CybORG.Shared.Actions.ConcreteActions.FTPDirectoryTraversal.FTPDirectoryTraversal'>: True,\n",
      " <class 'CybORG.Shared.Actions.AbstractActions.DiscoverRemoteSystems.DiscoverRemoteSystems'>: True,\n",
      " <class 'CybORG.Shared.Actions.AbstractActions.DiscoverNetworkServices.DiscoverNetworkServices'>: True,\n",
      " <class 'CybORG.Shared.Actions.AbstractActions.ExploitRemoteService.ExploitRemoteService'>: True,\n",
      " <class 'CybORG.Shared.Actions.AbstractActions.PrivilegeEscalate.PrivilegeEscalate'>: True,\n",
      " <class 'CybORG.Shared.Actions.AbstractActions.Impact.Impact'>: True}\n"
     ]
    }
   ],
   "source": [
    "actions = action_space['action']\n",
    "pprint(actions)"
   ]
  },
  {
   "cell_type": "markdown",
   "metadata": {},
   "source": [
    "We can see that our actions are each custom classes that form the keys of the above dictionary. The values specify whether this action is currently valid. In Scenario 1b, this value will always be True.\n",
    "\n",
    "The remaining keys in the scenario dictionary represent different classes of parameters. For example, if we examine the 'ip_address' key we will get a dictionary whose keys are the various ip_addresses on the network. The values are again booleans, which represents whether Red knows about this ip_address or not."
   ]
  },
  {
   "cell_type": "code",
   "execution_count": 9,
   "metadata": {},
   "outputs": [
    {
     "name": "stdout",
     "output_type": "stream",
     "text": [
      "{IPv4Address('10.0.35.37'): False,\n",
      " IPv4Address('10.0.35.42'): False,\n",
      " IPv4Address('10.0.35.44'): False,\n",
      " IPv4Address('10.0.35.46'): False,\n",
      " IPv4Address('10.0.36.244'): False,\n",
      " IPv4Address('10.0.36.245'): False,\n",
      " IPv4Address('10.0.36.250'): False,\n",
      " IPv4Address('10.0.36.254'): False,\n",
      " IPv4Address('10.0.119.69'): True,\n",
      " IPv4Address('10.0.119.71'): False,\n",
      " IPv4Address('10.0.119.73'): False,\n",
      " IPv4Address('10.0.119.74'): False,\n",
      " IPv4Address('10.0.119.78'): False}\n"
     ]
    }
   ],
   "source": [
    "ips = action_space['ip_address']\n",
    "pprint(ips)"
   ]
  },
  {
   "cell_type": "markdown",
   "metadata": {},
   "source": [
    "To construct an action, we choose (or import) an action class, then instantiate it by passing in the necessary parameters. These can be found HERE."
   ]
  },
  {
   "cell_type": "code",
   "execution_count": 10,
   "metadata": {},
   "outputs": [],
   "source": [
    "import random\n",
    "from CybORG.Shared.Actions import DiscoverNetworkServices\n",
    "unknown_ips = [ip for ip in ips if not ips[ip]]\n",
    "ip = random.choice(unknown_ips)\n",
    "\n",
    "action = DiscoverNetworkServices(session=0,agent='Red',ip_address=ip)"
   ]
  },
  {
   "cell_type": "markdown",
   "metadata": {},
   "source": [
    "We have deliberately chosen to scan an ip address that Red Agent doesn't know about. Although randomly guessing an ip address to scan is possible in the real world, we have decided it is out of scope for Scenario1b and so this action will always fail. If you want to expose your agent to the action space, you should filter out all parameters with False values first."
   ]
  },
  {
   "cell_type": "code",
   "execution_count": 11,
   "metadata": {},
   "outputs": [
    {
     "name": "stdout",
     "output_type": "stream",
     "text": [
      "{'success': <TrinaryEnum.FALSE: 3>}\n"
     ]
    }
   ],
   "source": [
    "results = env.step(action=action,agent='Red')\n",
    "print(results.observation)"
   ]
  },
  {
   "cell_type": "markdown",
   "metadata": {},
   "source": [
    "### Red Actions"
   ]
  },
  {
   "cell_type": "markdown",
   "metadata": {},
   "source": [
    "We will now take a detailed look at Red Team's actions and understand what they do. Red's actions are listed below."
   ]
  },
  {
   "cell_type": "code",
   "execution_count": 12,
   "metadata": {},
   "outputs": [
    {
     "name": "stdout",
     "output_type": "stream",
     "text": [
      "['Sleep',\n",
      " 'DiscoverRemoteSystems',\n",
      " 'DiscoverNetworkServices',\n",
      " 'ExploitRemoteService',\n",
      " 'BlueKeep',\n",
      " 'EternalBlue',\n",
      " 'FTPDirectoryTraversal',\n",
      " 'HarakaRCE',\n",
      " 'HTTPRFI',\n",
      " 'HTTPSRFI',\n",
      " 'SQLInjection',\n",
      " 'PrivilegeEscalate',\n",
      " 'Impact',\n",
      " 'SSHBruteForce']\n"
     ]
    }
   ],
   "source": [
    "pprint([action.__name__ for action in actions if actions[action]])"
   ]
  },
  {
   "cell_type": "markdown",
   "metadata": {},
   "source": [
    "The Sleep action does nothing and requires no parameters."
   ]
  },
  {
   "cell_type": "code",
   "execution_count": 13,
   "metadata": {},
   "outputs": [
    {
     "name": "stdout",
     "output_type": "stream",
     "text": [
      "{'success': <TrinaryEnum.UNKNOWN: 2>}\n"
     ]
    }
   ],
   "source": [
    "from CybORG.Shared.Actions import *\n",
    "\n",
    "action = Sleep()\n",
    "results = env.step(action=action,agent='Red')\n",
    "print(results.observation)"
   ]
  },
  {
   "cell_type": "markdown",
   "metadata": {},
   "source": [
    "The DiscoverRemoteSystems action represents a ping sweep and takes in a subnet parameter to return all ips active on that subnet. Note how we pull the "
   ]
  },
  {
   "cell_type": "code",
   "execution_count": 14,
   "metadata": {},
   "outputs": [
    {
     "name": "stdout",
     "output_type": "stream",
     "text": [
      "{'10.0.119.69': {'Interface': [{'IP Address': IPv4Address('10.0.119.69'),\n",
      "                                'Subnet': IPv4Network('10.0.119.64/28')}]},\n",
      " '10.0.119.71': {'Interface': [{'IP Address': IPv4Address('10.0.119.71'),\n",
      "                                'Subnet': IPv4Network('10.0.119.64/28')}]},\n",
      " '10.0.119.73': {'Interface': [{'IP Address': IPv4Address('10.0.119.73'),\n",
      "                                'Subnet': IPv4Network('10.0.119.64/28')}]},\n",
      " '10.0.119.74': {'Interface': [{'IP Address': IPv4Address('10.0.119.74'),\n",
      "                                'Subnet': IPv4Network('10.0.119.64/28')}]},\n",
      " '10.0.119.78': {'Interface': [{'IP Address': IPv4Address('10.0.119.78'),\n",
      "                                'Subnet': IPv4Network('10.0.119.64/28')}]},\n",
      " 'success': <TrinaryEnum.TRUE: 1>}\n"
     ]
    }
   ],
   "source": [
    "subnets = action_space['subnet']\n",
    "known_subnets = [subnet for subnet in subnets if subnets[subnet]]\n",
    "subnet = known_subnets[0]\n",
    "\n",
    "action = DiscoverRemoteSystems(subnet = subnet, session=0,agent='Red')\n",
    "results = env.step(action=action,agent='Red')\n",
    "pprint(results.observation)"
   ]
  },
  {
   "cell_type": "markdown",
   "metadata": {},
   "source": [
    "The DiscoverNetworkServices action represents a port scan and takes in an ip address parameter to return a list of open ports and their respective services. These will be represented in the observation as new connections. The Red team must have discovered the ip address using the DiscoverRemoteSystems action in order for this action to succeed."
   ]
  },
  {
   "cell_type": "code",
   "execution_count": 15,
   "metadata": {},
   "outputs": [
    {
     "ename": "KeyError",
     "evalue": "'10.0.119.69'",
     "output_type": "error",
     "traceback": [
      "\u001b[0;31m---------------------------------------------------------------------------\u001b[0m",
      "\u001b[0;31mKeyError\u001b[0m                                  Traceback (most recent call last)",
      "\u001b[0;32m/tmp/ipykernel_34359/144754979.py\u001b[0m in \u001b[0;36m<module>\u001b[0;34m\u001b[0m\n\u001b[1;32m      3\u001b[0m \u001b[0maction\u001b[0m \u001b[0;34m=\u001b[0m \u001b[0mDiscoverNetworkServices\u001b[0m\u001b[0;34m(\u001b[0m\u001b[0mip_address\u001b[0m\u001b[0;34m=\u001b[0m\u001b[0mip\u001b[0m\u001b[0;34m,\u001b[0m\u001b[0msession\u001b[0m\u001b[0;34m=\u001b[0m\u001b[0;36m0\u001b[0m\u001b[0;34m,\u001b[0m\u001b[0magent\u001b[0m\u001b[0;34m=\u001b[0m\u001b[0;34m'Red'\u001b[0m\u001b[0;34m)\u001b[0m\u001b[0;34m\u001b[0m\u001b[0;34m\u001b[0m\u001b[0m\n\u001b[1;32m      4\u001b[0m \u001b[0;34m\u001b[0m\u001b[0m\n\u001b[0;32m----> 5\u001b[0;31m \u001b[0mresults\u001b[0m \u001b[0;34m=\u001b[0m \u001b[0menv\u001b[0m\u001b[0;34m.\u001b[0m\u001b[0mstep\u001b[0m\u001b[0;34m(\u001b[0m\u001b[0maction\u001b[0m\u001b[0;34m=\u001b[0m\u001b[0maction\u001b[0m\u001b[0;34m,\u001b[0m\u001b[0magent\u001b[0m\u001b[0;34m=\u001b[0m\u001b[0;34m'Red'\u001b[0m\u001b[0;34m)\u001b[0m\u001b[0;34m\u001b[0m\u001b[0;34m\u001b[0m\u001b[0m\n\u001b[0m\u001b[1;32m      6\u001b[0m \u001b[0mpprint\u001b[0m\u001b[0;34m(\u001b[0m\u001b[0mresults\u001b[0m\u001b[0;34m.\u001b[0m\u001b[0mobservation\u001b[0m\u001b[0;34m)\u001b[0m\u001b[0;34m\u001b[0m\u001b[0;34m\u001b[0m\u001b[0m\n",
      "\u001b[0;32m~/u75a-Data-Efficient-Decisions/CybORG/CybORG/CybORG.py\u001b[0m in \u001b[0;36mstep\u001b[0;34m(self, agent, action, skip_valid_action_check)\u001b[0m\n\u001b[1;32m    102\u001b[0m             \u001b[0mthe\u001b[0m \u001b[0mresult\u001b[0m \u001b[0mof\u001b[0m \u001b[0magent\u001b[0m \u001b[0mperforming\u001b[0m \u001b[0mthe\u001b[0m \u001b[0maction\u001b[0m\u001b[0;34m\u001b[0m\u001b[0;34m\u001b[0m\u001b[0m\n\u001b[1;32m    103\u001b[0m         \"\"\"\n\u001b[0;32m--> 104\u001b[0;31m         \u001b[0mobs_dict\u001b[0m \u001b[0;34m=\u001b[0m \u001b[0mself\u001b[0m\u001b[0;34m.\u001b[0m\u001b[0menvironment_controller\u001b[0m\u001b[0;34m.\u001b[0m\u001b[0mstep\u001b[0m\u001b[0;34m(\u001b[0m\u001b[0magent\u001b[0m\u001b[0;34m,\u001b[0m \u001b[0maction\u001b[0m\u001b[0;34m,\u001b[0m \u001b[0mskip_valid_action_check\u001b[0m\u001b[0;34m)\u001b[0m\u001b[0;34m\u001b[0m\u001b[0;34m\u001b[0m\u001b[0m\n\u001b[0m\u001b[1;32m    105\u001b[0m         \u001b[0;31m# self.true_obs = self.environment_controller.get_true_state_sequences()\u001b[0m\u001b[0;34m\u001b[0m\u001b[0;34m\u001b[0m\u001b[0;34m\u001b[0m\u001b[0m\n\u001b[1;32m    106\u001b[0m         \u001b[0;32mreturn\u001b[0m \u001b[0mobs_dict\u001b[0m\u001b[0;34m\u001b[0m\u001b[0;34m\u001b[0m\u001b[0m\n",
      "\u001b[0;32m~/u75a-Data-Efficient-Decisions/CybORG/CybORG/Shared/EnvironmentController.py\u001b[0m in \u001b[0;36mstep\u001b[0;34m(self, agent, action, skip_valid_action_check)\u001b[0m\n\u001b[1;32m    505\u001b[0m                 \u001b[0magent_object\u001b[0m\u001b[0;34m.\u001b[0m\u001b[0mupdate\u001b[0m\u001b[0;34m(\u001b[0m\u001b[0mself\u001b[0m\u001b[0;34m.\u001b[0m\u001b[0mobservation\u001b[0m\u001b[0;34m[\u001b[0m\u001b[0magent_name\u001b[0m\u001b[0;34m]\u001b[0m\u001b[0;34m)\u001b[0m\u001b[0;34m\u001b[0m\u001b[0;34m\u001b[0m\u001b[0m\n\u001b[1;32m    506\u001b[0m                 \u001b[0mself\u001b[0m\u001b[0;34m.\u001b[0m\u001b[0mafterstate\u001b[0m\u001b[0;34m.\u001b[0m\u001b[0mlast_action\u001b[0m \u001b[0;34m=\u001b[0m \u001b[0mself\u001b[0m\u001b[0;34m.\u001b[0m\u001b[0mget_last_action\u001b[0m\u001b[0;34m(\u001b[0m\u001b[0magent_name\u001b[0m\u001b[0;34m)\u001b[0m\u001b[0;34m\u001b[0m\u001b[0;34m\u001b[0m\u001b[0m\n\u001b[0;32m--> 507\u001b[0;31m                 \u001b[0mafterstate_vector\u001b[0m \u001b[0;34m=\u001b[0m \u001b[0mself\u001b[0m\u001b[0;34m.\u001b[0m\u001b[0mafterstate\u001b[0m\u001b[0;34m.\u001b[0m\u001b[0mobservation_change\u001b[0m\u001b[0;34m(\u001b[0m\u001b[0mself\u001b[0m\u001b[0;34m.\u001b[0m\u001b[0mobservation\u001b[0m\u001b[0;34m[\u001b[0m\u001b[0magent\u001b[0m\u001b[0;34m]\u001b[0m\u001b[0;34m.\u001b[0m\u001b[0mdata\u001b[0m\u001b[0;34m)\u001b[0m\u001b[0;34m\u001b[0m\u001b[0;34m\u001b[0m\u001b[0m\n\u001b[0m\u001b[1;32m    508\u001b[0m                 \u001b[0;31m#print('After Action: ', afterstate_vector)\u001b[0m\u001b[0;34m\u001b[0m\u001b[0;34m\u001b[0m\u001b[0;34m\u001b[0m\u001b[0m\n\u001b[1;32m    509\u001b[0m \u001b[0;34m\u001b[0m\u001b[0m\n",
      "\u001b[0;32m~/u75a-Data-Efficient-Decisions/CybORG/CybORG/Shared/EnvironmentController.py\u001b[0m in \u001b[0;36mobservation_change\u001b[0;34m(self, observation, baseline)\u001b[0m\n\u001b[1;32m     44\u001b[0m \u001b[0;34m\u001b[0m\u001b[0m\n\u001b[1;32m     45\u001b[0m         \u001b[0mself\u001b[0m\u001b[0;34m.\u001b[0m\u001b[0m_process_last_action\u001b[0m\u001b[0;34m(\u001b[0m\u001b[0;34m)\u001b[0m\u001b[0;34m\u001b[0m\u001b[0;34m\u001b[0m\u001b[0m\n\u001b[0;32m---> 46\u001b[0;31m         \u001b[0manomaly_obs\u001b[0m \u001b[0;34m=\u001b[0m \u001b[0mself\u001b[0m\u001b[0;34m.\u001b[0m\u001b[0m_detect_anomalies\u001b[0m\u001b[0;34m(\u001b[0m\u001b[0mobs\u001b[0m\u001b[0;34m)\u001b[0m \u001b[0;32mif\u001b[0m \u001b[0;32mnot\u001b[0m \u001b[0mbaseline\u001b[0m \u001b[0;32melse\u001b[0m \u001b[0mobs\u001b[0m\u001b[0;34m\u001b[0m\u001b[0;34m\u001b[0m\u001b[0m\n\u001b[0m\u001b[1;32m     47\u001b[0m         \u001b[0;32mdel\u001b[0m \u001b[0mobs\u001b[0m\u001b[0;34m[\u001b[0m\u001b[0;34m'success'\u001b[0m\u001b[0;34m]\u001b[0m\u001b[0;34m\u001b[0m\u001b[0;34m\u001b[0m\u001b[0m\n\u001b[1;32m     48\u001b[0m         \u001b[0;31m# TODO check what info is for baseline\u001b[0m\u001b[0;34m\u001b[0m\u001b[0;34m\u001b[0m\u001b[0;34m\u001b[0m\u001b[0m\n",
      "\u001b[0;32m~/u75a-Data-Efficient-Decisions/CybORG/CybORG/Shared/EnvironmentController.py\u001b[0m in \u001b[0;36m_detect_anomalies\u001b[0;34m(self, obs)\u001b[0m\n\u001b[1;32m     97\u001b[0m                 \u001b[0;32mcontinue\u001b[0m\u001b[0;34m\u001b[0m\u001b[0;34m\u001b[0m\u001b[0m\n\u001b[1;32m     98\u001b[0m \u001b[0;34m\u001b[0m\u001b[0m\n\u001b[0;32m---> 99\u001b[0;31m             \u001b[0mhost_baseline\u001b[0m \u001b[0;34m=\u001b[0m \u001b[0mself\u001b[0m\u001b[0;34m.\u001b[0m\u001b[0mbaseline\u001b[0m\u001b[0;34m[\u001b[0m\u001b[0mhostid\u001b[0m\u001b[0;34m]\u001b[0m\u001b[0;34m\u001b[0m\u001b[0;34m\u001b[0m\u001b[0m\n\u001b[0m\u001b[1;32m    100\u001b[0m             \u001b[0;32mif\u001b[0m \u001b[0mhost\u001b[0m \u001b[0;34m==\u001b[0m \u001b[0mhost_baseline\u001b[0m\u001b[0;34m:\u001b[0m\u001b[0;34m\u001b[0m\u001b[0;34m\u001b[0m\u001b[0m\n\u001b[1;32m    101\u001b[0m                 \u001b[0;32mcontinue\u001b[0m\u001b[0;34m\u001b[0m\u001b[0;34m\u001b[0m\u001b[0m\n",
      "\u001b[0;31mKeyError\u001b[0m: '10.0.119.69'"
     ]
    }
   ],
   "source": [
    "known_ips = [ip for ip in ips if ips[ip]]\n",
    "ip = random.choice(known_ips)\n",
    "action = DiscoverNetworkServices(ip_address=ip,session=0,agent='Red')\n",
    "\n",
    "results = env.step(action=action,agent='Red')\n",
    "pprint(results.observation)"
   ]
  },
  {
   "cell_type": "markdown",
   "metadata": {},
   "source": [
    "The ExploitRemoteService represents the use of a service exploit to obtain a reverse shell on the host. It requires an ip address as an input parameter and creates a new shell on the target host. \n",
    "\n",
    "CybORG actually models several different types of real-world exploits and this action chooses between them depending on the services available and the operating system of the host. This action will only ever succeed if the host's ip address has been discovered by Red team.\n",
    "\n",
    "Usually the shell created by this action will be a shell with user privileges, but some exploits, such as EternalBlue, give SYSTEM access to a windows machine. In this case, performing the Privilege Escalation action afterwards is unnecessary, although our rules-based agents always will."
   ]
  },
  {
   "cell_type": "code",
   "execution_count": null,
   "metadata": {},
   "outputs": [
    {
     "name": "stdout",
     "output_type": "stream",
     "text": [
      "{'10.0.157.26': {'Interface': [{'IP Address': IPv4Address('10.0.157.26')}],\n",
      "                 'Processes': [{'Connections': [{'local_address': IPv4Address('10.0.157.26'),\n",
      "                                                 'local_port': 4444,\n",
      "                                                 'remote_address': IPv4Address('10.0.157.28'),\n",
      "                                                 'remote_port': 57248}],\n",
      "                                'Process Type': <ProcessType.REVERSE_SESSION_HANDLER: 10>}]},\n",
      " '10.0.157.28': {'Interface': [{'IP Address': IPv4Address('10.0.157.28')}],\n",
      "                 'Processes': [{'Connections': [{'local_address': IPv4Address('10.0.157.28'),\n",
      "                                                 'local_port': 57248,\n",
      "                                                 'remote_address': IPv4Address('10.0.157.26'),\n",
      "                                                 'remote_port': 4444}],\n",
      "                                'Process Type': <ProcessType.REVERSE_SESSION: 11>},\n",
      "                               {'Connections': [{'Status': <ProcessState.OPEN: 2>,\n",
      "                                                 'local_address': IPv4Address('10.0.157.28'),\n",
      "                                                 'local_port': 443}],\n",
      "                                'Process Type': <ProcessType.WEBSERVER: 7>}],\n",
      "                 'Sessions': [{'Agent': 'Red',\n",
      "                               'ID': 1,\n",
      "                               'Type': <SessionType.RED_REVERSE_SHELL: 11>}],\n",
      "                 'System info': {'Hostname': 'User4',\n",
      "                                 'OSType': <OperatingSystemType.LINUX: 3>}},\n",
      " 'success': <TrinaryEnum.TRUE: 1>}\n"
     ]
    }
   ],
   "source": [
    "action = ExploitRemoteService(ip_address=ip,session=0,agent='Red')\n",
    "\n",
    "results = env.step(action=action,agent='Red')\n",
    "pprint(results.observation)"
   ]
  },
  {
   "cell_type": "markdown",
   "metadata": {},
   "source": [
    "The PrivilegeEscalate represents the use of malware to establish a privileged shell with root (Linux) or SYSTEM (Windows) privileges. This action requires a user shell to be on the target host.\n",
    "\n",
    "This action has the potential to reveals information about hosts on other subnets, which can then be scanned and exploited."
   ]
  },
  {
   "cell_type": "code",
   "execution_count": null,
   "metadata": {},
   "outputs": [
    {
     "name": "stdout",
     "output_type": "stream",
     "text": [
      "{'Enterprise0': {'Interface': [{'IP Address': IPv4Address('10.0.111.22')}]},\n",
      " 'User4': {'Interface': [{'IP Address': IPv4Address('10.0.157.28'),\n",
      "                          'Interface Name': 'eth0',\n",
      "                          'Subnet': IPv4Network('10.0.157.16/28')}],\n",
      "           'Sessions': [{'Agent': 'Red',\n",
      "                         'ID': 1,\n",
      "                         'Type': <SessionType.RED_REVERSE_SHELL: 11>,\n",
      "                         'Username': 'root'}]},\n",
      " 'success': <TrinaryEnum.TRUE: 1>}\n"
     ]
    }
   ],
   "source": [
    "hostname = results.observation[str(ip)]['System info']['Hostname']\n",
    "action = PrivilegeEscalate(hostname=hostname,session=0,agent='Red')\n",
    "\n",
    "results = env.step(action=action,agent='Red')\n",
    "pprint(results.observation)"
   ]
  },
  {
   "cell_type": "markdown",
   "metadata": {},
   "source": [
    "The Impact action represents the degredation of services. It requires a hostname input parameter, but will only work on the 'OpServer0' host on the Operational subnet and needs to be continually run in order to have an ongoing effect."
   ]
  },
  {
   "cell_type": "code",
   "execution_count": 17,
   "metadata": {},
   "outputs": [
    {
     "ename": "KeyError",
     "evalue": "'10.0.130.203'",
     "output_type": "error",
     "traceback": [
      "\u001b[0;31m---------------------------------------------------------------------------\u001b[0m",
      "\u001b[0;31mKeyError\u001b[0m                                  Traceback (most recent call last)",
      "\u001b[0;32m/tmp/ipykernel_34359/2022673607.py\u001b[0m in \u001b[0;36m<module>\u001b[0;34m\u001b[0m\n\u001b[1;32m      8\u001b[0m \u001b[0;32mwhile\u001b[0m \u001b[0;32mTrue\u001b[0m\u001b[0;34m:\u001b[0m\u001b[0;34m\u001b[0m\u001b[0;34m\u001b[0m\u001b[0m\n\u001b[1;32m      9\u001b[0m     \u001b[0maction\u001b[0m \u001b[0;34m=\u001b[0m \u001b[0magent\u001b[0m\u001b[0;34m.\u001b[0m\u001b[0mget_action\u001b[0m\u001b[0;34m(\u001b[0m\u001b[0mobs\u001b[0m\u001b[0;34m,\u001b[0m\u001b[0maction_space\u001b[0m\u001b[0;34m)\u001b[0m\u001b[0;34m\u001b[0m\u001b[0;34m\u001b[0m\u001b[0m\n\u001b[0;32m---> 10\u001b[0;31m     \u001b[0mresults\u001b[0m \u001b[0;34m=\u001b[0m \u001b[0menv\u001b[0m\u001b[0;34m.\u001b[0m\u001b[0mstep\u001b[0m\u001b[0;34m(\u001b[0m\u001b[0maction\u001b[0m\u001b[0;34m=\u001b[0m\u001b[0maction\u001b[0m\u001b[0;34m,\u001b[0m\u001b[0magent\u001b[0m\u001b[0;34m=\u001b[0m\u001b[0;34m'Red'\u001b[0m\u001b[0;34m)\u001b[0m\u001b[0;34m\u001b[0m\u001b[0;34m\u001b[0m\u001b[0m\n\u001b[0m\u001b[1;32m     11\u001b[0m     \u001b[0mobs\u001b[0m \u001b[0;34m=\u001b[0m \u001b[0mresults\u001b[0m\u001b[0;34m.\u001b[0m\u001b[0mobservation\u001b[0m\u001b[0;34m\u001b[0m\u001b[0;34m\u001b[0m\u001b[0m\n\u001b[1;32m     12\u001b[0m \u001b[0;34m\u001b[0m\u001b[0m\n",
      "\u001b[0;32m~/u75a-Data-Efficient-Decisions/CybORG/CybORG/CybORG.py\u001b[0m in \u001b[0;36mstep\u001b[0;34m(self, agent, action, skip_valid_action_check)\u001b[0m\n\u001b[1;32m    102\u001b[0m             \u001b[0mthe\u001b[0m \u001b[0mresult\u001b[0m \u001b[0mof\u001b[0m \u001b[0magent\u001b[0m \u001b[0mperforming\u001b[0m \u001b[0mthe\u001b[0m \u001b[0maction\u001b[0m\u001b[0;34m\u001b[0m\u001b[0;34m\u001b[0m\u001b[0m\n\u001b[1;32m    103\u001b[0m         \"\"\"\n\u001b[0;32m--> 104\u001b[0;31m         \u001b[0mobs_dict\u001b[0m \u001b[0;34m=\u001b[0m \u001b[0mself\u001b[0m\u001b[0;34m.\u001b[0m\u001b[0menvironment_controller\u001b[0m\u001b[0;34m.\u001b[0m\u001b[0mstep\u001b[0m\u001b[0;34m(\u001b[0m\u001b[0magent\u001b[0m\u001b[0;34m,\u001b[0m \u001b[0maction\u001b[0m\u001b[0;34m,\u001b[0m \u001b[0mskip_valid_action_check\u001b[0m\u001b[0;34m)\u001b[0m\u001b[0;34m\u001b[0m\u001b[0;34m\u001b[0m\u001b[0m\n\u001b[0m\u001b[1;32m    105\u001b[0m         \u001b[0;31m# self.true_obs = self.environment_controller.get_true_state_sequences()\u001b[0m\u001b[0;34m\u001b[0m\u001b[0;34m\u001b[0m\u001b[0;34m\u001b[0m\u001b[0m\n\u001b[1;32m    106\u001b[0m         \u001b[0;32mreturn\u001b[0m \u001b[0mobs_dict\u001b[0m\u001b[0;34m\u001b[0m\u001b[0;34m\u001b[0m\u001b[0m\n",
      "\u001b[0;32m~/u75a-Data-Efficient-Decisions/CybORG/CybORG/Shared/EnvironmentController.py\u001b[0m in \u001b[0;36mstep\u001b[0;34m(self, agent, action, skip_valid_action_check)\u001b[0m\n\u001b[1;32m    505\u001b[0m                 \u001b[0magent_object\u001b[0m\u001b[0;34m.\u001b[0m\u001b[0mupdate\u001b[0m\u001b[0;34m(\u001b[0m\u001b[0mself\u001b[0m\u001b[0;34m.\u001b[0m\u001b[0mobservation\u001b[0m\u001b[0;34m[\u001b[0m\u001b[0magent_name\u001b[0m\u001b[0;34m]\u001b[0m\u001b[0;34m)\u001b[0m\u001b[0;34m\u001b[0m\u001b[0;34m\u001b[0m\u001b[0m\n\u001b[1;32m    506\u001b[0m                 \u001b[0mself\u001b[0m\u001b[0;34m.\u001b[0m\u001b[0mafterstate\u001b[0m\u001b[0;34m.\u001b[0m\u001b[0mlast_action\u001b[0m \u001b[0;34m=\u001b[0m \u001b[0mself\u001b[0m\u001b[0;34m.\u001b[0m\u001b[0mget_last_action\u001b[0m\u001b[0;34m(\u001b[0m\u001b[0magent_name\u001b[0m\u001b[0;34m)\u001b[0m\u001b[0;34m\u001b[0m\u001b[0;34m\u001b[0m\u001b[0m\n\u001b[0;32m--> 507\u001b[0;31m                 \u001b[0mafterstate_vector\u001b[0m \u001b[0;34m=\u001b[0m \u001b[0mself\u001b[0m\u001b[0;34m.\u001b[0m\u001b[0mafterstate\u001b[0m\u001b[0;34m.\u001b[0m\u001b[0mobservation_change\u001b[0m\u001b[0;34m(\u001b[0m\u001b[0mself\u001b[0m\u001b[0;34m.\u001b[0m\u001b[0mobservation\u001b[0m\u001b[0;34m[\u001b[0m\u001b[0magent\u001b[0m\u001b[0;34m]\u001b[0m\u001b[0;34m.\u001b[0m\u001b[0mdata\u001b[0m\u001b[0;34m)\u001b[0m\u001b[0;34m\u001b[0m\u001b[0;34m\u001b[0m\u001b[0m\n\u001b[0m\u001b[1;32m    508\u001b[0m                 \u001b[0;31m#print('After Action: ', afterstate_vector)\u001b[0m\u001b[0;34m\u001b[0m\u001b[0;34m\u001b[0m\u001b[0;34m\u001b[0m\u001b[0m\n\u001b[1;32m    509\u001b[0m \u001b[0;34m\u001b[0m\u001b[0m\n",
      "\u001b[0;32m~/u75a-Data-Efficient-Decisions/CybORG/CybORG/Shared/EnvironmentController.py\u001b[0m in \u001b[0;36mobservation_change\u001b[0;34m(self, observation, baseline)\u001b[0m\n\u001b[1;32m     44\u001b[0m \u001b[0;34m\u001b[0m\u001b[0m\n\u001b[1;32m     45\u001b[0m         \u001b[0mself\u001b[0m\u001b[0;34m.\u001b[0m\u001b[0m_process_last_action\u001b[0m\u001b[0;34m(\u001b[0m\u001b[0;34m)\u001b[0m\u001b[0;34m\u001b[0m\u001b[0;34m\u001b[0m\u001b[0m\n\u001b[0;32m---> 46\u001b[0;31m         \u001b[0manomaly_obs\u001b[0m \u001b[0;34m=\u001b[0m \u001b[0mself\u001b[0m\u001b[0;34m.\u001b[0m\u001b[0m_detect_anomalies\u001b[0m\u001b[0;34m(\u001b[0m\u001b[0mobs\u001b[0m\u001b[0;34m)\u001b[0m \u001b[0;32mif\u001b[0m \u001b[0;32mnot\u001b[0m \u001b[0mbaseline\u001b[0m \u001b[0;32melse\u001b[0m \u001b[0mobs\u001b[0m\u001b[0;34m\u001b[0m\u001b[0;34m\u001b[0m\u001b[0m\n\u001b[0m\u001b[1;32m     47\u001b[0m         \u001b[0;32mdel\u001b[0m \u001b[0mobs\u001b[0m\u001b[0;34m[\u001b[0m\u001b[0;34m'success'\u001b[0m\u001b[0;34m]\u001b[0m\u001b[0;34m\u001b[0m\u001b[0;34m\u001b[0m\u001b[0m\n\u001b[1;32m     48\u001b[0m         \u001b[0;31m# TODO check what info is for baseline\u001b[0m\u001b[0;34m\u001b[0m\u001b[0;34m\u001b[0m\u001b[0;34m\u001b[0m\u001b[0m\n",
      "\u001b[0;32m~/u75a-Data-Efficient-Decisions/CybORG/CybORG/Shared/EnvironmentController.py\u001b[0m in \u001b[0;36m_detect_anomalies\u001b[0;34m(self, obs)\u001b[0m\n\u001b[1;32m     97\u001b[0m                 \u001b[0;32mcontinue\u001b[0m\u001b[0;34m\u001b[0m\u001b[0;34m\u001b[0m\u001b[0m\n\u001b[1;32m     98\u001b[0m \u001b[0;34m\u001b[0m\u001b[0m\n\u001b[0;32m---> 99\u001b[0;31m             \u001b[0mhost_baseline\u001b[0m \u001b[0;34m=\u001b[0m \u001b[0mself\u001b[0m\u001b[0;34m.\u001b[0m\u001b[0mbaseline\u001b[0m\u001b[0;34m[\u001b[0m\u001b[0mhostid\u001b[0m\u001b[0;34m]\u001b[0m\u001b[0;34m\u001b[0m\u001b[0;34m\u001b[0m\u001b[0m\n\u001b[0m\u001b[1;32m    100\u001b[0m             \u001b[0;32mif\u001b[0m \u001b[0mhost\u001b[0m \u001b[0;34m==\u001b[0m \u001b[0mhost_baseline\u001b[0m\u001b[0;34m:\u001b[0m\u001b[0;34m\u001b[0m\u001b[0;34m\u001b[0m\u001b[0m\n\u001b[1;32m    101\u001b[0m                 \u001b[0;32mcontinue\u001b[0m\u001b[0;34m\u001b[0m\u001b[0;34m\u001b[0m\u001b[0m\n",
      "\u001b[0;31mKeyError\u001b[0m: '10.0.130.203'"
     ]
    }
   ],
   "source": [
    "from CybORG.Agents import B_lineAgent\n",
    "\n",
    "results = env.reset(agent='Red')\n",
    "obs = results.observation\n",
    "action_space = results.action_space\n",
    "agent = B_lineAgent()\n",
    "\n",
    "while True:\n",
    "    action = agent.get_action(obs,action_space)\n",
    "    results = env.step(action=action,agent='Red')\n",
    "    obs = results.observation\n",
    "    \n",
    "    if action.__class__.__name__ == 'Impact':\n",
    "        print(action)\n",
    "        print(obs)\n",
    "        break"
   ]
  },
  {
   "cell_type": "markdown",
   "metadata": {},
   "source": [
    "## Blue Actions"
   ]
  },
  {
   "cell_type": "markdown",
   "metadata": {},
   "source": [
    "We will now take a look at Blue Team's actions and how they interact with those of Red Team."
   ]
  },
  {
   "cell_type": "code",
   "execution_count": 18,
   "metadata": {},
   "outputs": [
    {
     "name": "stdout",
     "output_type": "stream",
     "text": [
      "['Sleep', 'Monitor', 'Analyse', 'Remove', 'Restore']\n"
     ]
    }
   ],
   "source": [
    "env = CybORG(path, 'sim',agents={'Red':B_lineAgent})\n",
    "results = env.reset('Blue')\n",
    "actions = results.action_space['action']\n",
    "\n",
    "pprint([action.__name__ for action in actions if actions[action]])"
   ]
  },
  {
   "cell_type": "markdown",
   "metadata": {},
   "source": [
    "Similar to Red Team, the sleep action for Blue Team has no effect. However, like all Blue Team actions it does have passive monitoring capabilities as explained in the observation tutorial."
   ]
  },
  {
   "cell_type": "code",
   "execution_count": null,
   "metadata": {},
   "outputs": [
    {
     "name": "stdout",
     "output_type": "stream",
     "text": [
      "{'User1': {'Interface': [{'IP Address': IPv4Address('10.0.220.218')}],\n",
      "           'Processes': [{'Connections': [{'local_address': IPv4Address('10.0.220.218'),\n",
      "                                           'local_port': 21,\n",
      "                                           'remote_address': IPv4Address('10.0.220.216'),\n",
      "                                           'remote_port': 54985}]},\n",
      "                         {'Connections': [{'local_address': IPv4Address('10.0.220.218'),\n",
      "                                           'local_port': 52950,\n",
      "                                           'remote_address': IPv4Address('10.0.220.216'),\n",
      "                                           'remote_port': 4444}],\n",
      "                          'PID': 31060}],\n",
      "           'System info': {'Architecture': <Architecture.x64: 2>,\n",
      "                           'Hostname': 'User1',\n",
      "                           'OSDistribution': <OperatingSystemDistribution.WINDOWS_SVR_2008: 4>,\n",
      "                           'OSType': <OperatingSystemType.WINDOWS: 2>,\n",
      "                           'OSVersion': <OperatingSystemVersion.W6_1_7601: 13>}},\n",
      " 'success': <TrinaryEnum.UNKNOWN: 2>}\n"
     ]
    }
   ],
   "source": [
    "action = Sleep()\n",
    "\n",
    "for i in range(4):\n",
    "    results = env.step(action=action,agent='Blue')\n",
    "    obs = results.observation\n",
    "    if i == 2:\n",
    "        # The particular obs we want\n",
    "        pprint(obs)"
   ]
  },
  {
   "cell_type": "markdown",
   "metadata": {},
   "source": [
    "As explained by the Observation Tutorial, the Analyse action can detect malware files on a single host. This mimics the use of a malware-detection tool such as DensityScout. Like all of Blue's actions, it requires a hostname parameter.\n",
    "\n",
    "We can see below that the action discovers malware on 'User1' as well as the passive monitoring picking up an exploit used Enterprise 1."
   ]
  },
  {
   "cell_type": "code",
   "execution_count": null,
   "metadata": {},
   "outputs": [
    {
     "name": "stdout",
     "output_type": "stream",
     "text": [
      "{'User1': {'Files': [{'Density': 0.9,\n",
      "                      'File Name': 'cmd.exe',\n",
      "                      'Known File': <FileType.UNKNOWN: 1>,\n",
      "                      'Known Path': <Path.TEMP: 5>,\n",
      "                      'Path': 'C:\\\\temp\\\\',\n",
      "                      'Signed': False}]},\n",
      " 'success': <TrinaryEnum.TRUE: 1>}\n"
     ]
    }
   ],
   "source": [
    "action = Analyse(hostname='User1',session=0,agent='Blue')\n",
    "\n",
    "for i in range(2):\n",
    "    results = env.step(action=action,agent='Blue')\n",
    "    obs = results.observation\n",
    "    if i == 1:\n",
    "        pprint(obs)"
   ]
  },
  {
   "cell_type": "markdown",
   "metadata": {},
   "source": [
    "The Remove action allows Blue Team to remove any of Red's user-level shells, simulating the act of killing it as a process. It will not remove a privileged shell. This is because privileged shells in Scenario1b are assumed to be persistent, meaning that if you remove them they will immediately come back.\n",
    "\n",
    "We can see below that the Red agent attempts to PrivilegeEscalate, but this fails as its shell has been killed. The next turn it has to re-exploit the machine. Notice the use of the get_last_action method to work out what Red's last move was."
   ]
  },
  {
   "cell_type": "code",
   "execution_count": null,
   "metadata": {},
   "outputs": [
    {
     "name": "stdout",
     "output_type": "stream",
     "text": [
      "{'User1': {'Interface': [{'IP Address': IPv4Address('10.0.220.218')}],\n",
      "           'Processes': [{'Connections': [{'local_address': IPv4Address('10.0.220.218'),\n",
      "                                           'local_port': 21,\n",
      "                                           'remote_address': IPv4Address('10.0.220.216'),\n",
      "                                           'remote_port': 51386}]},\n",
      "                         {'Connections': [{'local_address': IPv4Address('10.0.220.218'),\n",
      "                                           'local_port': 54259,\n",
      "                                           'remote_address': IPv4Address('10.0.220.216'),\n",
      "                                           'remote_port': 4444}],\n",
      "                          'PID': 23162}],\n",
      "           'System info': {'Architecture': <Architecture.x64: 2>,\n",
      "                           'Hostname': 'User1',\n",
      "                           'OSDistribution': <OperatingSystemDistribution.WINDOWS_SVR_2008: 4>,\n",
      "                           'OSType': <OperatingSystemType.WINDOWS: 2>,\n",
      "                           'OSVersion': <OperatingSystemVersion.W6_1_7601: 13>}},\n",
      " 'success': <TrinaryEnum.TRUE: 1>}\n",
      "-------------------------------------------------------------------------\n",
      "ExploitRemoteService 10.0.220.218\n",
      "*************************************************************************\n",
      "{'success': <TrinaryEnum.TRUE: 1>}\n",
      "-------------------------------------------------------------------------\n",
      "PrivilegeEscalate User1\n",
      "*************************************************************************\n"
     ]
    }
   ],
   "source": [
    "action = Remove(hostname='Enterprise1', session=0, agent='Blue')\n",
    "\n",
    "for i in range(2):\n",
    "    results = env.step(action=action,agent='Blue')\n",
    "    obs = results.observation\n",
    "    pprint(obs)\n",
    "    print(73*'-')\n",
    "    print(env.get_last_action('Red'))\n",
    "    print(73*'*')"
   ]
  },
  {
   "cell_type": "markdown",
   "metadata": {},
   "source": [
    "The Restore action represents reverting the system to a known baseline. This will restore a host to the state it was at the beginning of the game. This will wipe all of Red's shells away, with the notable exception of Red's starting host 'User0', which has been baselined into the system. Although Restore is more powerful than Remove, it necessarily causes some disruption on the network so has a large negative penalty associated by using it.\n",
    "\n",
    "Below we can see that the Analyse action detects malware on 'User1', but this disappears after restore has been used."
   ]
  },
  {
   "cell_type": "code",
   "execution_count": null,
   "metadata": {},
   "outputs": [
    {
     "name": "stdout",
     "output_type": "stream",
     "text": [
      "{'User1': {'Files': [{'Density': 0.9,\n",
      "                      'File Name': 'cmd.exe',\n",
      "                      'Known File': <FileType.UNKNOWN: 1>,\n",
      "                      'Known Path': <Path.TEMP: 5>,\n",
      "                      'Path': 'C:\\\\temp\\\\',\n",
      "                      'Signed': False}]},\n",
      " 'success': <TrinaryEnum.TRUE: 1>}\n",
      "{'success': <TrinaryEnum.TRUE: 1>}\n",
      "{'success': <TrinaryEnum.TRUE: 1>}\n"
     ]
    }
   ],
   "source": [
    "for i in range(10):\n",
    "    env.step() # So Red's actions don't interfere\n",
    "\n",
    "action = Analyse(hostname='User1', session=0, agent='Blue')\n",
    "results = env.step(action=action,agent='Blue')\n",
    "obs = results.observation\n",
    "pprint(obs)\n",
    "    \n",
    "action = Restore(hostname='User1', session=0, agent='Blue')\n",
    "results = env.step(action=action,agent='Blue')\n",
    "obs = results.observation\n",
    "pprint(obs)\n",
    "\n",
    "action = Analyse(hostname='User1', session=0, agent='Blue')\n",
    "obs = results.observation\n",
    "pprint(obs)"
   ]
  },
  {
   "cell_type": "markdown",
   "metadata": {},
   "source": [
    "### Miscellany"
   ]
  },
  {
   "cell_type": "markdown",
   "metadata": {},
   "source": [
    "If you create an action that doesn't make any sense within the current scenario, CybORG will accept it, but automatically convert it to an Invalid Action. These actions automatically give a reward of -0.1."
   ]
  },
  {
   "cell_type": "code",
   "execution_count": null,
   "metadata": {},
   "outputs": [
    {
     "name": "stdout",
     "output_type": "stream",
     "text": [
      "InvalidAction\n",
      "-13.1\n"
     ]
    }
   ],
   "source": [
    "action = Analyse(hostname = \"Uncle Ted's Macbook\", session = 1.1, agent='Cyan')\n",
    "\n",
    "results = env.step(action=action,agent='Blue')\n",
    "\n",
    "print(results.action)\n",
    "print(results.reward)"
   ]
  },
  {
   "cell_type": "code",
   "execution_count": 22,
   "metadata": {},
   "outputs": [
    {
     "data": {
      "text/plain": [
       "array([ 0,  7, 14, 21, 28, 35, 42, 49, 56, 63])"
      ]
     },
     "execution_count": 22,
     "metadata": {},
     "output_type": "execute_result"
    }
   ],
   "source": [
    "import numpy as np\n",
    "count = np.arange(70)\n",
    "count[np.arange(70,step=7)]"
   ]
  },
  {
   "cell_type": "code",
   "execution_count": 28,
   "metadata": {},
   "outputs": [
    {
     "data": {
      "text/plain": [
       "13"
      ]
     },
     "execution_count": 28,
     "metadata": {},
     "output_type": "execute_result"
    }
   ],
   "source": [
    "np.arange(4,91,step=7).size"
   ]
  }
 ],
 "metadata": {
  "kernelspec": {
   "display_name": "Python 3",
   "language": "python",
   "name": "python3"
  },
  "language_info": {
   "codemirror_mode": {
    "name": "ipython",
    "version": 3
   },
   "file_extension": ".py",
   "mimetype": "text/x-python",
   "name": "python",
   "nbconvert_exporter": "python",
   "pygments_lexer": "ipython3",
   "version": "3.8.16"
  }
 },
 "nbformat": 4,
 "nbformat_minor": 4
}
