{
 "cells": [
  {
   "cell_type": "code",
   "execution_count": 15,
   "metadata": {},
   "outputs": [],
   "source": [
    "from ray.rllib.offline.json_reader import JsonReader\n",
    "import numpy as np\n",
    "import tensorflow as tf\n",
    "from tqdm import trange, tqdm\n",
    "import matplotlib.pyplot as plt"
   ]
  },
  {
   "cell_type": "code",
   "execution_count": 16,
   "metadata": {},
   "outputs": [
    {
     "name": "stderr",
     "output_type": "stream",
     "text": [
      "2022-12-19 15:42:33,884\tWARNING json_reader.py:146 -- Treating input directory as glob patterns: ['/tf/Cage/Notebooks/logs/APPO/RE3/*.json', '/tf/Cage/Notebooks/logs/APPO/RE3/*.zip']\n"
     ]
    }
   ],
   "source": [
    "input_reader = JsonReader(\"logs/APPO/RE3\")"
   ]
  },
  {
   "cell_type": "code",
   "execution_count": 17,
   "metadata": {},
   "outputs": [
    {
     "name": "stderr",
     "output_type": "stream",
     "text": [
      "100%|██████████| 2000/2000 [00:31<00:00, 63.47it/s]\n"
     ]
    }
   ],
   "source": [
    "sequence_length=3\n",
    "num_episodes = 2000\n",
    "windows_per_episode = 100-sequence_length\n",
    "state_len = 52\n",
    "num_action = 1\n",
    "encoding_len = state_len + num_action\n",
    "\n",
    "data_points = num_episodes * windows_per_episode\n",
    "\n",
    "X = np.zeros((data_points,sequence_length,encoding_len))\n",
    "Y = np.zeros((data_points,state_len))\n",
    "\n",
    "index = 0\n",
    "for e in trange(num_episodes):\n",
    "    data = input_reader.next()\n",
    "    for i in range(0, windows_per_episode):\n",
    "        r = data['reward'][i]\n",
    "        if i < sequence_length:\n",
    "            s = np.zeros((sequence_length, encoding_len))\n",
    "            for k in range(0,i):\n",
    "                s[k,:] = np.concatenate([data['obs'][k], np.zeros(num_action)])\n",
    "        else:\n",
    "            #vec = np.zeros((sequence_length, num_action))\n",
    "            #vec[np.arange(sequence_length),data['actions'][i-sequence_length:i]] = 1\n",
    "            vec = np.array(data['actions'][i-sequence_length:i]) / 145\n",
    "            vec = vec.reshape(sequence_length,1)\n",
    "            s = np.concatenate([data['obs'][i-sequence_length:i], vec], axis=1)\n",
    "            \n",
    "        X[index,:,:] = s\n",
    "        Y[index,:] = ns\n",
    "        index += 1"
   ]
  },
  {
   "cell_type": "code",
   "execution_count": 18,
   "metadata": {},
   "outputs": [
    {
     "name": "stderr",
     "output_type": "stream",
     "text": [
      "100%|██████████| 198000/198000 [00:01<00:00, 153958.45it/s]\n"
     ]
    },
    {
     "name": "stdout",
     "output_type": "stream",
     "text": [
      "5\n",
      "[0. 0. 0. 0. 1. 1. 0. 1. 0. 0. 0. 0. 0. 0. 0. 0. 0. 0. 0. 0. 0. 0. 0. 0.\n",
      " 0. 0. 0. 0. 0. 0. 0. 0. 0. 0. 0. 0. 0. 0. 0. 0. 0. 0. 0. 0. 0. 0. 0. 0.\n",
      " 0. 0. 0. 1.]\n",
      "41\n",
      "[0. 0. 0. 0. 1. 0. 0. 0. 0. 0. 0. 0. 0. 0. 0. 0. 0. 0. 0. 0. 0. 0. 0. 0.\n",
      " 0. 0. 0. 0. 0. 0. 0. 0. 0. 0. 0. 0. 0. 0. 0. 0. 0. 0. 0. 0. 0. 0. 0. 0.\n",
      " 0. 0. 0. 1.]\n",
      "7\n",
      "[0. 0. 0. 0. 0. 0. 0. 0. 0. 0. 0. 0. 0. 0. 0. 0. 0. 0. 0. 0. 0. 0. 0. 0.\n",
      " 0. 0. 0. 0. 0. 0. 0. 0. 0. 0. 0. 0. 0. 0. 0. 0. 0. 0. 0. 0. 0. 0. 0. 0.\n",
      " 1. 0. 0. 1.]\n",
      "4\n",
      "[0. 0. 0. 0. 1. 0. 0. 0. 0. 0. 0. 0. 1. 0. 0. 0. 0. 0. 0. 0. 0. 0. 0. 0.\n",
      " 0. 0. 0. 0. 0. 0. 0. 0. 0. 0. 0. 0. 0. 0. 0. 0. 0. 0. 0. 0. 0. 0. 0. 0.\n",
      " 0. 0. 0. 1.]\n",
      "4\n",
      "[0. 0. 0. 0. 0. 0. 0. 0. 0. 0. 0. 0. 1. 0. 0. 0. 0. 0. 0. 0. 0. 0. 0. 0.\n",
      " 0. 0. 0. 0. 0. 0. 0. 0. 0. 0. 0. 0. 0. 0. 0. 0. 0. 0. 0. 0. 0. 0. 0. 0.\n",
      " 1. 1. 0. 1.]\n",
      "6\n",
      "[0. 0. 0. 0. 1. 0. 0. 0. 0. 0. 0. 0. 0. 0. 0. 0. 0. 0. 0. 0. 0. 0. 0. 0.\n",
      " 0. 0. 0. 0. 0. 0. 0. 0. 0. 0. 0. 0. 0. 0. 0. 0. 0. 0. 0. 0. 0. 0. 0. 0.\n",
      " 1. 0. 0. 1.]\n",
      "13\n",
      "[0. 0. 0. 0. 1. 0. 0. 0. 0. 0. 0. 0. 0. 0. 0. 0. 0. 0. 0. 0. 0. 0. 0. 0.\n",
      " 0. 0. 0. 0. 0. 0. 0. 0. 0. 0. 0. 0. 0. 0. 0. 0. 0. 0. 0. 0. 1. 0. 0. 0.\n",
      " 0. 0. 0. 1.]\n",
      "2\n",
      "[0. 0. 0. 0. 0. 0. 0. 0. 0. 0. 0. 0. 0. 0. 0. 0. 0. 0. 0. 0. 0. 0. 0. 0.\n",
      " 0. 0. 0. 0. 0. 0. 0. 0. 1. 0. 0. 0. 0. 0. 0. 0. 0. 0. 0. 0. 0. 0. 0. 0.\n",
      " 1. 1. 0. 1.]\n",
      "3\n",
      "[0. 0. 0. 0. 1. 0. 0. 0. 0. 0. 0. 0. 0. 0. 0. 0. 0. 0. 0. 0. 0. 0. 0. 0.\n",
      " 0. 0. 0. 0. 0. 0. 0. 0. 0. 0. 0. 0. 0. 0. 0. 0. 1. 0. 0. 0. 0. 0. 0. 0.\n",
      " 0. 0. 0. 1.]\n",
      "4\n",
      "[0. 0. 0. 0. 1. 0. 0. 0. 0. 0. 0. 0. 0. 0. 0. 0. 0. 0. 0. 0. 0. 0. 0. 0.\n",
      " 0. 0. 0. 0. 0. 0. 0. 0. 1. 0. 0. 0. 0. 0. 0. 0. 0. 0. 0. 0. 0. 0. 0. 0.\n",
      " 0. 0. 0. 1.]\n",
      "6\n",
      "[0. 0. 0. 0. 1. 0. 0. 0. 0. 0. 0. 0. 0. 0. 0. 0. 0. 0. 0. 0. 0. 0. 0. 0.\n",
      " 0. 0. 0. 0. 0. 0. 0. 0. 0. 0. 0. 0. 1. 0. 0. 0. 0. 0. 0. 0. 0. 0. 0. 0.\n",
      " 0. 0. 0. 1.]\n",
      "5\n",
      "[0. 0. 0. 0. 0. 0. 0. 0. 0. 0. 0. 0. 0. 0. 0. 0. 0. 0. 0. 0. 0. 0. 0. 0.\n",
      " 0. 0. 0. 0. 0. 0. 0. 0. 0. 0. 0. 0. 1. 0. 0. 0. 0. 0. 0. 0. 0. 0. 0. 0.\n",
      " 1. 1. 0. 1.]\n",
      "28\n",
      "[0. 0. 0. 0. 0. 0. 0. 0. 0. 0. 0. 0. 0. 0. 0. 0. 0. 0. 0. 0. 0. 0. 0. 0.\n",
      " 0. 0. 0. 0. 0. 0. 0. 0. 0. 0. 0. 0. 0. 0. 0. 0. 0. 0. 0. 0. 0. 0. 0. 0.\n",
      " 1. 1. 0. 1.]\n",
      "6\n",
      "[0. 0. 0. 0. 0. 0. 0. 0. 0. 0. 0. 0. 0. 0. 0. 0. 0. 0. 0. 0. 0. 0. 0. 0.\n",
      " 0. 0. 0. 0. 0. 0. 0. 0. 0. 0. 0. 0. 0. 0. 0. 0. 1. 0. 0. 0. 0. 0. 0. 0.\n",
      " 1. 1. 0. 1.]\n",
      "2\n",
      "[0. 0. 0. 0. 0. 0. 0. 0. 0. 0. 0. 0. 0. 0. 0. 0. 0. 0. 0. 0. 0. 0. 0. 0.\n",
      " 0. 0. 0. 0. 0. 0. 0. 0. 0. 0. 0. 0. 0. 0. 0. 0. 0. 0. 0. 0. 0. 0. 0. 0.\n",
      " 0. 0. 0. 1.]\n",
      "1\n",
      "[0. 0. 0. 0. 0. 0. 0. 0. 0. 0. 0. 0. 0. 0. 0. 0. 0. 0. 0. 0. 0. 0. 0. 0.\n",
      " 0. 0. 0. 0. 0. 0. 0. 0. 1. 0. 0. 0. 0. 0. 0. 0. 0. 0. 0. 0. 0. 0. 0. 0.\n",
      " 0. 0. 0. 1.]\n",
      "2\n",
      "[0. 0. 0. 0. 1. 1. 0. 1. 0. 0. 0. 0. 0. 0. 0. 0. 0. 0. 0. 0. 0. 0. 0. 0.\n",
      " 0. 0. 0. 0. 0. 0. 0. 0. 0. 0. 0. 0. 0. 0. 0. 0. 0. 0. 0. 0. 1. 0. 0. 0.\n",
      " 0. 0. 0. 1.]\n",
      "2\n",
      "[0. 0. 0. 0. 1. 0. 0. 0. 1. 0. 0. 0. 0. 0. 0. 0. 0. 0. 0. 0. 0. 0. 0. 0.\n",
      " 0. 0. 0. 0. 0. 0. 0. 0. 0. 0. 0. 0. 0. 0. 0. 0. 0. 0. 0. 0. 0. 0. 0. 0.\n",
      " 0. 0. 0. 1.]\n",
      "2\n",
      "[0. 0. 0. 0. 0. 0. 0. 0. 0. 0. 0. 0. 0. 0. 0. 0. 0. 0. 0. 0. 0. 0. 0. 0.\n",
      " 0. 0. 0. 0. 0. 0. 0. 0. 0. 0. 0. 0. 0. 0. 0. 0. 0. 0. 0. 0. 1. 0. 0. 0.\n",
      " 1. 1. 0. 1.]\n",
      "2\n",
      "[0. 0. 0. 0. 1. 0. 0. 0. 0. 0. 0. 0. 0. 0. 0. 0. 0. 0. 0. 0. 0. 0. 0. 0.\n",
      " 0. 0. 0. 0. 0. 0. 0. 0. 0. 0. 0. 0. 0. 0. 0. 0. 0. 0. 0. 0. 0. 0. 0. 0.\n",
      " 1. 1. 0. 1.]\n",
      "1\n",
      "[0. 0. 0. 0. 0. 0. 0. 0. 0. 0. 0. 0. 0. 0. 0. 0. 0. 0. 0. 0. 0. 0. 0. 0.\n",
      " 0. 0. 0. 0. 0. 0. 0. 0. 0. 0. 0. 0. 0. 0. 0. 0. 1. 0. 0. 0. 0. 0. 0. 0.\n",
      " 0. 0. 0. 1.]\n",
      "1\n",
      "[0. 0. 0. 0. 1. 1. 0. 1. 1. 0. 0. 0. 0. 0. 0. 0. 0. 0. 0. 0. 0. 0. 0. 0.\n",
      " 0. 0. 0. 0. 0. 0. 0. 0. 0. 0. 0. 0. 0. 0. 0. 0. 0. 0. 0. 0. 0. 0. 0. 0.\n",
      " 0. 0. 0. 1.]\n",
      "1\n",
      "[0. 0. 0. 0. 0. 0. 0. 0. 1. 0. 0. 0. 0. 0. 0. 0. 0. 0. 0. 0. 0. 0. 0. 0.\n",
      " 0. 0. 0. 0. 0. 0. 0. 0. 0. 0. 0. 0. 0. 0. 0. 0. 0. 0. 0. 0. 0. 0. 0. 0.\n",
      " 1. 1. 0. 1.]\n",
      "23\n"
     ]
    }
   ],
   "source": [
    "new_state = {}\n",
    "for i, matrix in enumerate(tqdm(X)):\n",
    "    if (X[10]==matrix).all():\n",
    "        if not Y[i,:].tobytes() in new_state:\n",
    "            new_state[Y[i,:].tobytes()] = 1\n",
    "        else:\n",
    "            new_state[Y[i,:].tobytes()] += 1\n",
    "            \n",
    "ns = {k: v for k, v in sorted(new_state.items(), key=lambda item: item[1], reverse=True)}\n",
    "            \n",
    "for s in new_state.keys():\n",
    "    print(new_state[s])\n",
    "    print(np.frombuffer(s))\n",
    "\n",
    "print(len(new_state.keys()))"
   ]
  },
  {
   "cell_type": "code",
   "execution_count": 19,
   "metadata": {},
   "outputs": [
    {
     "data": {
      "image/png": "[encoded data removed]",
      "text/plain": [
       "<Figure size 640x480 with 1 Axes>"
      ]
     },
     "metadata": {},
     "output_type": "display_data"
    }
   ],
   "source": [
    "ns = {k: v for k, v in sorted(new_state.items(), key=lambda item: item[1], reverse=True)}\n",
    "\n",
    "values = []\n",
    "for s in ns.keys():\n",
    "    values.append(ns[s])\n",
    "y_pos = np.arange(4)\n",
    "\n",
    "values = np.array(values) / sum(values)\n",
    "\n",
    "# Create bars\n",
    "plt.title('State Transitions from state-action sequence at t=1. Sequence Length = 3.')\n",
    "plt.xlabel('States')\n",
    "plt.ylabel('Observed Distribution %')\n",
    "plt.bar(y_pos, values[:4])\n",
    "plt.show()"
   ]
  },
  {
   "cell_type": "code",
   "execution_count": 80,
   "metadata": {},
   "outputs": [
    {
     "data": {
      "text/plain": [
       "array([1.])"
      ]
     },
     "execution_count": 80,
     "metadata": {},
     "output_type": "execute_result"
    }
   ],
   "source": [
    "values"
   ]
  },
  {
   "cell_type": "code",
   "execution_count": 20,
   "metadata": {
    "scrolled": true
   },
   "outputs": [
    {
     "name": "stdout",
     "output_type": "stream",
     "text": [
      "WARNING:tensorflow:Layer lstm will not use cuDNN kernels since it doesn't meet the criteria. It will use a generic GPU kernel as fallback when running on GPU.\n",
      "WARNING:tensorflow:From /usr/local/lib/python3.8/dist-packages/tensorflow/python/ops/init_ops.py:93: calling GlorotUniform.__init__ (from tensorflow.python.ops.init_ops) with dtype is deprecated and will be removed in a future version.\n",
      "Instructions for updating:\n",
      "Call initializer instance with the dtype argument instead of passing it to the constructor\n",
      "WARNING:tensorflow:From /usr/local/lib/python3.8/dist-packages/tensorflow/python/ops/init_ops.py:93: calling Orthogonal.__init__ (from tensorflow.python.ops.init_ops) with dtype is deprecated and will be removed in a future version.\n",
      "Instructions for updating:\n",
      "Call initializer instance with the dtype argument instead of passing it to the constructor\n",
      "WARNING:tensorflow:From /usr/local/lib/python3.8/dist-packages/tensorflow/python/ops/init_ops.py:93: calling Zeros.__init__ (from tensorflow.python.ops.init_ops) with dtype is deprecated and will be removed in a future version.\n",
      "Instructions for updating:\n",
      "Call initializer instance with the dtype argument instead of passing it to the constructor\n",
      "WARNING:tensorflow:Layer lstm will not use cuDNN kernels since it doesn't meet the criteria. It will use a generic GPU kernel as fallback when running on GPU.\n",
      "WARNING:tensorflow:Layer lstm will not use cuDNN kernels since it doesn't meet the criteria. It will use a generic GPU kernel as fallback when running on GPU.\n",
      "Model: \"sequential\"\n",
      "_________________________________________________________________\n",
      " Layer (type)                Output Shape              Param #   \n",
      "=================================================================\n",
      " bidirectional (Bidirectiona  (None, 1, 512)           634880    \n",
      " l)                                                              \n",
      "                                                                 \n",
      " flatten (Flatten)           (None, 512)               0         \n",
      "                                                                 \n",
      " dense (Dense)               (None, 512)               262656    \n",
      "                                                                 \n",
      " dense_1 (Dense)             (None, 512)               262656    \n",
      "                                                                 \n",
      " dense_2 (Dense)             (None, 512)               262656    \n",
      "                                                                 \n",
      " dense_3 (Dense)             (None, 52)                26676     \n",
      "                                                                 \n",
      "=================================================================\n",
      "Total params: 1,449,524\n",
      "Trainable params: 1,449,524\n",
      "Non-trainable params: 0\n",
      "_________________________________________________________________\n",
      "None\n",
      "Train on 178200 samples, validate on 19800 samples\n",
      "WARNING:tensorflow:OMP_NUM_THREADS is no longer used by the default Keras config. To configure the number of threads, use tf.config.threading APIs.\n",
      "Epoch 1/250\n",
      "176128/178200 [============================>.] - ETA: 0s - loss: 0.0372 - accuracy: 3.0616e-04"
     ]
    },
    {
     "name": "stderr",
     "output_type": "stream",
     "text": [
      "/usr/local/lib/python3.8/dist-packages/keras/engine/training_v1.py:2057: UserWarning: `Model.state_updates` will be removed in a future version. This property should not be used in TensorFlow 2.0, as `updates` are applied automatically.\n",
      "  updates = self.state_updates\n"
     ]
    },
    {
     "name": "stdout",
     "output_type": "stream",
     "text": [
      "178200/178200 [==============================] - 5s 26us/sample - loss: 0.0371 - accuracy: 3.0260e-04 - val_loss: 0.0254 - val_accuracy: 0.0000e+00\n",
      "Epoch 2/250\n",
      "178200/178200 [==============================] - 3s 20us/sample - loss: 0.0244 - accuracy: 0.0000e+00 - val_loss: 0.0235 - val_accuracy: 0.0000e+00\n",
      "Epoch 3/250\n",
      "178200/178200 [==============================] - 4s 20us/sample - loss: 0.0233 - accuracy: 0.0000e+00 - val_loss: 0.0237 - val_accuracy: 0.0000e+00\n",
      "Epoch 4/250\n",
      "178200/178200 [==============================] - 4s 20us/sample - loss: 0.0231 - accuracy: 0.0000e+00 - val_loss: 0.0234 - val_accuracy: 0.0000e+00\n",
      "Epoch 5/250\n",
      "178200/178200 [==============================] - 4s 20us/sample - loss: 0.0229 - accuracy: 0.0000e+00 - val_loss: 0.0231 - val_accuracy: 0.0000e+00\n",
      "Epoch 6/250\n",
      "178200/178200 [==============================] - 4s 20us/sample - loss: 0.0228 - accuracy: 0.0000e+00 - val_loss: 0.0232 - val_accuracy: 0.0000e+00\n",
      "Epoch 7/250\n",
      "178200/178200 [==============================] - 4s 20us/sample - loss: 0.0228 - accuracy: 0.0000e+00 - val_loss: 0.0231 - val_accuracy: 0.0000e+00\n",
      "Epoch 8/250\n",
      "178200/178200 [==============================] - 4s 20us/sample - loss: 0.0227 - accuracy: 0.0000e+00 - val_loss: 0.0232 - val_accuracy: 0.0000e+00\n",
      "Epoch 9/250\n",
      "178200/178200 [==============================] - 4s 20us/sample - loss: 0.0227 - accuracy: 0.0000e+00 - val_loss: 0.0232 - val_accuracy: 0.0000e+00\n",
      "Epoch 10/250\n",
      "178200/178200 [==============================] - 4s 20us/sample - loss: 0.0226 - accuracy: 0.0000e+00 - val_loss: 0.0230 - val_accuracy: 0.0000e+00\n",
      "Epoch 11/250\n",
      "178200/178200 [==============================] - 4s 20us/sample - loss: 0.0226 - accuracy: 0.0000e+00 - val_loss: 0.0231 - val_accuracy: 0.0000e+00\n",
      "Epoch 12/250\n",
      "178200/178200 [==============================] - 4s 20us/sample - loss: 0.0225 - accuracy: 0.0000e+00 - val_loss: 0.0231 - val_accuracy: 0.0000e+00\n",
      "Epoch 13/250\n",
      "178200/178200 [==============================] - 3s 20us/sample - loss: 0.0225 - accuracy: 0.0000e+00 - val_loss: 0.0232 - val_accuracy: 0.0000e+00\n",
      "Epoch 14/250\n",
      "178200/178200 [==============================] - 4s 20us/sample - loss: 0.0224 - accuracy: 0.0000e+00 - val_loss: 0.0231 - val_accuracy: 0.0000e+00\n",
      "Epoch 15/250\n",
      "178200/178200 [==============================] - 4s 20us/sample - loss: 0.0224 - accuracy: 1.0792e-07 - val_loss: 0.0233 - val_accuracy: 0.0000e+00\n",
      "Epoch 16/250\n",
      "178200/178200 [==============================] - 4s 20us/sample - loss: 0.0223 - accuracy: 3.2375e-07 - val_loss: 0.0230 - val_accuracy: 0.0000e+00\n",
      "Epoch 17/250\n",
      "178200/178200 [==============================] - 4s 21us/sample - loss: 0.0223 - accuracy: 3.2375e-07 - val_loss: 0.0230 - val_accuracy: 0.0000e+00\n",
      "Epoch 18/250\n",
      "178200/178200 [==============================] - 4s 20us/sample - loss: 0.0222 - accuracy: 2.1583e-07 - val_loss: 0.0231 - val_accuracy: 0.0000e+00\n",
      "Epoch 19/250\n",
      "178200/178200 [==============================] - 4s 20us/sample - loss: 0.0222 - accuracy: 5.3958e-07 - val_loss: 0.0231 - val_accuracy: 0.0000e+00\n",
      "Epoch 20/250\n",
      "178200/178200 [==============================] - 3s 20us/sample - loss: 0.0221 - accuracy: 1.0792e-07 - val_loss: 0.0231 - val_accuracy: 0.0000e+00\n",
      "Epoch 21/250\n",
      "178200/178200 [==============================] - 4s 20us/sample - loss: 0.0221 - accuracy: 4.3167e-07 - val_loss: 0.0230 - val_accuracy: 0.0000e+00\n",
      "Epoch 22/250\n",
      "178200/178200 [==============================] - 4s 20us/sample - loss: 0.0221 - accuracy: 4.3167e-07 - val_loss: 0.0231 - val_accuracy: 0.0000e+00\n",
      "Epoch 23/250\n",
      "178200/178200 [==============================] - 4s 20us/sample - loss: 0.0220 - accuracy: 1.4029e-06 - val_loss: 0.0231 - val_accuracy: 0.0000e+00\n",
      "Epoch 24/250\n",
      "178200/178200 [==============================] - 4s 20us/sample - loss: 0.0220 - accuracy: 1.7267e-06 - val_loss: 0.0230 - val_accuracy: 0.0000e+00\n",
      "Epoch 25/250\n",
      "178200/178200 [==============================] - 4s 20us/sample - loss: 0.0219 - accuracy: 2.9138e-06 - val_loss: 0.0230 - val_accuracy: 0.0000e+00\n",
      "Epoch 26/250\n",
      "178200/178200 [==============================] - 4s 20us/sample - loss: 0.0219 - accuracy: 2.1583e-06 - val_loss: 0.0232 - val_accuracy: 0.0000e+00\n",
      "Epoch 27/250\n",
      "178200/178200 [==============================] - 4s 20us/sample - loss: 0.0219 - accuracy: 4.3167e-06 - val_loss: 0.0231 - val_accuracy: 0.0000e+00\n",
      "Epoch 28/250\n",
      "178200/178200 [==============================] - 4s 20us/sample - loss: 0.0218 - accuracy: 4.9642e-06 - val_loss: 0.0232 - val_accuracy: 0.0000e+00\n",
      "Epoch 29/250\n",
      "178200/178200 [==============================] - 4s 20us/sample - loss: 0.0218 - accuracy: 8.7413e-06 - val_loss: 0.0233 - val_accuracy: 0.0000e+00\n",
      "Epoch 30/250\n",
      "178200/178200 [==============================] - 3s 20us/sample - loss: 0.0218 - accuracy: 1.0792e-05 - val_loss: 0.0232 - val_accuracy: 0.0000e+00\n",
      "Epoch 31/250\n",
      "178200/178200 [==============================] - 4s 20us/sample - loss: 0.0217 - accuracy: 1.0468e-05 - val_loss: 0.0231 - val_accuracy: 9.7125e-07\n",
      "Epoch 32/250\n",
      "178200/178200 [==============================] - 4s 20us/sample - loss: 0.0217 - accuracy: 1.5540e-05 - val_loss: 0.0233 - val_accuracy: 0.0000e+00\n",
      "Epoch 33/250\n",
      "178200/178200 [==============================] - 4s 20us/sample - loss: 0.0217 - accuracy: 1.8562e-05 - val_loss: 0.0232 - val_accuracy: 1.9425e-06\n",
      "Epoch 34/250\n",
      "178200/178200 [==============================] - 4s 22us/sample - loss: 0.0216 - accuracy: 2.4389e-05 - val_loss: 0.0232 - val_accuracy: 5.8275e-06\n",
      "Epoch 35/250\n",
      "178200/178200 [==============================] - 4s 20us/sample - loss: 0.0216 - accuracy: 2.7627e-05 - val_loss: 0.0232 - val_accuracy: 4.8563e-06\n",
      "Epoch 36/250\n",
      "178200/178200 [==============================] - 4s 20us/sample - loss: 0.0216 - accuracy: 4.1872e-05 - val_loss: 0.0234 - val_accuracy: 3.8850e-06\n",
      "Epoch 37/250\n",
      "178200/178200 [==============================] - 4s 20us/sample - loss: 0.0215 - accuracy: 4.0900e-05 - val_loss: 0.0232 - val_accuracy: 6.7988e-06\n",
      "Epoch 38/250\n",
      "178200/178200 [==============================] - 4s 20us/sample - loss: 0.0215 - accuracy: 4.8455e-05 - val_loss: 0.0232 - val_accuracy: 5.8275e-06\n",
      "Epoch 39/250\n",
      "178200/178200 [==============================] - 4s 20us/sample - loss: 0.0215 - accuracy: 5.1800e-05 - val_loss: 0.0234 - val_accuracy: 6.7988e-06\n",
      "Epoch 40/250\n",
      "178200/178200 [==============================] - 4s 20us/sample - loss: 0.0215 - accuracy: 6.5074e-05 - val_loss: 0.0233 - val_accuracy: 1.3598e-05\n",
      "Epoch 41/250\n",
      "178200/178200 [==============================] - 3s 19us/sample - loss: 0.0214 - accuracy: 7.6405e-05 - val_loss: 0.0233 - val_accuracy: 1.3598e-05\n",
      "Epoch 42/250\n",
      "178200/178200 [==============================] - 4s 20us/sample - loss: 0.0214 - accuracy: 8.4930e-05 - val_loss: 0.0234 - val_accuracy: 1.8454e-05\n",
      "Epoch 43/250\n",
      "178200/178200 [==============================] - 4s 20us/sample - loss: 0.0214 - accuracy: 9.8528e-05 - val_loss: 0.0232 - val_accuracy: 3.5936e-05\n",
      "Epoch 44/250\n",
      "178200/178200 [==============================] - 4s 20us/sample - loss: 0.0213 - accuracy: 1.1040e-04 - val_loss: 0.0233 - val_accuracy: 2.5253e-05\n",
      "Epoch 45/250\n",
      "178200/178200 [==============================] - 4s 20us/sample - loss: 0.0213 - accuracy: 1.1385e-04 - val_loss: 0.0234 - val_accuracy: 3.2051e-05\n",
      "Epoch 46/250\n",
      "178200/178200 [==============================] - 4s 20us/sample - loss: 0.0213 - accuracy: 1.2864e-04 - val_loss: 0.0233 - val_accuracy: 4.3706e-05\n",
      "Epoch 47/250\n",
      "178200/178200 [==============================] - 4s 20us/sample - loss: 0.0212 - accuracy: 1.3900e-04 - val_loss: 0.0234 - val_accuracy: 5.2448e-05\n",
      "Epoch 48/250\n",
      "178200/178200 [==============================] - 3s 19us/sample - loss: 0.0212 - accuracy: 1.5378e-04 - val_loss: 0.0234 - val_accuracy: 4.2735e-05\n",
      "Epoch 49/250\n",
      "178200/178200 [==============================] - 3s 19us/sample - loss: 0.0212 - accuracy: 1.7180e-04 - val_loss: 0.0235 - val_accuracy: 4.8563e-05\n",
      "Epoch 50/250\n",
      "178200/178200 [==============================] - 3s 19us/sample - loss: 0.0212 - accuracy: 1.7903e-04 - val_loss: 0.0234 - val_accuracy: 6.5074e-05\n",
      "Epoch 51/250\n",
      "178200/178200 [==============================] - 4s 20us/sample - loss: 0.0211 - accuracy: 2.0623e-04 - val_loss: 0.0233 - val_accuracy: 5.3419e-05\n",
      "Epoch 52/250\n"
     ]
    },
    {
     "name": "stdout",
     "output_type": "stream",
     "text": [
      "178200/178200 [==============================] - 4s 20us/sample - loss: 0.0211 - accuracy: 2.1529e-04 - val_loss: 0.0234 - val_accuracy: 7.6729e-05\n",
      "Epoch 53/250\n",
      "178200/178200 [==============================] - 3s 20us/sample - loss: 0.0211 - accuracy: 2.2490e-04 - val_loss: 0.0235 - val_accuracy: 6.6045e-05\n",
      "Epoch 54/250\n",
      "178200/178200 [==============================] - 4s 20us/sample - loss: 0.0211 - accuracy: 2.2328e-04 - val_loss: 0.0234 - val_accuracy: 8.0614e-05\n",
      "Epoch 55/250\n",
      "178200/178200 [==============================] - 4s 20us/sample - loss: 0.0211 - accuracy: 2.4486e-04 - val_loss: 0.0234 - val_accuracy: 6.5074e-05\n",
      "Epoch 56/250\n",
      "178200/178200 [==============================] - 4s 20us/sample - loss: 0.0210 - accuracy: 2.6267e-04 - val_loss: 0.0234 - val_accuracy: 1.1072e-04\n",
      "Epoch 57/250\n",
      "178200/178200 [==============================] - 4s 20us/sample - loss: 0.0210 - accuracy: 2.7853e-04 - val_loss: 0.0235 - val_accuracy: 1.0101e-04\n",
      "Epoch 58/250\n",
      "178200/178200 [==============================] - 4s 20us/sample - loss: 0.0210 - accuracy: 2.9343e-04 - val_loss: 0.0235 - val_accuracy: 1.0198e-04\n",
      "Epoch 59/250\n",
      "178200/178200 [==============================] - 4s 20us/sample - loss: 0.0210 - accuracy: 3.1069e-04 - val_loss: 0.0235 - val_accuracy: 1.2918e-04\n",
      "Epoch 60/250\n",
      "178200/178200 [==============================] - 3s 19us/sample - loss: 0.0210 - accuracy: 3.5666e-04 - val_loss: 0.0235 - val_accuracy: 1.6997e-04\n",
      "Epoch 61/250\n",
      "178200/178200 [==============================] - 4s 20us/sample - loss: 0.0210 - accuracy: 3.5828e-04 - val_loss: 0.0236 - val_accuracy: 1.2238e-04\n",
      "Epoch 62/250\n",
      "178200/178200 [==============================] - 3s 20us/sample - loss: 0.0209 - accuracy: 3.6519e-04 - val_loss: 0.0235 - val_accuracy: 1.6220e-04\n",
      "Epoch 63/250\n",
      "178200/178200 [==============================] - 3s 20us/sample - loss: 0.0209 - accuracy: 3.7350e-04 - val_loss: 0.0236 - val_accuracy: 1.5929e-04\n",
      "Epoch 64/250\n",
      "178200/178200 [==============================] - 4s 20us/sample - loss: 0.0209 - accuracy: 4.0123e-04 - val_loss: 0.0236 - val_accuracy: 1.9619e-04\n",
      "Epoch 65/250\n",
      "178200/178200 [==============================] - 4s 20us/sample - loss: 0.0209 - accuracy: 4.1980e-04 - val_loss: 0.0236 - val_accuracy: 1.4860e-04\n",
      "Epoch 66/250\n",
      "178200/178200 [==============================] - 4s 20us/sample - loss: 0.0209 - accuracy: 4.2811e-04 - val_loss: 0.0236 - val_accuracy: 1.9716e-04\n",
      "Epoch 67/250\n",
      "178200/178200 [==============================] - 4s 20us/sample - loss: 0.0208 - accuracy: 4.5724e-04 - val_loss: 0.0236 - val_accuracy: 2.0008e-04\n",
      "Epoch 68/250\n",
      "178200/178200 [==============================] - 4s 20us/sample - loss: 0.0208 - accuracy: 4.7710e-04 - val_loss: 0.0234 - val_accuracy: 1.5734e-04\n",
      "Epoch 69/250\n",
      "178200/178200 [==============================] - 4s 20us/sample - loss: 0.0208 - accuracy: 4.8055e-04 - val_loss: 0.0237 - val_accuracy: 2.0882e-04\n",
      "Epoch 70/250\n",
      "178200/178200 [==============================] - 4s 20us/sample - loss: 0.0208 - accuracy: 5.1843e-04 - val_loss: 0.0237 - val_accuracy: 2.2727e-04\n",
      "Epoch 71/250\n",
      "178200/178200 [==============================] - 4s 20us/sample - loss: 0.0208 - accuracy: 5.4466e-04 - val_loss: 0.0237 - val_accuracy: 3.0983e-04\n",
      "Epoch 72/250\n",
      "178200/178200 [==============================] - 4s 20us/sample - loss: 0.0208 - accuracy: 5.6225e-04 - val_loss: 0.0236 - val_accuracy: 2.7195e-04\n",
      "Epoch 73/250\n",
      "178200/178200 [==============================] - 4s 20us/sample - loss: 0.0208 - accuracy: 5.5728e-04 - val_loss: 0.0235 - val_accuracy: 2.3019e-04\n",
      "Epoch 74/250\n",
      "178200/178200 [==============================] - 4s 20us/sample - loss: 0.0208 - accuracy: 5.6268e-04 - val_loss: 0.0236 - val_accuracy: 2.6030e-04\n",
      "Epoch 75/250\n",
      "178200/178200 [==============================] - 4s 20us/sample - loss: 0.0207 - accuracy: 5.4563e-04 - val_loss: 0.0236 - val_accuracy: 2.3213e-04\n",
      "Epoch 76/250\n",
      "178200/178200 [==============================] - 4s 20us/sample - loss: 0.0207 - accuracy: 5.4951e-04 - val_loss: 0.0237 - val_accuracy: 2.6418e-04\n",
      "Epoch 77/250\n",
      "178200/178200 [==============================] - 4s 20us/sample - loss: 0.0207 - accuracy: 5.6387e-04 - val_loss: 0.0236 - val_accuracy: 2.1853e-04\n",
      "Epoch 78/250\n",
      "178200/178200 [==============================] - 4s 20us/sample - loss: 0.0207 - accuracy: 6.0444e-04 - val_loss: 0.0236 - val_accuracy: 2.8166e-04\n",
      "Epoch 79/250\n",
      "178200/178200 [==============================] - 4s 20us/sample - loss: 0.0207 - accuracy: 6.3725e-04 - val_loss: 0.0237 - val_accuracy: 2.6127e-04\n",
      "Epoch 80/250\n",
      "178200/178200 [==============================] - 4s 20us/sample - loss: 0.0207 - accuracy: 6.7761e-04 - val_loss: 0.0236 - val_accuracy: 3.5256e-04\n",
      "Epoch 81/250\n",
      "178200/178200 [==============================] - 3s 19us/sample - loss: 0.0206 - accuracy: 6.9585e-04 - val_loss: 0.0237 - val_accuracy: 3.0983e-04\n",
      "Epoch 82/250\n",
      "178200/178200 [==============================] - 3s 20us/sample - loss: 0.0207 - accuracy: 7.5121e-04 - val_loss: 0.0239 - val_accuracy: 3.3897e-04\n",
      "Epoch 83/250\n",
      "178200/178200 [==============================] - 3s 19us/sample - loss: 0.0206 - accuracy: 7.7873e-04 - val_loss: 0.0237 - val_accuracy: 3.1371e-04\n",
      "Epoch 84/250\n",
      "178200/178200 [==============================] - 3s 19us/sample - loss: 0.0206 - accuracy: 7.9740e-04 - val_loss: 0.0236 - val_accuracy: 2.7195e-04\n",
      "Epoch 85/250\n",
      "178200/178200 [==============================] - 4s 20us/sample - loss: 0.0206 - accuracy: 7.8326e-04 - val_loss: 0.0237 - val_accuracy: 3.4188e-04\n",
      "Epoch 86/250\n",
      "178200/178200 [==============================] - 4s 20us/sample - loss: 0.0206 - accuracy: 8.1348e-04 - val_loss: 0.0237 - val_accuracy: 3.7393e-04\n",
      "Epoch 87/250\n",
      "178200/178200 [==============================] - 4s 20us/sample - loss: 0.0206 - accuracy: 8.6441e-04 - val_loss: 0.0237 - val_accuracy: 4.0501e-04\n",
      "Epoch 88/250\n",
      "178200/178200 [==============================] - 3s 20us/sample - loss: 0.0206 - accuracy: 8.5945e-04 - val_loss: 0.0238 - val_accuracy: 4.7494e-04\n",
      "Epoch 89/250\n",
      "178200/178200 [==============================] - 4s 20us/sample - loss: 0.0206 - accuracy: 8.5362e-04 - val_loss: 0.0238 - val_accuracy: 3.4771e-04\n",
      "Epoch 90/250\n",
      "178200/178200 [==============================] - 3s 20us/sample - loss: 0.0206 - accuracy: 8.9603e-04 - val_loss: 0.0237 - val_accuracy: 3.5839e-04\n",
      "Epoch 91/250\n",
      "178200/178200 [==============================] - 4s 20us/sample - loss: 0.0205 - accuracy: 9.8906e-04 - val_loss: 0.0238 - val_accuracy: 4.3901e-04\n",
      "Epoch 92/250\n",
      "178200/178200 [==============================] - 4s 20us/sample - loss: 0.0206 - accuracy: 9.6046e-04 - val_loss: 0.0238 - val_accuracy: 4.0210e-04\n",
      "Epoch 93/250\n",
      "178200/178200 [==============================] - 4s 20us/sample - loss: 0.0205 - accuracy: 9.6510e-04 - val_loss: 0.0238 - val_accuracy: 3.8559e-04\n",
      "Epoch 94/250\n",
      "178200/178200 [==============================] - 4s 20us/sample - loss: 0.0205 - accuracy: 0.0010 - val_loss: 0.0237 - val_accuracy: 4.5940e-04\n",
      "Epoch 95/250\n",
      "178200/178200 [==============================] - 4s 20us/sample - loss: 0.0205 - accuracy: 0.0011 - val_loss: 0.0237 - val_accuracy: 4.3026e-04\n",
      "Epoch 96/250\n",
      "178200/178200 [==============================] - 3s 20us/sample - loss: 0.0205 - accuracy: 0.0011 - val_loss: 0.0238 - val_accuracy: 4.8854e-04\n",
      "Epoch 97/250\n",
      "178200/178200 [==============================] - 4s 20us/sample - loss: 0.0205 - accuracy: 0.0011 - val_loss: 0.0238 - val_accuracy: 4.8951e-04\n",
      "Epoch 98/250\n",
      "178200/178200 [==============================] - 4s 20us/sample - loss: 0.0205 - accuracy: 0.0011 - val_loss: 0.0238 - val_accuracy: 5.4196e-04\n",
      "Epoch 99/250\n",
      "178200/178200 [==============================] - 4s 20us/sample - loss: 0.0205 - accuracy: 0.0012 - val_loss: 0.0238 - val_accuracy: 6.6434e-04\n",
      "Epoch 100/250\n",
      "178200/178200 [==============================] - 4s 20us/sample - loss: 0.0205 - accuracy: 0.0011 - val_loss: 0.0237 - val_accuracy: 6.2451e-04\n",
      "Epoch 101/250\n",
      "178200/178200 [==============================] - 4s 20us/sample - loss: 0.0205 - accuracy: 0.0012 - val_loss: 0.0238 - val_accuracy: 6.7502e-04\n",
      "Epoch 102/250\n",
      "178200/178200 [==============================] - 4s 21us/sample - loss: 0.0204 - accuracy: 0.0012 - val_loss: 0.0238 - val_accuracy: 4.7203e-04\n",
      "Epoch 103/250\n",
      "178200/178200 [==============================] - 4s 20us/sample - loss: 0.0204 - accuracy: 0.0012 - val_loss: 0.0239 - val_accuracy: 5.5944e-04\n",
      "Epoch 104/250\n",
      "178200/178200 [==============================] - 4s 20us/sample - loss: 0.0204 - accuracy: 0.0013 - val_loss: 0.0239 - val_accuracy: 6.1869e-04\n",
      "Epoch 105/250\n",
      "178200/178200 [==============================] - 3s 20us/sample - loss: 0.0204 - accuracy: 0.0013 - val_loss: 0.0239 - val_accuracy: 8.3722e-04\n",
      "Epoch 106/250\n",
      "178200/178200 [==============================] - 4s 20us/sample - loss: 0.0204 - accuracy: 0.0014 - val_loss: 0.0238 - val_accuracy: 7.2261e-04\n",
      "Epoch 107/250\n",
      "178200/178200 [==============================] - 4s 20us/sample - loss: 0.0204 - accuracy: 0.0014 - val_loss: 0.0237 - val_accuracy: 6.3131e-04\n",
      "Epoch 108/250\n",
      "178200/178200 [==============================] - 3s 19us/sample - loss: 0.0204 - accuracy: 0.0014 - val_loss: 0.0240 - val_accuracy: 6.1480e-04\n",
      "Epoch 109/250\n",
      "178200/178200 [==============================] - 4s 20us/sample - loss: 0.0204 - accuracy: 0.0014 - val_loss: 0.0240 - val_accuracy: 5.9246e-04\n",
      "Epoch 110/250\n",
      "178200/178200 [==============================] - 4s 20us/sample - loss: 0.0204 - accuracy: 0.0014 - val_loss: 0.0237 - val_accuracy: 5.9343e-04\n",
      "Epoch 111/250\n",
      "178200/178200 [==============================] - 4s 20us/sample - loss: 0.0204 - accuracy: 0.0014 - val_loss: 0.0239 - val_accuracy: 7.0804e-04\n",
      "Epoch 112/250\n",
      "178200/178200 [==============================] - 4s 20us/sample - loss: 0.0204 - accuracy: 0.0015 - val_loss: 0.0238 - val_accuracy: 6.3617e-04\n",
      "Epoch 113/250\n",
      "178200/178200 [==============================] - 4s 20us/sample - loss: 0.0204 - accuracy: 0.0015 - val_loss: 0.0238 - val_accuracy: 5.8469e-04\n",
      "Epoch 114/250\n",
      "178200/178200 [==============================] - 4s 20us/sample - loss: 0.0204 - accuracy: 0.0015 - val_loss: 0.0239 - val_accuracy: 5.9538e-04\n",
      "Epoch 115/250\n",
      "178200/178200 [==============================] - 3s 19us/sample - loss: 0.0203 - accuracy: 0.0015 - val_loss: 0.0239 - val_accuracy: 6.5657e-04\n",
      "Epoch 116/250\n",
      "178200/178200 [==============================] - 4s 20us/sample - loss: 0.0203 - accuracy: 0.0016 - val_loss: 0.0240 - val_accuracy: 7.9740e-04\n",
      "Epoch 117/250\n",
      "178200/178200 [==============================] - 4s 20us/sample - loss: 0.0203 - accuracy: 0.0016 - val_loss: 0.0240 - val_accuracy: 8.3916e-04\n",
      "Epoch 118/250\n",
      "178200/178200 [==============================] - 4s 20us/sample - loss: 0.0203 - accuracy: 0.0016 - val_loss: 0.0240 - val_accuracy: 8.5761e-04\n",
      "Epoch 119/250\n",
      "178200/178200 [==============================] - 3s 20us/sample - loss: 0.0203 - accuracy: 0.0017 - val_loss: 0.0240 - val_accuracy: 8.0905e-04\n",
      "Epoch 120/250\n",
      "178200/178200 [==============================] - 4s 20us/sample - loss: 0.0203 - accuracy: 0.0017 - val_loss: 0.0238 - val_accuracy: 8.6247e-04\n",
      "Epoch 121/250\n",
      "178200/178200 [==============================] - 4s 20us/sample - loss: 0.0203 - accuracy: 0.0017 - val_loss: 0.0238 - val_accuracy: 8.7024e-04\n",
      "Epoch 122/250\n",
      "178200/178200 [==============================] - 4s 20us/sample - loss: 0.0203 - accuracy: 0.0018 - val_loss: 0.0240 - val_accuracy: 8.3625e-04\n",
      "Epoch 123/250\n",
      "178200/178200 [==============================] - 4s 20us/sample - loss: 0.0203 - accuracy: 0.0018 - val_loss: 0.0239 - val_accuracy: 8.8384e-04\n",
      "Epoch 124/250\n",
      "178200/178200 [==============================] - 3s 20us/sample - loss: 0.0203 - accuracy: 0.0019 - val_loss: 0.0240 - val_accuracy: 8.1197e-04\n",
      "Epoch 125/250\n",
      "178200/178200 [==============================] - 4s 20us/sample - loss: 0.0203 - accuracy: 0.0018 - val_loss: 0.0239 - val_accuracy: 8.0031e-04\n",
      "Epoch 126/250\n",
      "178200/178200 [==============================] - 4s 20us/sample - loss: 0.0203 - accuracy: 0.0019 - val_loss: 0.0238 - val_accuracy: 9.0035e-04\n",
      "Epoch 127/250\n",
      "178200/178200 [==============================] - 4s 20us/sample - loss: 0.0203 - accuracy: 0.0020 - val_loss: 0.0240 - val_accuracy: 9.5668e-04\n",
      "Epoch 128/250\n",
      "178200/178200 [==============================] - 4s 20us/sample - loss: 0.0203 - accuracy: 0.0020 - val_loss: 0.0240 - val_accuracy: 8.7218e-04\n"
     ]
    },
    {
     "data": {
      "text/plain": [
       "<keras.callbacks.History at 0x7f48ff778cd0>"
      ]
     },
     "execution_count": 20,
     "metadata": {},
     "output_type": "execute_result"
    }
   ],
   "source": [
    "from keras.layers import Bidirectional\n",
    "from keras.models import Sequential\n",
    "from keras.layers.core import Activation, Dropout, Dense\n",
    "from keras.layers import Flatten, LSTM\n",
    "from keras.layers import Bidirectional\n",
    "\n",
    "\n",
    "model = Sequential()\n",
    "model.add(Bidirectional(LSTM(256, activation='relu', return_sequences=True), input_shape=(sequence_length, encoding_len)))\n",
    "model.add(Flatten())\n",
    "model.add(Dense(512, activation='relu'))\n",
    "model.add(Dense(512, activation='relu'))\n",
    "model.add(Dense(512, activation='relu'))\n",
    "model.add(Dense(state_len, activation='sigmoid'))\n",
    "model.compile(optimizer='adam', loss=tf.keras.losses.MeanSquaredError(), metrics=[tf.keras.metrics.Accuracy()])\n",
    "\n",
    "callback = tf.keras.callbacks.EarlyStopping(monitor='loss', patience=3)\n",
    "\n",
    "print(model.summary())\n",
    "\n",
    "model.fit(X[:int(2e5)], Y[:int(2e5)], epochs=250, validation_split=0.1, verbose=1, callbacks=[callback], batch_size=256)"
   ]
  },
  {
   "cell_type": "code",
   "execution_count": 21,
   "metadata": {},
   "outputs": [
    {
     "name": "stderr",
     "output_type": "stream",
     "text": [
      "/usr/local/lib/python3.8/dist-packages/keras/engine/training_v1.py:2079: UserWarning: `Model.state_updates` will be removed in a future version. This property should not be used in TensorFlow 2.0, as `updates` are applied automatically.\n",
      "  updates=self.state_updates,\n"
     ]
    },
    {
     "data": {
      "text/plain": [
       "3309"
      ]
     },
     "execution_count": 21,
     "metadata": {},
     "output_type": "execute_result"
    }
   ],
   "source": [
    "predictions = np.round(model.predict(X[0:10000]))\n",
    "count = 0\n",
    "for i in range(10000):\n",
    "    if (predictions[i]==Y[i]).all():\n",
    "        count += 1\n",
    "count"
   ]
  },
  {
   "cell_type": "code",
   "execution_count": null,
   "metadata": {},
   "outputs": [],
   "source": []
  },
  {
   "cell_type": "code",
   "execution_count": 47,
   "metadata": {},
   "outputs": [
    {
     "name": "stdout",
     "output_type": "stream",
     "text": [
      "[0. 0. 0. 0. 0. 0. 0. 0. 0. 0. 0. 0. 0. 0. 0. 0. 0. 0. 0. 0. 0. 0. 0. 0.\n",
      " 0. 0. 0. 0. 0. 0. 0. 0. 0. 0. 0. 0. 0. 0. 0. 0. 0. 0. 0. 0. 0. 0. 0. 0.\n",
      " 0. 0. 0. 0.]\n"
     ]
    }
   ],
   "source": [
    "print(np.round(model.predict(np.array([X[1]])))[0])"
   ]
  },
  {
   "cell_type": "code",
   "execution_count": 48,
   "metadata": {},
   "outputs": [
    {
     "name": "stdout",
     "output_type": "stream",
     "text": [
      "[0. 0. 0. 0. 0. 0. 0. 0. 0. 0. 0. 0. 1. 0. 0. 0. 0. 0. 0. 0. 0. 0. 0. 0.\n",
      " 0. 0. 0. 0. 0. 0. 0. 0. 0. 0. 0. 0. 1. 0. 0. 0. 0. 0. 0. 0. 0. 0. 0. 0.\n",
      " 0. 0. 0. 0.]\n"
     ]
    }
   ],
   "source": [
    "print(Y[1])"
   ]
  },
  {
   "cell_type": "code",
   "execution_count": 95,
   "metadata": {},
   "outputs": [
    {
     "data": {
      "text/plain": [
       "array([0.02952596], dtype=float32)"
      ]
     },
     "execution_count": 95,
     "metadata": {},
     "output_type": "execute_result"
    }
   ],
   "source": [
    "p = model.predict(np.array([X[1]]))[0]\n",
    "p[np.where(Y[0]==1)]"
   ]
  },
  {
   "cell_type": "code",
   "execution_count": 110,
   "metadata": {},
   "outputs": [
    {
     "name": "stderr",
     "output_type": "stream",
     "text": [
      " 21%|██        | 2054464/9700000 [00:13<00:51, 148353.44it/s]\n"
     ]
    },
    {
     "ename": "KeyboardInterrupt",
     "evalue": "",
     "output_type": "error",
     "traceback": [
      "\u001b[0;31m---------------------------------------------------------------------------\u001b[0m",
      "\u001b[0;31mKeyboardInterrupt\u001b[0m                         Traceback (most recent call last)",
      "Input \u001b[0;32mIn [110]\u001b[0m, in \u001b[0;36m<module>\u001b[0;34m\u001b[0m\n\u001b[1;32m      1\u001b[0m new_state \u001b[38;5;241m=\u001b[39m {}\n\u001b[1;32m      2\u001b[0m \u001b[38;5;28;01mfor\u001b[39;00m i, matrix \u001b[38;5;129;01min\u001b[39;00m \u001b[38;5;28menumerate\u001b[39m(tqdm(X)):\n\u001b[0;32m----> 3\u001b[0m     \u001b[38;5;28;01mif\u001b[39;00m (\u001b[43mX\u001b[49m\u001b[43m[\u001b[49m\u001b[38;5;241;43m3\u001b[39;49m\u001b[43m]\u001b[49m\u001b[38;5;241;43m==\u001b[39;49m\u001b[43mmatrix\u001b[49m)\u001b[38;5;241m.\u001b[39mall():\n\u001b[1;32m      4\u001b[0m         \u001b[38;5;28;01mif\u001b[39;00m \u001b[38;5;129;01mnot\u001b[39;00m Y[i,:]\u001b[38;5;241m.\u001b[39mtobytes() \u001b[38;5;129;01min\u001b[39;00m new_state:\n\u001b[1;32m      5\u001b[0m             new_state[Y[i,:]\u001b[38;5;241m.\u001b[39mtobytes()] \u001b[38;5;241m=\u001b[39m \u001b[38;5;241m1\u001b[39m\n",
      "\u001b[0;31mKeyboardInterrupt\u001b[0m: "
     ]
    }
   ],
   "source": [
    "new_state = {}\n",
    "for i, matrix in enumerate(tqdm(X)):\n",
    "    if (X[3]==matrix).all():\n",
    "        if not Y[i,:].tobytes() in new_state:\n",
    "            new_state[Y[i,:].tobytes()] = 1\n",
    "        else:\n",
    "            new_state[Y[i,:].tobytes()] += 1\n",
    "            \n",
    "ns = {k: v for k, v in sorted(new_state.items(), key=lambda item: item[1], reverse=True)}\n",
    "\n",
    "count = 0\n",
    "for s in ns.keys():\n",
    "    count += new_state[s]\n",
    "    print(new_state[s])\n",
    "    print(np.frombuffer(s))\n",
    "\n",
    "print(len(new_state.keys()))\n",
    "count"
   ]
  },
  {
   "cell_type": "code",
   "execution_count": 111,
   "metadata": {},
   "outputs": [
    {
     "name": "stdout",
     "output_type": "stream",
     "text": [
      "2240\n",
      "[0. 0. 0. 0. 0. 0. 0. 0. 0. 0. 0. 0. 0. 0. 0. 0. 0. 0. 0. 0. 0. 0. 0. 0.\n",
      " 0. 0. 0. 0. 0. 0. 0. 0. 0. 0. 0. 0. 1. 0. 0. 0. 0. 0. 0. 0. 0. 0. 0. 1.\n",
      " 0. 0. 0. 0.]\n",
      "179\n",
      "[0. 0. 0. 0. 1. 0. 0. 0. 0. 0. 0. 0. 0. 0. 0. 0. 0. 0. 0. 0. 0. 0. 0. 0.\n",
      " 0. 0. 0. 0. 0. 0. 0. 0. 0. 0. 0. 0. 1. 0. 0. 0. 0. 0. 0. 0. 0. 0. 0. 1.\n",
      " 0. 0. 0. 0.]\n",
      "63\n",
      "[0. 0. 0. 0. 0. 0. 0. 0. 0. 0. 0. 0. 0. 0. 0. 0. 0. 0. 0. 0. 0. 0. 0. 0.\n",
      " 0. 0. 0. 0. 0. 0. 0. 0. 0. 0. 0. 0. 0. 0. 0. 0. 0. 0. 0. 0. 0. 0. 0. 1.\n",
      " 0. 0. 0. 0.]\n",
      "23\n",
      "[0. 0. 0. 0. 0. 0. 0. 0. 0. 0. 0. 0. 0. 0. 0. 0. 0. 0. 0. 0. 0. 0. 0. 0.\n",
      " 0. 0. 0. 0. 0. 0. 0. 0. 0. 0. 0. 0. 1. 0. 0. 0. 0. 0. 0. 0. 0. 0. 0. 0.\n",
      " 0. 0. 0. 0.]\n",
      "4\n",
      "[0. 0. 0. 0. 1. 0. 0. 0. 0. 0. 0. 0. 0. 0. 0. 0. 0. 0. 0. 0. 0. 0. 0. 0.\n",
      " 0. 0. 0. 0. 0. 0. 0. 0. 0. 0. 0. 0. 0. 0. 0. 0. 0. 0. 0. 0. 0. 0. 0. 1.\n",
      " 0. 0. 0. 0.]\n",
      "2\n",
      "[0. 0. 0. 0. 1. 0. 0. 0. 0. 0. 0. 0. 0. 0. 0. 0. 0. 0. 0. 0. 0. 0. 0. 0.\n",
      " 0. 0. 0. 0. 0. 0. 0. 0. 0. 0. 0. 0. 1. 0. 0. 0. 0. 0. 0. 0. 0. 0. 0. 0.\n",
      " 0. 0. 0. 0.]\n",
      "6\n"
     ]
    }
   ],
   "source": [
    "prediction = model.predict(np.array([X[3]]))[0]\n",
    "\n",
    "new_state = {}\n",
    "\n",
    "for i in range(2511):\n",
    "    state = np.zeros(52)\n",
    "    for i in range(52):\n",
    "        state[i] = np.array(np.random.rand() < prediction[i], dtype=np.int8)\n",
    "    if not state.tobytes() in new_state:\n",
    "        new_state[state.tobytes()] = 1\n",
    "    else:\n",
    "        new_state[state.tobytes()] += 1\n",
    "        \n",
    "ns = {k: v for k, v in sorted(new_state.items(), key=lambda item: item[1], reverse=True)}\n",
    "            \n",
    "for s in ns.keys():\n",
    "    print(ns[s])\n",
    "    print(np.frombuffer(s))\n",
    "\n",
    "print(len(new_state.keys()))"
   ]
  },
  {
   "cell_type": "code",
   "execution_count": 113,
   "metadata": {},
   "outputs": [
    {
     "data": {
      "image/png": "[encoded data removed]",
      "text/plain": [
       "<Figure size 640x480 with 1 Axes>"
      ]
     },
     "metadata": {},
     "output_type": "display_data"
    }
   ],
   "source": [
    "\n",
    "\n",
    "values = []\n",
    "for s in ns.keys():\n",
    "    values.append(ns[s])\n",
    "y_pos = np.arange(4)\n",
    "\n",
    "values = np.array(values) / sum(values)\n",
    "\n",
    "# Create bars\n",
    "plt.title('State Transitions Predictions from state-action sequence at t=3. Sequence Length = 3.')\n",
    "plt.xlabel('States')\n",
    "plt.ylabel('Observed Distribution %')\n",
    "plt.bar(y_pos, values[:4])\n",
    "plt.show()"
   ]
  },
  {
   "cell_type": "code",
   "execution_count": 109,
   "metadata": {},
   "outputs": [
    {
     "data": {
      "text/plain": [
       "array([1.03190523e-02, 3.29323782e-04, 3.85479216e-04, 4.18740936e-04,\n",
       "       2.88093448e-01, 3.55923170e-04, 1.17589640e-04, 3.77577089e-04,\n",
       "       1.46027789e-01, 1.21319026e-03, 5.94214769e-03, 3.11347633e-03,\n",
       "       1.58526480e-01, 5.01110917e-03, 8.59338616e-04, 1.89331674e-03,\n",
       "       1.07140923e-02, 3.76689044e-04, 4.23285324e-04, 4.73172520e-04,\n",
       "       2.87872516e-02, 4.47978149e-04, 3.78162280e-04, 4.29429463e-04,\n",
       "       1.22959904e-01, 4.14958806e-04, 4.10935085e-04, 3.16793390e-04,\n",
       "       2.65722424e-02, 8.66414886e-03, 4.03991144e-04, 3.33420746e-02,\n",
       "       9.18903127e-02, 2.98331375e-04, 4.02375124e-04, 4.05244122e-04,\n",
       "       2.98894614e-01, 1.67272076e-01, 1.90242694e-03, 1.67976305e-01,\n",
       "       3.59961241e-01, 2.58691251e-01, 3.61492159e-04, 2.48664573e-01,\n",
       "       1.34916067e-01, 4.06041630e-02, 4.45044658e-04, 4.43339422e-02,\n",
       "       3.97519410e-01, 3.22330505e-01, 1.07264658e-02, 3.51259202e-01],\n",
       "      dtype=float32)"
      ]
     },
     "execution_count": 109,
     "metadata": {},
     "output_type": "execute_result"
    }
   ],
   "source": [
    "prediction"
   ]
  },
  {
   "cell_type": "code",
   "execution_count": 12,
   "metadata": {},
   "outputs": [
    {
     "name": "stdout",
     "output_type": "stream",
     "text": [
      "1\n",
      "[0. 0. 0. ... 0. 0. 0.]\n",
      "1\n"
     ]
    }
   ],
   "source": [
    "for i, matrix in enumerate(X):\n",
    "    if (X[10]==matrix).all():\n",
    "        if not Y[i].tobytes() in new_state:\n",
    "            new_state[Y.tobytes()] = 1\n",
    "        else:\n",
    "            new_state[Y.tobytes()] += 1\n",
    "            \n",
    "for s in new_state.keys():\n",
    "    print(new_state[s])\n",
    "    print(np.frombuffer(s))\n",
    "\n",
    "print(len(new_state.keys()))"
   ]
  },
  {
   "cell_type": "code",
   "execution_count": null,
   "metadata": {},
   "outputs": [],
   "source": [
    "np.save('target.npy',X[10])\n",
    "np.save('prediction.npy',p)"
   ]
  },
  {
   "cell_type": "code",
   "execution_count": null,
   "metadata": {},
   "outputs": [],
   "source": []
  }
 ],
 "metadata": {
  "kernelspec": {
   "display_name": "Python 3",
   "language": "python",
   "name": "python3"
  },
  "language_info": {
   "codemirror_mode": {
    "name": "ipython",
    "version": 3
   },
   "file_extension": ".py",
   "mimetype": "text/x-python",
   "name": "python",
   "nbconvert_exporter": "python",
   "pygments_lexer": "ipython3",
   "version": "3.8.10"
  }
 },
 "nbformat": 4,
 "nbformat_minor": 2
}
