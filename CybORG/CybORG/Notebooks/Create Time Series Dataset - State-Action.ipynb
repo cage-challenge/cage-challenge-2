{
 "cells": [
  {
   "cell_type": "code",
   "execution_count": 1,
   "metadata": {},
   "outputs": [],
   "source": [
    "from ray.rllib.offline.json_reader import JsonReader\n",
    "import numpy as np\n",
    "import tensorflow as tf"
   ]
  },
  {
   "cell_type": "code",
   "execution_count": 2,
   "metadata": {},
   "outputs": [
    {
     "name": "stderr",
     "output_type": "stream",
     "text": [
      "2022-12-16 13:50:11,709\tWARNING json_reader.py:238 -- Treating input directory as glob patterns: ['/tf/Cage/Notebooks/logs2/*.json', '/tf/Cage/Notebooks/logs2/*.zip']\n"
     ]
    }
   ],
   "source": [
    "input_reader = JsonReader(\"logs2\")"
   ]
  },
  {
   "cell_type": "code",
   "execution_count": 4,
   "metadata": {},
   "outputs": [
    {
     "data": {
      "text/plain": [
       "900"
      ]
     },
     "execution_count": 4,
     "metadata": {},
     "output_type": "execute_result"
    }
   ],
   "source": [
    "sequence_length=10\n",
    "num_episodes = 10\n",
    "windows_per_episode = 100-sequence_length\n",
    "state_len = 52\n",
    "num_action = 145\n",
    "encoding_len = state_len + num_action\n",
    "\n",
    "data_points = num_episodes * windows_per_episode\n",
    "\n",
    "X = np.zeros((data_points,sequence_length,encoding_len))\n",
    "Y = np.zeros((data_points,state_len))\n",
    "\n",
    "index = 0\n",
    "for e in range(num_episodes):\n",
    "    data = input_reader.next()\n",
    "    data['obs'].shape\n",
    "    for i in range(0, windows_per_episode):\n",
    "        ns = data['obs'][i+1]\n",
    "        if i < sequence_length:\n",
    "            s = np.zeros((sequence_length, encoding_len))\n",
    "            for k in range(0,i):\n",
    "                s[k,:] = np.concatenate([data['obs'][k], np.zeros(num_action)])\n",
    "        else:\n",
    "            vec = np.zeros((sequence_length, num_action))\n",
    "            vec[np.arange(sequence_length),data['actions'][i-sequence_length:i]] = 1\n",
    "            s = np.concatenate([data['obs'][i-sequence_length:i], vec], axis=1)\n",
    "            \n",
    "        X[index,:,:] = s\n",
    "        Y[index,:] = ns\n",
    "        index += 1\n",
    "index"
   ]
  },
  {
   "cell_type": "code",
   "execution_count": 16,
   "metadata": {},
   "outputs": [
    {
     "name": "stdout",
     "output_type": "stream",
     "text": [
      "[[0. 0. 0. ... 0. 0. 0.]\n",
      " [0. 0. 0. ... 0. 0. 0.]\n",
      " [0. 0. 0. ... 0. 0. 0.]\n",
      " ...\n",
      " [0. 0. 0. ... 0. 0. 0.]\n",
      " [0. 0. 0. ... 0. 0. 0.]\n",
      " [0. 0. 0. ... 0. 0. 0.]]\n"
     ]
    }
   ],
   "source": [
    "import sys\n",
    "import numpy\n",
    "numpy.set_printoptions(threshold=1000)\n",
    "print(X[10])"
   ]
  },
  {
   "cell_type": "code",
   "execution_count": 6,
   "metadata": {},
   "outputs": [
    {
     "name": "stdout",
     "output_type": "stream",
     "text": [
      "[0. 0. 0. 0. 0. 0. 0. 0. 0. 0. 0. 0. 0. 0. 0. 0. 0. 0. 0. 0. 0. 0. 0. 0.\n",
      " 0. 0. 0. 0. 0. 0. 0. 0. 0. 0. 0. 0. 0. 0. 0. 0. 0. 0. 0. 0. 0. 0. 0. 0.\n",
      " 1. 1. 0. 1.]\n"
     ]
    }
   ],
   "source": [
    "print(Y[10])"
   ]
  },
  {
   "cell_type": "code",
   "execution_count": 7,
   "metadata": {},
   "outputs": [
    {
     "name": "stdout",
     "output_type": "stream",
     "text": [
      "WARNING:tensorflow:Layer lstm will not use cuDNN kernels since it doesn't meet the criteria. It will use a generic GPU kernel as fallback when running on GPU.\n",
      "WARNING:tensorflow:From /usr/local/lib/python3.8/dist-packages/tensorflow/python/ops/init_ops.py:93: calling GlorotUniform.__init__ (from tensorflow.python.ops.init_ops) with dtype is deprecated and will be removed in a future version.\n",
      "Instructions for updating:\n",
      "Call initializer instance with the dtype argument instead of passing it to the constructor\n",
      "WARNING:tensorflow:From /usr/local/lib/python3.8/dist-packages/tensorflow/python/ops/init_ops.py:93: calling Orthogonal.__init__ (from tensorflow.python.ops.init_ops) with dtype is deprecated and will be removed in a future version.\n",
      "Instructions for updating:\n",
      "Call initializer instance with the dtype argument instead of passing it to the constructor\n",
      "WARNING:tensorflow:From /usr/local/lib/python3.8/dist-packages/tensorflow/python/ops/init_ops.py:93: calling Zeros.__init__ (from tensorflow.python.ops.init_ops) with dtype is deprecated and will be removed in a future version.\n",
      "Instructions for updating:\n",
      "Call initializer instance with the dtype argument instead of passing it to the constructor\n",
      "WARNING:tensorflow:Layer lstm will not use cuDNN kernels since it doesn't meet the criteria. It will use a generic GPU kernel as fallback when running on GPU.\n",
      "WARNING:tensorflow:Layer lstm will not use cuDNN kernels since it doesn't meet the criteria. It will use a generic GPU kernel as fallback when running on GPU.\n",
      "WARNING:tensorflow:Layer lstm_1 will not use cuDNN kernels since it doesn't meet the criteria. It will use a generic GPU kernel as fallback when running on GPU.\n",
      "WARNING:tensorflow:Layer lstm_1 will not use cuDNN kernels since it doesn't meet the criteria. It will use a generic GPU kernel as fallback when running on GPU.\n",
      "WARNING:tensorflow:Layer lstm_1 will not use cuDNN kernels since it doesn't meet the criteria. It will use a generic GPU kernel as fallback when running on GPU.\n",
      "Model: \"sequential\"\n",
      "_________________________________________________________________\n",
      " Layer (type)                Output Shape              Param #   \n",
      "=================================================================\n",
      " bidirectional (Bidirectiona  (None, 10, 512)          929792    \n",
      " l)                                                              \n",
      "                                                                 \n",
      " bidirectional_1 (Bidirectio  (None, 10, 512)          1574912   \n",
      " nal)                                                            \n",
      "                                                                 \n",
      " flatten (Flatten)           (None, 5120)              0         \n",
      "                                                                 \n",
      " dense (Dense)               (None, 52)                266292    \n",
      "                                                                 \n",
      "=================================================================\n",
      "Total params: 2,770,996\n",
      "Trainable params: 2,770,996\n",
      "Non-trainable params: 0\n",
      "_________________________________________________________________\n",
      "None\n",
      "Train on 810000 samples, validate on 90000 samples\n",
      "Epoch 1/100\n",
      "WARNING:tensorflow:OMP_NUM_THREADS is no longer used by the default Keras config. To configure the number of threads, use tf.config.threading APIs.\n",
      "809984/810000 [============================>.] - ETA: 0s - loss: 0.0726"
     ]
    },
    {
     "name": "stderr",
     "output_type": "stream",
     "text": [
      "/usr/local/lib/python3.8/dist-packages/keras/engine/training_v1.py:2057: UserWarning: `Model.state_updates` will be removed in a future version. This property should not be used in TensorFlow 2.0, as `updates` are applied automatically.\n",
      "  updates = self.state_updates\n"
     ]
    },
    {
     "name": "stdout",
     "output_type": "stream",
     "text": [
      "810000/810000 [==============================] - 225s 278us/sample - loss: 0.0726 - val_loss: 0.0670\n",
      "Epoch 2/100\n",
      "810000/810000 [==============================] - 221s 273us/sample - loss: 0.0661 - val_loss: 0.0653\n",
      "Epoch 3/100\n",
      "810000/810000 [==============================] - 221s 273us/sample - loss: 0.0648 - val_loss: 0.0649\n",
      "Epoch 4/100\n",
      "810000/810000 [==============================] - 220s 271us/sample - loss: 0.0639 - val_loss: 0.0649\n",
      "Epoch 5/100\n",
      "810000/810000 [==============================] - 221s 273us/sample - loss: 0.0630 - val_loss: 0.0653\n",
      "Epoch 6/100\n",
      "810000/810000 [==============================] - 221s 272us/sample - loss: 0.0621 - val_loss: 0.0657\n"
     ]
    },
    {
     "data": {
      "text/plain": [
       "<keras.callbacks.History at 0x7f0d905f4b20>"
      ]
     },
     "execution_count": 7,
     "metadata": {},
     "output_type": "execute_result"
    }
   ],
   "source": [
    "from keras.layers import Bidirectional\n",
    "from keras.models import Sequential\n",
    "from keras.layers.core import Activation, Dropout, Dense\n",
    "from keras.layers import Flatten, LSTM\n",
    "from keras.layers import Bidirectional\n",
    "\n",
    "\n",
    "model = Sequential()\n",
    "model.add(Bidirectional(LSTM(256, activation='relu', return_sequences=True), input_shape=(sequence_length, encoding_len)))\n",
    "model.add(Bidirectional(LSTM(256, activation='relu', return_sequences=True)))\n",
    "model.add(Flatten())\n",
    "model.add(Dense(state_len, activation='sigmoid'))\n",
    "model.compile(optimizer='adam', loss=tf.keras.losses.BinaryCrossentropy(from_logits=False))\n",
    "\n",
    "callback = tf.keras.callbacks.EarlyStopping(monitor='val_loss', patience=3)\n",
    "\n",
    "print(model.summary())\n",
    "\n",
    "model.fit(X, Y, epochs=100, validation_split=0.1, verbose=1, callbacks=[callback], batch_size=128)"
   ]
  },
  {
   "cell_type": "code",
   "execution_count": 8,
   "metadata": {},
   "outputs": [
    {
     "name": "stderr",
     "output_type": "stream",
     "text": [
      "/usr/local/lib/python3.8/dist-packages/keras/engine/training_v1.py:2079: UserWarning: `Model.state_updates` will be removed in a future version. This property should not be used in TensorFlow 2.0, as `updates` are applied automatically.\n",
      "  updates=self.state_updates,\n"
     ]
    },
    {
     "name": "stdout",
     "output_type": "stream",
     "text": [
      "[[9.60330013e-03 3.66523665e-07 3.50416371e-07 3.66764567e-07\n",
      "  8.70442912e-02 2.31272148e-04 2.65252766e-05 3.17911647e-04\n",
      "  1.87745094e-01 6.86138645e-02 2.40779453e-04 6.71900809e-02\n",
      "  4.68524732e-02 3.84961255e-04 2.22684990e-04 2.70441128e-03\n",
      "  1.85803883e-02 3.81132281e-07 3.73594816e-07 3.73049346e-07\n",
      "  2.28173472e-02 3.58579200e-07 3.35807357e-07 3.69348982e-07\n",
      "  2.01070644e-02 3.48535991e-07 3.77001413e-07 3.47464038e-07\n",
      "  2.03166790e-02 4.10109569e-05 1.55242233e-04 6.27819623e-04\n",
      "  7.47409835e-02 3.48344912e-07 3.56558729e-07 3.66423336e-07\n",
      "  7.60118067e-02 2.35791376e-04 3.35789286e-03 9.79248762e-01\n",
      "  8.97541344e-02 1.19584205e-04 2.01299918e-04 1.02442701e-03\n",
      "  8.28449875e-02 1.57724455e-04 4.37784081e-07 1.43291114e-03\n",
      "  1.05044916e-01 5.23213355e-04 4.93744174e-08 6.06363686e-03]]\n"
     ]
    }
   ],
   "source": [
    "print(model.predict(np.array([X[10]])))"
   ]
  },
  {
   "cell_type": "code",
   "execution_count": 9,
   "metadata": {},
   "outputs": [
    {
     "name": "stdout",
     "output_type": "stream",
     "text": [
      "[0. 0. 0. 0. 0. 0. 0. 0. 0. 0. 0. 0. 0. 0. 0. 0. 0. 0. 0. 0. 0. 0. 0. 0.\n",
      " 0. 0. 0. 0. 0. 0. 0. 0. 0. 0. 0. 0. 0. 0. 0. 1. 0. 0. 0. 0. 0. 0. 0. 0.\n",
      " 0. 0. 0. 0.]\n"
     ]
    }
   ],
   "source": [
    "print(np.round(model.predict(np.array([X[10]])))[0])"
   ]
  },
  {
   "cell_type": "code",
   "execution_count": 10,
   "metadata": {},
   "outputs": [
    {
     "name": "stdout",
     "output_type": "stream",
     "text": [
      "[0. 0. 0. 0. 0. 0. 0. 0. 0. 0. 0. 0. 0. 0. 0. 0. 0. 0. 0. 0. 0. 0. 0. 0.\n",
      " 0. 0. 0. 0. 0. 0. 0. 0. 0. 0. 0. 0. 1. 0. 0. 1. 0. 0. 0. 0. 0. 0. 0. 0.\n",
      " 0. 0. 0. 0.]\n"
     ]
    }
   ],
   "source": [
    "print(Y[10])"
   ]
  },
  {
   "cell_type": "code",
   "execution_count": 11,
   "metadata": {},
   "outputs": [
    {
     "data": {
      "text/plain": [
       "array([0.07601181, 0.97924876], dtype=float32)"
      ]
     },
     "execution_count": 11,
     "metadata": {},
     "output_type": "execute_result"
    }
   ],
   "source": [
    "p = model.predict(np.array([X[10]]))[0]\n",
    "p[np.where(Y[10]==1)]"
   ]
  },
  {
   "cell_type": "code",
   "execution_count": 12,
   "metadata": {},
   "outputs": [],
   "source": [
    "np.save('target.npy',X[10])\n",
    "np.save('prediction.npy',p)"
   ]
  },
  {
   "cell_type": "code",
   "execution_count": null,
   "metadata": {},
   "outputs": [],
   "source": []
  }
 ],
 "metadata": {
  "kernelspec": {
   "display_name": "Python 3",
   "language": "python",
   "name": "python3"
  },
  "language_info": {
   "codemirror_mode": {
    "name": "ipython",
    "version": 3
   },
   "file_extension": ".py",
   "mimetype": "text/x-python",
   "name": "python",
   "nbconvert_exporter": "python",
   "pygments_lexer": "ipython3",
   "version": "3.8.10"
  }
 },
 "nbformat": 4,
 "nbformat_minor": 2
}
