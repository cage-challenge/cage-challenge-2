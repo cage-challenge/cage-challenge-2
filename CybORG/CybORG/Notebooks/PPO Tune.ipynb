{
 "cells": [
  {
   "cell_type": "code",
   "execution_count": 1,
   "metadata": {},
   "outputs": [],
   "source": [
    "import inspect\n",
    "import time\n",
    "from statistics import mean, stdev\n",
    "from CybORG import CybORG\n",
    "from CybORG.Agents import B_lineAgent, SleepAgent, GreenAgent\n",
    "from CybORG.Agents.SimpleAgents.BaseAgent import BaseAgent\n",
    "from CybORG.Agents.SimpleAgents.BlueReactAgent import BlueReactRemoveAgent\n",
    "from CybORG.Agents.SimpleAgents.Meander import RedMeanderAgent\n",
    "from CybORG.Agents.Wrappers.EnumActionWrapper import EnumActionWrapper\n",
    "from CybORG.Agents.Wrappers.FixedFlatWrapper import FixedFlatWrapper\n",
    "from CybORG.Agents.Wrappers.OpenAIGymWrapper import OpenAIGymWrapper\n",
    "from CybORG.Agents.Wrappers.ReduceActionSpaceWrapper import ReduceActionSpaceWrapper\n",
    "from CybORG.Agents.Wrappers import ChallengeWrapper\n",
    "import os\n",
    "\n",
    "from ray.tune.registry import register_env\n",
    "from CybORG.Agents.Wrappers.rllib_wrapper import RLlibWrapper\n",
    "import warnings\n",
    "import numpy as np\n",
    "from ray import air, tune\n",
    "warnings.filterwarnings('ignore')"
   ]
  },
  {
   "cell_type": "code",
   "execution_count": 2,
   "metadata": {},
   "outputs": [],
   "source": [
    "def env_creator(env_config: dict):\n",
    "    path = str(inspect.getfile(CybORG))\n",
    "    path = path[:-10] + '/Shared/Scenarios/Scenario2.yaml'\n",
    "    agents = {\"Red\": B_lineAgent, \"Green\": GreenAgent}\n",
    "    cyborg = CybORG(scenario_file=path, environment='sim', agents=agents)\n",
    "    env = RLlibWrapper(env=cyborg, agent_name=\"Blue\", max_steps=100)\n",
    "    return env\n",
    "\n",
    "def print_results(results_dict):\n",
    "    train_iter = results_dict[\"training_iteration\"]\n",
    "    r_mean = results_dict[\"episode_reward_mean\"]\n",
    "    r_max = results_dict[\"episode_reward_max\"]\n",
    "    r_min = results_dict[\"episode_reward_min\"]\n",
    "    print(f\"{train_iter:4d} \\tr_mean: {r_mean:.1f} \\tr_max: {r_max:.1f} \\tr_min: {r_min: .1f}\")\n",
    "\n",
    "register_env(name=\"CybORG\", env_creator=env_creator)"
   ]
  },
  {
   "cell_type": "code",
   "execution_count": null,
   "metadata": {},
   "outputs": [
    {
     "data": {
      "text/html": [
       "<div class=\"tuneStatus\">\n",
       "  <div style=\"display: flex;flex-direction: row\">\n",
       "    <div style=\"display: flex;flex-direction: column;\">\n",
       "      <h3>Tune Status</h3>\n",
       "      <table>\n",
       "<tbody>\n",
       "<tr><td>Current time:</td><td>2022-12-05 17:03:27</td></tr>\n",
       "<tr><td>Running for: </td><td>04:58:26.79        </td></tr>\n",
       "<tr><td>Memory:      </td><td>29.3/125.8 GiB     </td></tr>\n",
       "</tbody>\n",
       "</table>\n",
       "    </div>\n",
       "    <div class=\"vDivider\"></div>\n",
       "    <div class=\"systemInfo\">\n",
       "      <h3>System Info</h3>\n",
       "      Using FIFO scheduling algorithm.<br>Resources requested: 31.0/40 CPUs, 1.0/1 GPUs, 0.0/78.39 GiB heap, 0.0/37.59 GiB objects (0.0/1.0 accelerator_type:V100)\n",
       "    </div>\n",
       "    \n",
       "  </div>\n",
       "  <div class=\"hDivider\"></div>\n",
       "  <div class=\"trialStatus\">\n",
       "    <h3>Trial Status</h3>\n",
       "    <table>\n",
       "<thead>\n",
       "<tr><th>Trial name            </th><th>status  </th><th>loc             </th><th style=\"text-align: right;\">  iter</th><th style=\"text-align: right;\">  total time (s)</th><th style=\"text-align: right;\">         ts</th><th style=\"text-align: right;\">  reward</th><th style=\"text-align: right;\">  num_recreated_worker\n",
       "s</th><th style=\"text-align: right;\">  episode_reward_max</th><th style=\"text-align: right;\">  episode_reward_min</th></tr>\n",
       "</thead>\n",
       "<tbody>\n",
       "<tr><td>PPO_CybORG_0b1b8_00000</td><td>RUNNING </td><td>172.28.0.2:11513</td><td style=\"text-align: right;\">  2483</td><td style=\"text-align: right;\">         17755.8</td><td style=\"text-align: right;\">5.06532e+06</td><td style=\"text-align: right;\"> -91.194</td><td style=\"text-align: right;\">0</td><td style=\"text-align: right;\">               -12.2</td><td style=\"text-align: right;\">              -350.8</td></tr>\n",
       "</tbody>\n",
       "</table>\n",
       "  </div>\n",
       "</div>\n",
       "<style>\n",
       ".tuneStatus {\n",
       "  color: var(--jp-ui-font-color1);\n",
       "}\n",
       ".tuneStatus .systemInfo {\n",
       "  display: flex;\n",
       "  flex-direction: column;\n",
       "}\n",
       ".tuneStatus td {\n",
       "  white-space: nowrap;\n",
       "}\n",
       ".tuneStatus .trialStatus {\n",
       "  display: flex;\n",
       "  flex-direction: column;\n",
       "}\n",
       ".tuneStatus h3 {\n",
       "  font-weight: bold;\n",
       "}\n",
       ".tuneStatus .hDivider {\n",
       "  border-bottom-width: var(--jp-border-width);\n",
       "  border-bottom-color: var(--jp-border-color0);\n",
       "  border-bottom-style: solid;\n",
       "}\n",
       ".tuneStatus .vDivider {\n",
       "  border-left-width: var(--jp-border-width);\n",
       "  border-left-color: var(--jp-border-color0);\n",
       "  border-left-style: solid;\n",
       "  margin: 0.5em 1em 0.5em 1em;\n",
       "}\n",
       "</style>\n"
      ],
      "text/plain": [
       "<IPython.core.display.HTML object>"
      ]
     },
     "metadata": {},
     "output_type": "display_data"
    },
    {
     "name": "stderr",
     "output_type": "stream",
     "text": [
      "\u001b[2m\u001b[36m(PPO pid=11513)\u001b[0m 2022-12-05 12:05:06,977\tINFO algorithm.py:2303 -- Your framework setting is 'tf', meaning you are using static-graph mode. Set framework='tf2' to enable eager execution with tf2.x. You may also then want to set eager_tracing=True in order to reach similar execution speed as with static-graph mode.\n",
      "\u001b[2m\u001b[36m(PPO pid=11513)\u001b[0m 2022-12-05 12:05:06,977\tWARNING ppo.py:351 -- `train_batch_size` (2000) cannot be achieved with your other settings (num_workers=30 num_envs_per_worker=2 rollout_fragment_length=200)! Auto-adjusting `rollout_fragment_length` to 34.\n",
      "\u001b[2m\u001b[36m(PPO pid=11513)\u001b[0m 2022-12-05 12:05:06,977\tINFO ppo.py:379 -- In multi-agent mode, policies will be optimized sequentially by the multi-GPU optimizer. Consider setting simple_optimizer=True if this doesn't work for you.\n",
      "\u001b[2m\u001b[36m(PPO pid=11513)\u001b[0m 2022-12-05 12:05:06,979\tINFO algorithm.py:457 -- Current log_level is WARN. For more information, set 'log_level': 'INFO' / 'DEBUG' or use the -v and -vv flags.\n",
      "\u001b[2m\u001b[36m(RolloutWorker pid=11544)\u001b[0m 2022-12-05 12:05:17,670\tWARNING env.py:147 -- Your env doesn't have a .spec.max_episode_steps attribute. This is fine if you have set 'horizon' in your config dictionary, or `soft_horizon`. However, if you haven't, 'horizon' will default to infinity, and your environment will not be reset.\n",
      "\u001b[2m\u001b[36m(PPO pid=11513)\u001b[0m WARNING:tensorflow:Layer lstm will not use cuDNN kernels since it doesn't meet the criteria. It will use a generic GPU kernel as fallback when running on GPU.\n",
      "\u001b[2m\u001b[36m(PPO pid=11513)\u001b[0m 2022-12-05 12:05:31,766\tINFO trainable.py:164 -- Trainable.setup took 24.791 seconds. If your trainable is slow to initialize, consider setting reuse_actors=True to reduce actor creation overheads.\n",
      "\u001b[2m\u001b[36m(PPO pid=11513)\u001b[0m 2022-12-05 12:05:31,767\tWARNING util.py:66 -- Install gputil for GPU system monitoring.\n"
     ]
    },
    {
     "data": {
      "text/html": [
       "<div class=\"trialProgress\">\n",
       "  <h3>Trial Progress</h3>\n",
       "  <table>\n",
       "<thead>\n",
       "<tr><th>Trial name            </th><th style=\"text-align: right;\">  agent_timesteps_total</th><th>counters                                                                                                                                    </th><th>custom_metrics  </th><th>date               </th><th>done  </th><th style=\"text-align: right;\">  episode_len_mean</th><th>episode_media  </th><th style=\"text-align: right;\">  episode_reward_max</th><th style=\"text-align: right;\">  episode_reward_mean</th><th style=\"text-align: right;\">  episode_reward_min</th><th style=\"text-align: right;\">  episodes_this_iter</th><th style=\"text-align: right;\">  episodes_total</th><th>experiment_id                   </th><th>hostname    </th><th>info                                                                                                                                                                                                                                                                                                                                                                                                                                                                          </th><th style=\"text-align: right;\">  iterations_since_restore</th><th>node_ip   </th><th style=\"text-align: right;\">  num_agent_steps_sampled</th><th style=\"text-align: right;\">  num_agent_steps_trained</th><th style=\"text-align: right;\">  num_env_steps_sampled</th><th style=\"text-align: right;\">  num_env_steps_sampled_this_iter</th><th style=\"text-align: right;\">  num_env_steps_trained</th><th style=\"text-align: right;\">  num_env_steps_trained_this_iter</th><th style=\"text-align: right;\">  num_faulty_episodes</th><th style=\"text-align: right;\">  num_healthy_workers</th><th style=\"text-align: right;\">  num_recreated_workers</th><th style=\"text-align: right;\">  num_steps_trained_this_iter</th><th>perf                                                              </th><th style=\"text-align: right;\">  pid</th><th>policy_reward_max  </th><th>policy_reward_mean  </th><th>policy_reward_min  </th><th>sampler_perf                                                                                                                                                                                                  </th><th>sampler_results                                                                                                                                                                                                                                                                                                                                                                                                                                                                                                                                                                                                                                                                                                                                                                                                                                                                                                                                                                                                                                                                                                                                                                                                                                                                                                                                                                                                                                                                                                                                                                                                                                                                                                                                                                                                                                                                                                                                                                                                                                                                                                                                                                                                                                                                                                                                                                                                                                                                                                                                                                                                                                                                                                                                                                                                                                                                                                                                                                                                                                                                                                                                                                                                                  </th><th style=\"text-align: right;\">  time_since_restore</th><th style=\"text-align: right;\">  time_this_iter_s</th><th style=\"text-align: right;\">  time_total_s</th><th>timers                                                                                                                                                                                 </th><th style=\"text-align: right;\">  timestamp</th><th style=\"text-align: right;\">  timesteps_since_restore</th><th style=\"text-align: right;\">  timesteps_total</th><th style=\"text-align: right;\">  training_iteration</th><th>trial_id   </th><th style=\"text-align: right;\">  warmup_time</th></tr>\n",
       "</thead>\n",
       "<tbody>\n",
       "<tr><td>PPO_CybORG_0b1b8_00000</td><td style=\"text-align: right;\">            5.06532e+06</td><td>{&#x27;num_env_steps_sampled&#x27;: 5065320, &#x27;num_env_steps_trained&#x27;: 5065320, &#x27;num_agent_steps_sampled&#x27;: 5065320, &#x27;num_agent_steps_trained&#x27;: 5065320}</td><td>{}              </td><td>2022-12-05_17-03-22</td><td>False </td><td style=\"text-align: right;\">               100</td><td>{}             </td><td style=\"text-align: right;\">               -12.2</td><td style=\"text-align: right;\">              -91.194</td><td style=\"text-align: right;\">              -350.8</td><td style=\"text-align: right;\">                  60</td><td style=\"text-align: right;\">           50640</td><td>ba2306176fe64abcb3c08f0f6a7fee2d</td><td>01589170c3ff</td><td>{&#x27;learner&#x27;: {&#x27;default_policy&#x27;: {&#x27;learner_stats&#x27;: {&#x27;cur_kl_coeff&#x27;: 0.20000000298023224, &#x27;cur_lr&#x27;: 2.499999936844688e-05, &#x27;total_loss&#x27;: 5.9119267, &#x27;policy_loss&#x27;: -0.025190657, &#x27;vf_loss&#x27;: 5.935811, &#x27;vf_explained_var&#x27;: -0.66114366, &#x27;kl&#x27;: 0.0065337783, &#x27;entropy&#x27;: 2.9006612, &#x27;entropy_coeff&#x27;: 0.0, &#x27;model&#x27;: {}}, &#x27;train&#x27;: None}}, &#x27;num_env_steps_sampled&#x27;: 5065320, &#x27;num_env_steps_trained&#x27;: 5065320, &#x27;num_agent_steps_sampled&#x27;: 5065320, &#x27;num_agent_steps_trained&#x27;: 5065320}</td><td style=\"text-align: right;\">                      2483</td><td>172.28.0.2</td><td style=\"text-align: right;\">              5.06532e+06</td><td style=\"text-align: right;\">              5.06532e+06</td><td style=\"text-align: right;\">            5.06532e+06</td><td style=\"text-align: right;\">                             2040</td><td style=\"text-align: right;\">            5.06532e+06</td><td style=\"text-align: right;\">                             2040</td><td style=\"text-align: right;\">                    0</td><td style=\"text-align: right;\">                   30</td><td style=\"text-align: right;\">                      0</td><td style=\"text-align: right;\">                         2040</td><td>{&#x27;cpu_util_percent&#x27;: 25.991666666666664, &#x27;ram_util_percent&#x27;: 23.3}</td><td style=\"text-align: right;\">11513</td><td>{}                 </td><td>{}                  </td><td>{}                 </td><td>{&#x27;mean_raw_obs_processing_ms&#x27;: 4.721087315526949, &#x27;mean_inference_ms&#x27;: 3.333378075530862, &#x27;mean_action_processing_ms&#x27;: 0.21744370135640495, &#x27;mean_env_wait_ms&#x27;: 23.309351779254158, &#x27;mean_env_render_ms&#x27;: 0.0}</td><td>{&#x27;episode_reward_max&#x27;: -12.199999999999978, &#x27;episode_reward_min&#x27;: -350.80000000000047, &#x27;episode_reward_mean&#x27;: -91.19399999999996, &#x27;episode_len_mean&#x27;: 100.0, &#x27;episode_media&#x27;: {}, &#x27;episodes_this_iter&#x27;: 60, &#x27;policy_reward_min&#x27;: {}, &#x27;policy_reward_max&#x27;: {}, &#x27;policy_reward_mean&#x27;: {}, &#x27;custom_metrics&#x27;: {}, &#x27;hist_stats&#x27;: {&#x27;episode_reward&#x27;: [-56.80000000000009, -231.7, -283.79999999999984, -284.6999999999999, -19.299999999999994, -212.2, -18.799999999999986, -17.700000000000006, -21.800000000000026, -145.59999999999988, -57.80000000000009, -27.600000000000033, -58.60000000000007, -20.700000000000003, -199.79999999999978, -18.799999999999994, -13.199999999999974, -265.7999999999997, -109.60000000000005, -16.799999999999986, -38.60000000000004, -197.79999999999978, -12.199999999999978, -70.60000000000005, -217.79999999999976, -269.7999999999998, -56.80000000000009, -273.7999999999998, -15.699999999999978, -18.7, -22.700000000000017, -142.60000000000002, -37.600000000000094, -57.80000000000009, -14.79999999999998, -271.7999999999998, -271.6999999999998, -253.79999999999967, -58.8000000000001, -89.80000000000004, -282.6999999999999, -92.79999999999995, -57.80000000000009, -233.79999999999973, -97.80000000000005, -12.799999999999976, -21.400000000000013, -18.80000000000002, -217.79999999999976, -15.799999999999976, -14.399999999999983, -16.59999999999999, -228.79999999999973, -97.79999999999995, -81.59999999999997, -350.80000000000047, -57.80000000000009, -19.700000000000003, -15.599999999999973, -19.800000000000004, -56.80000000000009, -57.80000000000009, -69.20000000000003, -14.79999999999997, -38.40000000000007, -117.79999999999991, -287.80000000000007, -57.70000000000009, -57.80000000000009, -18.7, -19.90000000000002, -18.800000000000004, -20.400000000000023, -56.70000000000009, -62.400000000000034, -12.499999999999979, -12.699999999999989, -18.80000000000001, -19.800000000000022, -16.799999999999986, -56.80000000000009, -18.399999999999988, -48.700000000000074, -24.70000000000001, -17.099999999999998, -57.70000000000009, -211.79999999999976, -46.80000000000011, -64.70000000000007, -19.700000000000014, -259.7999999999997, -247.7999999999997, -57.80000000000009, -56.80000000000009, -72.70000000000006, -32.80000000000002, -17.59999999999998, -43.800000000000054, -284.7999999999999, -14.799999999999974], &#x27;episode_lengths&#x27;: [100, 100, 100, 100, 100, 100, 100, 100, 100, 100, 100, 100, 100, 100, 100, 100, 100, 100, 100, 100, 100, 100, 100, 100, 100, 100, 100, 100, 100, 100, 100, 100, 100, 100, 100, 100, 100, 100, 100, 100, 100, 100, 100, 100, 100, 100, 100, 100, 100, 100, 100, 100, 100, 100, 100, 100, 100, 100, 100, 100, 100, 100, 100, 100, 100, 100, 100, 100, 100, 100, 100, 100, 100, 100, 100, 100, 100, 100, 100, 100, 100, 100, 100, 100, 100, 100, 100, 100, 100, 100, 100, 100, 100, 100, 100, 100, 100, 100, 100, 100]}, &#x27;sampler_perf&#x27;: {&#x27;mean_raw_obs_processing_ms&#x27;: 4.721087315526949, &#x27;mean_inference_ms&#x27;: 3.333378075530862, &#x27;mean_action_processing_ms&#x27;: 0.21744370135640495, &#x27;mean_env_wait_ms&#x27;: 23.309351779254158, &#x27;mean_env_render_ms&#x27;: 0.0}, &#x27;num_faulty_episodes&#x27;: 0}</td><td style=\"text-align: right;\">             17755.8</td><td style=\"text-align: right;\">            8.2447</td><td style=\"text-align: right;\">       17755.8</td><td>{&#x27;training_iteration_time_ms&#x27;: 7334.143, &#x27;load_time_ms&#x27;: 30.526, &#x27;load_throughput&#x27;: 66827.559, &#x27;learn_time_ms&#x27;: 6046.438, &#x27;learn_throughput&#x27;: 337.389, &#x27;synch_weights_time_ms&#x27;: 13.911}</td><td style=\"text-align: right;\"> 1670259802</td><td style=\"text-align: right;\">                        0</td><td style=\"text-align: right;\">      5.06532e+06</td><td style=\"text-align: right;\">                2483</td><td>0b1b8_00000</td><td style=\"text-align: right;\">      24.7991</td></tr>\n",
       "</tbody>\n",
       "</table>\n",
       "</div>\n",
       "<style>\n",
       ".trialProgress {\n",
       "  display: flex;\n",
       "  flex-direction: column;\n",
       "  color: var(--jp-ui-font-color1);\n",
       "}\n",
       ".trialProgress h3 {\n",
       "  font-weight: bold;\n",
       "}\n",
       ".trialProgress td {\n",
       "  white-space: nowrap;\n",
       "}\n",
       "</style>\n"
      ],
      "text/plain": [
       "<IPython.core.display.HTML object>"
      ]
     },
     "metadata": {},
     "output_type": "display_data"
    }
   ],
   "source": [
    "\n",
    "tune.Tuner(\n",
    "        \"PPO\",\n",
    "        run_config=air.RunConfig(\n",
    "            stop={\"timesteps_total\": 10e6},\n",
    "            local_dir='results/APPO', name=\"explore\",\n",
    "            checkpoint_config=air.CheckpointConfig(\n",
    "                checkpoint_frequency=500, \n",
    "            ),\n",
    "        ),\n",
    "        param_space={\n",
    "            # CC3 specific.\n",
    "            \"env\": \"CybORG\",\n",
    "            # General\n",
    "            \"num_gpus\": 1,\n",
    "            \"num_workers\": 30,\n",
    "            \"horizon\": 100,\n",
    "            \"num_envs_per_worker\": 2,\n",
    "            #\"exploration_config\": tune.grid_search([{\"type\": \"RE3\",\n",
    "            #    \"embeds_dim\": 128,\n",
    "            #    \"beta_schedule\": \"constant\",\n",
    "            #    \"sub_exploration\": {\n",
    "            #        \"type\": \"StochasticSampling\",\n",
    "            #},}, \n",
    "            \"exploration_config\": {\"type\": \"StochasticSampling\"},\n",
    "            #algo params\n",
    "            \"train_batch_size\": 2000,\n",
    "            \"lr\": 0.000025,\n",
    "            \"gamma\": 0.99,\n",
    "            \"framework\": 'tf',\n",
    "            \"model\": {\n",
    "                    \"fcnet_hiddens\": [256, 256],\n",
    "                    \"fcnet_activation\": \"tanh\",\n",
    "                    'use_lstm': True,\n",
    "                    'max_seq_len': 5,\n",
    "                },\n",
    "            \n",
    " \n",
    "        },\n",
    "    ).fit()"
   ]
  },
  {
   "cell_type": "code",
   "execution_count": 5,
   "metadata": {},
   "outputs": [
    {
     "name": "stdout",
     "output_type": "stream",
     "text": [
      "Mon Dec  5 12:03:44 2022       \n",
      "+-----------------------------------------------------------------------------+\n",
      "| NVIDIA-SMI 450.119.03   Driver Version: 450.119.03   CUDA Version: 11.2     |\n",
      "|-------------------------------+----------------------+----------------------+\n",
      "| GPU  Name        Persistence-M| Bus-Id        Disp.A | Volatile Uncorr. ECC |\n",
      "| Fan  Temp  Perf  Pwr:Usage/Cap|         Memory-Usage | GPU-Util  Compute M. |\n",
      "|                               |                      |               MIG M. |\n",
      "|===============================+======================+======================|\n",
      "|   0  Tesla V100-PCIE...  Off  | 00000000:83:00.0 Off |                    0 |\n",
      "| N/A   39C    P0    38W / 250W |   2167MiB / 32510MiB |      0%      Default |\n",
      "|                               |                      |                  N/A |\n",
      "+-------------------------------+----------------------+----------------------+\n",
      "                                                                               \n",
      "+-----------------------------------------------------------------------------+\n",
      "| Processes:                                                                  |\n",
      "|  GPU   GI   CI        PID   Type   Process name                  GPU Memory |\n",
      "|        ID   ID                                                   Usage      |\n",
      "|=============================================================================|\n",
      "+-----------------------------------------------------------------------------+\n"
     ]
    }
   ],
   "source": [
    "!nvidia-smi"
   ]
  },
  {
   "cell_type": "code",
   "execution_count": null,
   "metadata": {},
   "outputs": [],
   "source": [
    "!pip show ray"
   ]
  },
  {
   "cell_type": "code",
   "execution_count": null,
   "metadata": {},
   "outputs": [],
   "source": [
    "path = str(inspect.getfile(CybORG))\n",
    "path = path[:-10] + '/Shared/Scenarios/Scenario2.yaml'\n",
    "agents = {\"Red\": B_lineAgent, \"Green\": GreenAgent}\n",
    "cyborg = CybORG(scenario_file=path, environment='sim', agents=agents)\n",
    "env = RLlibWrapper(env=cyborg, agent_name=\"Blue\", max_steps=100)"
   ]
  },
  {
   "cell_type": "code",
   "execution_count": null,
   "metadata": {},
   "outputs": [],
   "source": [
    "env.observation_space"
   ]
  },
  {
   "cell_type": "code",
   "execution_count": 18,
   "metadata": {},
   "outputs": [
    {
     "data": {
      "text/plain": [
       "0.0030630571070921465"
      ]
     },
     "execution_count": 18,
     "metadata": {},
     "output_type": "execute_result"
    }
   ],
   "source": [
    "dist = np.array([0.9997, 0.0001, 0.0001, 0.0001])\n",
    "entropy = -np.sum(dist * np.log(dist))\n",
    "entropy"
   ]
  },
  {
   "cell_type": "code",
   "execution_count": 19,
   "metadata": {},
   "outputs": [
    {
     "data": {
      "text/plain": [
       "0.6949892486343404"
      ]
     },
     "execution_count": 19,
     "metadata": {},
     "output_type": "execute_result"
    }
   ],
   "source": [
    "dist = np.array([0.5, 0.5, 0.0001, 0.0001])\n",
    "entropy = -np.sum(dist * np.log(dist))\n",
    "entropy"
   ]
  },
  {
   "cell_type": "code",
   "execution_count": 20,
   "metadata": {},
   "outputs": [
    {
     "data": {
      "text/plain": [
       "1.3862943611198906"
      ]
     },
     "execution_count": 20,
     "metadata": {},
     "output_type": "execute_result"
    }
   ],
   "source": [
    "dist = np.array([0.25, 0.25, 0.25, 0.25])\n",
    "entropy = -np.sum(dist * np.log(dist))\n",
    "entropy"
   ]
  },
  {
   "cell_type": "code",
   "execution_count": null,
   "metadata": {},
   "outputs": [],
   "source": []
  }
 ],
 "metadata": {
  "kernelspec": {
   "display_name": "Python 3",
   "language": "python",
   "name": "python3"
  },
  "language_info": {
   "codemirror_mode": {
    "name": "ipython",
    "version": 3
   },
   "file_extension": ".py",
   "mimetype": "text/x-python",
   "name": "python",
   "nbconvert_exporter": "python",
   "pygments_lexer": "ipython3",
   "version": "3.8.10"
  }
 },
 "nbformat": 4,
 "nbformat_minor": 2
}
