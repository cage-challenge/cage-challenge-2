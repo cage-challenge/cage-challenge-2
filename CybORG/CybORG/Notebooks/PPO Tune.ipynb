{
 "cells": [
  {
   "cell_type": "code",
   "execution_count": 1,
   "metadata": {},
   "outputs": [],
   "source": [
    "import inspect\n",
    "import time\n",
    "from statistics import mean, stdev\n",
    "from CybORG import CybORG\n",
    "from CybORG.Agents import B_lineAgent, SleepAgent, GreenAgent\n",
    "from CybORG.Agents.SimpleAgents.BaseAgent import BaseAgent\n",
    "from CybORG.Agents.SimpleAgents.BlueReactAgent import BlueReactRemoveAgent\n",
    "from CybORG.Agents.SimpleAgents.Meander import RedMeanderAgent\n",
    "from CybORG.Agents.Wrappers.EnumActionWrapper import EnumActionWrapper\n",
    "from CybORG.Agents.Wrappers.FixedFlatWrapper import FixedFlatWrapper\n",
    "from CybORG.Agents.Wrappers.OpenAIGymWrapper import OpenAIGymWrapper\n",
    "from CybORG.Agents.Wrappers.ReduceActionSpaceWrapper import ReduceActionSpaceWrapper\n",
    "from CybORG.Agents.Wrappers import ChallengeWrapper\n",
    "import os\n",
    "\n",
    "from ray.tune.registry import register_env\n",
    "from CybORG.Agents.Wrappers.rllib_wrapper import RLlibWrapper\n",
    "import warnings\n",
    "import numpy as np\n",
    "from ray import air, tune\n",
    "warnings.filterwarnings('ignore')"
   ]
  },
  {
   "cell_type": "code",
   "execution_count": 4,
   "metadata": {},
   "outputs": [],
   "source": [
    "def env_creator(env_config: dict):\n",
    "    path = str(inspect.getfile(CybORG))\n",
    "    path = path[:-10] + '/Shared/Scenarios/Scenario2.yaml'\n",
    "    agents = {\"Red\": B_lineAgent, \"Green\": GreenAgent}\n",
    "    cyborg = CybORG(scenario_file=path, environment='sim', agents=agents)\n",
    "    env = RLlibWrapper(env=cyborg, agent_name=\"Blue\", max_steps=100)\n",
    "    return env\n",
    "\n",
    "def print_results(results_dict):\n",
    "    train_iter = results_dict[\"training_iteration\"]\n",
    "    r_mean = results_dict[\"episode_reward_mean\"]\n",
    "    r_max = results_dict[\"episode_reward_max\"]\n",
    "    r_min = results_dict[\"episode_reward_min\"]\n",
    "    print(f\"{train_iter:4d} \\tr_mean: {r_mean:.1f} \\tr_max: {r_max:.1f} \\tr_min: {r_min: .1f}\")\n",
    "\n",
    "register_env(name=\"CybORG\", env_creator=env_creator)"
   ]
  },
  {
   "cell_type": "code",
   "execution_count": 13,
   "metadata": {},
   "outputs": [
    {
     "data": {
      "text/html": [
       "<div class=\"tuneStatus\">\n",
       "  <div style=\"display: flex;flex-direction: row\">\n",
       "    <div style=\"display: flex;flex-direction: column;\">\n",
       "      <h3>Tune Status</h3>\n",
       "      <table>\n",
       "<tbody>\n",
       "<tr><td>Current time:</td><td>2022-12-16 12:42:28</td></tr>\n",
       "<tr><td>Running for: </td><td>00:08:27.98        </td></tr>\n",
       "<tr><td>Memory:      </td><td>37.8/125.8 GiB     </td></tr>\n",
       "</tbody>\n",
       "</table>\n",
       "    </div>\n",
       "    <div class=\"vDivider\"></div>\n",
       "    <div class=\"systemInfo\">\n",
       "      <h3>System Info</h3>\n",
       "      Using FIFO scheduling algorithm.<br>Resources requested: 31.0/40 CPUs, 1.0/1 GPUs, 0.0/74.93 GiB heap, 0.0/36.1 GiB objects (0.0/1.0 accelerator_type:V100)\n",
       "    </div>\n",
       "    \n",
       "  </div>\n",
       "  <div class=\"hDivider\"></div>\n",
       "  <div class=\"trialStatus\">\n",
       "    <h3>Trial Status</h3>\n",
       "    <table>\n",
       "<thead>\n",
       "<tr><th>Trial name            </th><th>status  </th><th>loc             </th><th style=\"text-align: right;\">  iter</th><th style=\"text-align: right;\">  total time (s)</th><th style=\"text-align: right;\">    ts</th><th style=\"text-align: right;\">  reward</th><th style=\"text-align: right;\">  num_recreated_worker\n",
       "s</th><th style=\"text-align: right;\">  episode_reward_max</th><th style=\"text-align: right;\">  episode_reward_min</th></tr>\n",
       "</thead>\n",
       "<tbody>\n",
       "<tr><td>PPO_CybORG_eb02e_00000</td><td>RUNNING </td><td>172.28.0.2:35306</td><td style=\"text-align: right;\">    87</td><td style=\"text-align: right;\">         475.217</td><td style=\"text-align: right;\">261000</td><td style=\"text-align: right;\">  -102.8</td><td style=\"text-align: right;\">0</td><td style=\"text-align: right;\">               -15.4</td><td style=\"text-align: right;\">              -227.3</td></tr>\n",
       "</tbody>\n",
       "</table>\n",
       "  </div>\n",
       "</div>\n",
       "<style>\n",
       ".tuneStatus {\n",
       "  color: var(--jp-ui-font-color1);\n",
       "}\n",
       ".tuneStatus .systemInfo {\n",
       "  display: flex;\n",
       "  flex-direction: column;\n",
       "}\n",
       ".tuneStatus td {\n",
       "  white-space: nowrap;\n",
       "}\n",
       ".tuneStatus .trialStatus {\n",
       "  display: flex;\n",
       "  flex-direction: column;\n",
       "}\n",
       ".tuneStatus h3 {\n",
       "  font-weight: bold;\n",
       "}\n",
       ".tuneStatus .hDivider {\n",
       "  border-bottom-width: var(--jp-border-width);\n",
       "  border-bottom-color: var(--jp-border-color0);\n",
       "  border-bottom-style: solid;\n",
       "}\n",
       ".tuneStatus .vDivider {\n",
       "  border-left-width: var(--jp-border-width);\n",
       "  border-left-color: var(--jp-border-color0);\n",
       "  border-left-style: solid;\n",
       "  margin: 0.5em 1em 0.5em 1em;\n",
       "}\n",
       "</style>\n"
      ],
      "text/plain": [
       "<IPython.core.display.HTML object>"
      ]
     },
     "metadata": {},
     "output_type": "display_data"
    },
    {
     "name": "stderr",
     "output_type": "stream",
     "text": [
      "\u001b[2m\u001b[36m(PPO pid=35306)\u001b[0m 2022-12-16 12:34:07,417\tINFO algorithm.py:2303 -- Your framework setting is 'tf', meaning you are using static-graph mode. Set framework='tf2' to enable eager execution with tf2.x. You may also then want to set eager_tracing=True in order to reach similar execution speed as with static-graph mode.\n",
      "\u001b[2m\u001b[36m(PPO pid=35306)\u001b[0m 2022-12-16 12:34:07,418\tWARNING ppo.py:351 -- `train_batch_size` (3000) cannot be achieved with your other settings (num_workers=30 num_envs_per_worker=1 rollout_fragment_length=200)! Auto-adjusting `rollout_fragment_length` to 100.\n",
      "\u001b[2m\u001b[36m(PPO pid=35306)\u001b[0m 2022-12-16 12:34:07,418\tINFO ppo.py:379 -- In multi-agent mode, policies will be optimized sequentially by the multi-GPU optimizer. Consider setting simple_optimizer=True if this doesn't work for you.\n",
      "\u001b[2m\u001b[36m(PPO pid=35306)\u001b[0m 2022-12-16 12:34:07,419\tINFO algorithm.py:457 -- Current log_level is WARN. For more information, set 'log_level': 'INFO' / 'DEBUG' or use the -v and -vv flags.\n",
      "\u001b[2m\u001b[36m(RolloutWorker pid=35336)\u001b[0m 2022-12-16 12:34:16,514\tWARNING env.py:147 -- Your env doesn't have a .spec.max_episode_steps attribute. This is fine if you have set 'horizon' in your config dictionary, or `soft_horizon`. However, if you haven't, 'horizon' will default to infinity, and your environment will not be reset.\n",
      "\u001b[2m\u001b[36m(PPO pid=35306)\u001b[0m 2022-12-16 12:34:24,583\tINFO trainable.py:164 -- Trainable.setup took 17.168 seconds. If your trainable is slow to initialize, consider setting reuse_actors=True to reduce actor creation overheads.\n",
      "\u001b[2m\u001b[36m(PPO pid=35306)\u001b[0m 2022-12-16 12:34:24,584\tWARNING util.py:66 -- Install gputil for GPU system monitoring.\n"
     ]
    },
    {
     "data": {
      "text/html": [
       "<div class=\"trialProgress\">\n",
       "  <h3>Trial Progress</h3>\n",
       "  <table>\n",
       "<thead>\n",
       "<tr><th>Trial name            </th><th style=\"text-align: right;\">  agent_timesteps_total</th><th>counters                                                                                                                                </th><th>custom_metrics  </th><th>date               </th><th>done  </th><th style=\"text-align: right;\">  episode_len_mean</th><th>episode_media  </th><th style=\"text-align: right;\">  episode_reward_max</th><th style=\"text-align: right;\">  episode_reward_mean</th><th style=\"text-align: right;\">  episode_reward_min</th><th style=\"text-align: right;\">  episodes_this_iter</th><th style=\"text-align: right;\">  episodes_total</th><th>experiment_id                   </th><th>hostname    </th><th>info                                                                                                                                                                                                                                                                                                                                                                                                                                                              </th><th style=\"text-align: right;\">  iterations_since_restore</th><th>node_ip   </th><th style=\"text-align: right;\">  num_agent_steps_sampled</th><th style=\"text-align: right;\">  num_agent_steps_trained</th><th style=\"text-align: right;\">  num_env_steps_sampled</th><th style=\"text-align: right;\">  num_env_steps_sampled_this_iter</th><th style=\"text-align: right;\">  num_env_steps_trained</th><th style=\"text-align: right;\">  num_env_steps_trained_this_iter</th><th style=\"text-align: right;\">  num_faulty_episodes</th><th style=\"text-align: right;\">  num_healthy_workers</th><th style=\"text-align: right;\">  num_recreated_workers</th><th style=\"text-align: right;\">  num_steps_trained_this_iter</th><th>perf                                                              </th><th style=\"text-align: right;\">  pid</th><th>policy_reward_max  </th><th>policy_reward_mean  </th><th>policy_reward_min  </th><th>sampler_perf                                                                                                                                                                                                   </th><th>sampler_results                                                                                                                                                                                                                                                                                                                                                                                                                                                                                                                                                                                                                                                                                                                                                                                                                                                                                                                                                                                                                                                                                                                                                                                                                                                                                                                                                                                                                                                                                                                                                                                                                                                                                                                                                                                                                                                                                                                                                                                                                                                                                                                                                                                                                                                                                                                                                                                                                                                                                                                                                                                                                                                                                                                                                                                                                                                                                                                                                                                                                                                                                                  </th><th style=\"text-align: right;\">  time_since_restore</th><th style=\"text-align: right;\">  time_this_iter_s</th><th style=\"text-align: right;\">  time_total_s</th><th>timers                                                                                                                                                                                 </th><th style=\"text-align: right;\">  timestamp</th><th style=\"text-align: right;\">  timesteps_since_restore</th><th style=\"text-align: right;\">  timesteps_total</th><th style=\"text-align: right;\">  training_iteration</th><th>trial_id   </th><th style=\"text-align: right;\">  warmup_time</th></tr>\n",
       "</thead>\n",
       "<tbody>\n",
       "<tr><td>PPO_CybORG_eb02e_00000</td><td style=\"text-align: right;\">                 261000</td><td>{&#x27;num_env_steps_sampled&#x27;: 261000, &#x27;num_env_steps_trained&#x27;: 261000, &#x27;num_agent_steps_sampled&#x27;: 261000, &#x27;num_agent_steps_trained&#x27;: 261000}</td><td>{}              </td><td>2022-12-16_12-42-23</td><td>False </td><td style=\"text-align: right;\">               100</td><td>{}             </td><td style=\"text-align: right;\">               -15.4</td><td style=\"text-align: right;\">               -102.8</td><td style=\"text-align: right;\">              -227.3</td><td style=\"text-align: right;\">                  30</td><td style=\"text-align: right;\">            2610</td><td>128860a1aad34cc29b334440d11a9248</td><td>01589170c3ff</td><td>{&#x27;learner&#x27;: {&#x27;default_policy&#x27;: {&#x27;learner_stats&#x27;: {&#x27;cur_kl_coeff&#x27;: 0.20000000298023224, &#x27;cur_lr&#x27;: 0.0005000000237487257, &#x27;total_loss&#x27;: 6.3965383, &#x27;policy_loss&#x27;: -0.1347836, &#x27;vf_loss&#x27;: 6.523888, &#x27;vf_explained_var&#x27;: 0.03908292, &#x27;kl&#x27;: 0.037166, &#x27;entropy&#x27;: 2.320218, &#x27;entropy_coeff&#x27;: 0.0, &#x27;model&#x27;: {}}, &#x27;train&#x27;: None}}, &#x27;num_env_steps_sampled&#x27;: 261000, &#x27;num_env_steps_trained&#x27;: 261000, &#x27;num_agent_steps_sampled&#x27;: 261000, &#x27;num_agent_steps_trained&#x27;: 261000}</td><td style=\"text-align: right;\">                        87</td><td>172.28.0.2</td><td style=\"text-align: right;\">                   261000</td><td style=\"text-align: right;\">                   261000</td><td style=\"text-align: right;\">                 261000</td><td style=\"text-align: right;\">                             3000</td><td style=\"text-align: right;\">                 261000</td><td style=\"text-align: right;\">                             3000</td><td style=\"text-align: right;\">                    0</td><td style=\"text-align: right;\">                   30</td><td style=\"text-align: right;\">                      0</td><td style=\"text-align: right;\">                         3000</td><td>{&#x27;cpu_util_percent&#x27;: 33.300000000000004, &#x27;ram_util_percent&#x27;: 30.0}</td><td style=\"text-align: right;\">35306</td><td>{}                 </td><td>{}                  </td><td>{}                 </td><td>{&#x27;mean_raw_obs_processing_ms&#x27;: 1.9863312800918083, &#x27;mean_inference_ms&#x27;: 1.6620056666155616, &#x27;mean_action_processing_ms&#x27;: 0.1481255824981774, &#x27;mean_env_wait_ms&#x27;: 10.805737465934882, &#x27;mean_env_render_ms&#x27;: 0.0}</td><td>{&#x27;episode_reward_max&#x27;: -15.399999999999968, &#x27;episode_reward_min&#x27;: -227.29999999999995, &#x27;episode_reward_mean&#x27;: -102.79999999999993, &#x27;episode_len_mean&#x27;: 100.0, &#x27;episode_media&#x27;: {}, &#x27;episodes_this_iter&#x27;: 30, &#x27;policy_reward_min&#x27;: {}, &#x27;policy_reward_max&#x27;: {}, &#x27;policy_reward_mean&#x27;: {}, &#x27;custom_metrics&#x27;: {}, &#x27;hist_stats&#x27;: {&#x27;episode_reward&#x27;: [-104.5, -120.19999999999996, -99.79999999999986, -17.999999999999993, -105.59999999999991, -54.70000000000007, -122.7999999999998, -96.90000000000003, -106.49999999999977, -99.69999999999985, -75.69999999999999, -23.300000000000004, -121.7999999999998, -186.59999999999968, -117.79999999999984, -87.1, -106.20000000000005, -41.700000000000024, -97.10000000000002, -85.6, -107.69999999999996, -71.70000000000002, -107.4, -56.1000000000001, -140.69999999999982, -99.00000000000004, -47.80000000000008, -165.2, -137.79999999999973, -96.40000000000003, -79.80000000000004, -108.69999999999996, -92.29999999999995, -105.5, -36.40000000000004, -66.90000000000002, -99.79999999999988, -32.800000000000075, -102.79999999999998, -140.19999999999985, -98.49999999999996, -102.79999999999998, -116.69999999999975, -47.80000000000003, -97.7999999999999, -97.79999999999995, -118.5, -123.79999999999981, -191.7999999999997, -129.79999999999978, -26.80000000000004, -222.79999999999964, -100.99999999999987, -33.50000000000009, -109.69999999999985, -116.20000000000002, -178.7999999999997, -120.89999999999984, -100.79999999999984, -26.600000000000076, -127.6999999999998, -227.29999999999995, -63.80000000000006, -120.39999999999984, -15.399999999999968, -143.29999999999995, -94.7999999999999, -35.30000000000008, -129.79999999999976, -39.6, -116.39999999999976, -148.79999999999978, -90.79999999999987, -139.7999999999997, -111.79999999999984, -106.90000000000003, -86.0, -53.80000000000002, -111.79999999999983, -85.79999999999993, -120.79999999999977, -122.09999999999994, -74.9, -182.79999999999959, -98.60000000000001, -58.8000000000001, -119.7999999999998, -120.79999999999987, -109.79999999999986, -112.10000000000002, -30.40000000000002, -144.79999999999978, -160.29999999999998, -108.9, -105.79999999999988, -111.6, -164.79999999999984, -146.5999999999997, -105.80000000000004, -102.2], &#x27;episode_lengths&#x27;: [100, 100, 100, 100, 100, 100, 100, 100, 100, 100, 100, 100, 100, 100, 100, 100, 100, 100, 100, 100, 100, 100, 100, 100, 100, 100, 100, 100, 100, 100, 100, 100, 100, 100, 100, 100, 100, 100, 100, 100, 100, 100, 100, 100, 100, 100, 100, 100, 100, 100, 100, 100, 100, 100, 100, 100, 100, 100, 100, 100, 100, 100, 100, 100, 100, 100, 100, 100, 100, 100, 100, 100, 100, 100, 100, 100, 100, 100, 100, 100, 100, 100, 100, 100, 100, 100, 100, 100, 100, 100, 100, 100, 100, 100, 100, 100, 100, 100, 100, 100]}, &#x27;sampler_perf&#x27;: {&#x27;mean_raw_obs_processing_ms&#x27;: 1.9863312800918083, &#x27;mean_inference_ms&#x27;: 1.6620056666155616, &#x27;mean_action_processing_ms&#x27;: 0.1481255824981774, &#x27;mean_env_wait_ms&#x27;: 10.805737465934882, &#x27;mean_env_render_ms&#x27;: 0.0}, &#x27;num_faulty_episodes&#x27;: 0}</td><td style=\"text-align: right;\">             475.217</td><td style=\"text-align: right;\">           5.46774</td><td style=\"text-align: right;\">       475.217</td><td>{&#x27;training_iteration_time_ms&#x27;: 5445.562, &#x27;load_time_ms&#x27;: 2.287, &#x27;load_throughput&#x27;: 1311936.274, &#x27;learn_time_ms&#x27;: 3744.498, &#x27;learn_throughput&#x27;: 801.175, &#x27;synch_weights_time_ms&#x27;: 9.775}</td><td style=\"text-align: right;\"> 1671194543</td><td style=\"text-align: right;\">                        0</td><td style=\"text-align: right;\">           261000</td><td style=\"text-align: right;\">                  87</td><td>eb02e_00000</td><td style=\"text-align: right;\">      17.1757</td></tr>\n",
       "</tbody>\n",
       "</table>\n",
       "</div>\n",
       "<style>\n",
       ".trialProgress {\n",
       "  display: flex;\n",
       "  flex-direction: column;\n",
       "  color: var(--jp-ui-font-color1);\n",
       "}\n",
       ".trialProgress h3 {\n",
       "  font-weight: bold;\n",
       "}\n",
       ".trialProgress td {\n",
       "  white-space: nowrap;\n",
       "}\n",
       "</style>\n"
      ],
      "text/plain": [
       "<IPython.core.display.HTML object>"
      ]
     },
     "metadata": {},
     "output_type": "display_data"
    },
    {
     "name": "stderr",
     "output_type": "stream",
     "text": [
      "2022-12-16 12:42:24,713\tWARNING tune.py:705 -- Stop signal received (e.g. via SIGINT/Ctrl+C), ending Ray Tune run. This will try to checkpoint the experiment state one last time. Press CTRL+C (or send SIGINT/SIGKILL/SIGTERM) to skip. \n",
      "2022-12-16 12:42:28,988\tERROR tune.py:773 -- Trials did not complete: [PPO_CybORG_eb02e_00000]\n",
      "2022-12-16 12:42:28,989\tINFO tune.py:777 -- Total run time: 508.23 seconds (507.95 seconds for the tuning loop).\n",
      "2022-12-16 12:42:28,990\tWARNING tune.py:783 -- Experiment has been interrupted, but the most recent state was saved. You can continue running this experiment by passing `resume=True` to `tune.run()`\n"
     ]
    },
    {
     "data": {
      "text/plain": [
       "<ray.tune.result_grid.ResultGrid at 0x7efc608a1400>"
      ]
     },
     "execution_count": 13,
     "metadata": {},
     "output_type": "execute_result"
    }
   ],
   "source": [
    "\n",
    "tune.Tuner(\n",
    "        \"PPO\",\n",
    "        run_config=air.RunConfig(\n",
    "            stop={\"timesteps_total\": 2e6},\n",
    "            local_dir='results/APPO', name=\"explore2\",\n",
    "            checkpoint_config=air.CheckpointConfig(\n",
    "                checkpoint_frequency=500, \n",
    "            ),\n",
    "        ),\n",
    "        param_space={\n",
    "            # CC3 specific.\n",
    "            \"env\": \"CybORG\",\n",
    "            # General\n",
    "            \"num_gpus\": 1,\n",
    "            \"num_workers\": 30,\n",
    "            \"horizon\": 100,\n",
    "            \"num_envs_per_worker\": 1,\n",
    "            #\"exploration_config\": tune.grid_search([{\"type\": \"RE3\",\n",
    "            #    \"embeds_dim\": 128,\n",
    "            #    \"beta_schedule\": \"constant\",\n",
    "            #    \"sub_exploration\": {\n",
    "            #        \"type\": \"StochasticSampling\",\n",
    "            #},}, \n",
    "            \"exploration_config\": {\"type\": \"StochasticSampling\"},\n",
    "            #algo params\n",
    "            \"train_batch_size\": 3000,\n",
    "            \"lr\": 0.0005,\n",
    "            \"gamma\": 0.95,\n",
    "            \"framework\": 'tf',\n",
    "            \"model\": {\n",
    "                    \"fcnet_hiddens\": [512, 512],\n",
    "                    \"fcnet_activation\": \"relu\",\n",
    "                    #'use_lstm': True,\n",
    "                    #'max_seq_len': 5,\n",
    "                },\n",
    "            \"output\": \"dataset\",\n",
    "            \"output_config\": {\n",
    "                \"format\": \"json\",\n",
    "                \"path\": \"logs\"},\n",
    "            \"output_compress_columns\": ['prev_actions', 'prev_rewards', 'dones', 't', 'eps_id', 'unroll_id', 'agent_index', 'action_prob', 'action_logp', 'action_dist_inputs', 'advantages', 'value_targets']\n",
    "        },\n",
    "    ).fit()"
   ]
  },
  {
   "cell_type": "code",
   "execution_count": 12,
   "metadata": {},
   "outputs": [
    {
     "name": "stdout",
     "output_type": "stream",
     "text": [
      "NGC-DL-CONTAINER-LICENSE  boot\thome   lib64   mnt   root  srv\ttmp\r\n",
      "app\t\t\t  dev\tlib    libx32  opt   run   sys\tusr\r\n",
      "bin\t\t\t  etc\tlib32  media   proc  sbin  tf\tvar\r\n"
     ]
    }
   ],
   "source": [
    "!ls /"
   ]
  },
  {
   "cell_type": "code",
   "execution_count": null,
   "metadata": {},
   "outputs": [],
   "source": [
    "!pip show ray"
   ]
  },
  {
   "cell_type": "code",
   "execution_count": null,
   "metadata": {},
   "outputs": [],
   "source": [
    "path = str(inspect.getfile(CybORG))\n",
    "path = path[:-10] + '/Shared/Scenarios/Scenario2.yaml'\n",
    "agents = {\"Red\": B_lineAgent, \"Green\": GreenAgent}\n",
    "cyborg = CybORG(scenario_file=path, environment='sim', agents=agents)\n",
    "env = RLlibWrapper(env=cyborg, agent_name=\"Blue\", max_steps=100)"
   ]
  },
  {
   "cell_type": "code",
   "execution_count": null,
   "metadata": {},
   "outputs": [],
   "source": [
    "env.observation_space"
   ]
  },
  {
   "cell_type": "code",
   "execution_count": 18,
   "metadata": {},
   "outputs": [
    {
     "data": {
      "text/plain": [
       "0.0030630571070921465"
      ]
     },
     "execution_count": 18,
     "metadata": {},
     "output_type": "execute_result"
    }
   ],
   "source": [
    "dist = np.array([0.9997, 0.0001, 0.0001, 0.0001])\n",
    "entropy = -np.sum(dist * np.log(dist))\n",
    "entropy"
   ]
  },
  {
   "cell_type": "code",
   "execution_count": 19,
   "metadata": {},
   "outputs": [
    {
     "data": {
      "text/plain": [
       "0.6949892486343404"
      ]
     },
     "execution_count": 19,
     "metadata": {},
     "output_type": "execute_result"
    }
   ],
   "source": [
    "dist = np.array([0.5, 0.5, 0.0001, 0.0001])\n",
    "entropy = -np.sum(dist * np.log(dist))\n",
    "entropy"
   ]
  },
  {
   "cell_type": "code",
   "execution_count": 20,
   "metadata": {},
   "outputs": [
    {
     "data": {
      "text/plain": [
       "1.3862943611198906"
      ]
     },
     "execution_count": 20,
     "metadata": {},
     "output_type": "execute_result"
    }
   ],
   "source": [
    "dist = np.array([0.25, 0.25, 0.25, 0.25])\n",
    "entropy = -np.sum(dist * np.log(dist))\n",
    "entropy"
   ]
  },
  {
   "cell_type": "code",
   "execution_count": null,
   "metadata": {},
   "outputs": [],
   "source": []
  }
 ],
 "metadata": {
  "kernelspec": {
   "display_name": "Python 3",
   "language": "python",
   "name": "python3"
  },
  "language_info": {
   "codemirror_mode": {
    "name": "ipython",
    "version": 3
   },
   "file_extension": ".py",
   "mimetype": "text/x-python",
   "name": "python",
   "nbconvert_exporter": "python",
   "pygments_lexer": "ipython3",
   "version": "3.8.10"
  }
 },
 "nbformat": 4,
 "nbformat_minor": 2
}
