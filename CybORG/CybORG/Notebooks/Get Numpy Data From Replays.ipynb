{
 "cells": [
  {
   "cell_type": "code",
   "execution_count": 2,
   "metadata": {},
   "outputs": [
    {
     "name": "stderr",
     "output_type": "stream",
     "text": [
      "/usr/local/lib/python3.8/dist-packages/tensorflow_probability/python/__init__.py:57: DeprecationWarning: distutils Version classes are deprecated. Use packaging.version instead.\n",
      "  if (distutils.version.LooseVersion(tf.__version__) <\n"
     ]
    }
   ],
   "source": [
    "import tensorflow as tf\n",
    "from ray.rllib.offline.json_reader import JsonReader\n",
    "import numpy as np\n",
    "import numpy_indexed as npi\n",
    "import pandas as pd\n",
    "from true_state_viewer import TrueStateTreeGraphViz, display_tree_pairs\n",
    "from tqdm import trange\n",
    "import os"
   ]
  },
  {
   "cell_type": "code",
   "execution_count": 19,
   "metadata": {},
   "outputs": [
    {
     "name": "stderr",
     "output_type": "stream",
     "text": [
      "2023-02-08 12:46:58,600\tWARNING json_reader.py:239 -- Treating input directory as glob patterns: ['/tf/Cage/Notebooks/logs/APPO/TrueStates_200_1000_Meander_small/*.json', '/tf/Cage/Notebooks/logs/APPO/TrueStates_200_1000_Meander_small/*.zip']\n",
      "100%|██████████| 2000/2000 [00:39<00:00, 51.05it/s]\n"
     ]
    }
   ],
   "source": [
    "path = 'logs/APPO/TrueStates_200_1000_Meander_small'\n",
    "input_reader = JsonReader(path)\n",
    "num_episodes = int(200*10)\n",
    "num_data_points = num_episodes * 99\n",
    "state_length = 42\n",
    "num_actions = 20\n",
    "\n",
    "states = np.ones((num_data_points, state_length))\n",
    "states_t = np.ones((num_data_points, state_length+1))\n",
    "afterstates = np.ones((num_data_points, state_length))\n",
    "actions_onehot = np.zeros((num_data_points, num_actions))\n",
    "rewards = np.ones(num_data_points) \n",
    "next_states = np.ones((num_data_points, state_length))\n",
    "inital_states = []\n",
    "\n",
    "index = 0\n",
    "for e in trange(num_episodes):\n",
    "    data = input_reader.next()\n",
    "    states[index:index+99,:] = data['obs'][0:99]\n",
    "    states_t[index:index+99,:] = np.concatenate([data['obs'][0:99],np.arange(1,100).reshape(99,1)/100], axis=1)\n",
    "    next_states[index:index+99,:] = data['obs'][1:100]\n",
    "    afterstates[index:index+99,:] = data['afterstates'][0:99]\n",
    "    rewards[index:index+99] = data['rewards'][0:99]\n",
    "    actions_onehot[np.arange(index,index+99),data['actions'][0:99]] = 1  \n",
    "    index += 99\n",
    "    \n",
    "    if not data['obs'][0].tobytes() in inital_states:\n",
    "        inital_states.append(data['obs'][0].tobytes())"
   ]
  },
  {
   "cell_type": "code",
   "execution_count": 21,
   "metadata": {},
   "outputs": [],
   "source": [
    "#os.mkdir(path + '/data')\n",
    "np.save(path + '/data/states.npy', states)\n",
    "np.save(path + '/data/states_t.npy', states_t)\n",
    "np.save(path + '/data/next_states.npy', next_states)\n",
    "np.save(path + '/data/afterstates.npy', afterstates)\n",
    "np.save(path + '/data/rewards.npy', rewards)\n",
    "np.save(path + '/data/actions_onehot.npy', actions_onehot)"
   ]
  },
  {
   "cell_type": "code",
   "execution_count": 60,
   "metadata": {},
   "outputs": [
    {
     "name": "stderr",
     "output_type": "stream",
     "text": [
      "100%|██████████| 2000/2000 [00:45<00:00, 43.69it/s]\n"
     ]
    }
   ],
   "source": [
    "episode_len = 99\n",
    "\n",
    "states_seq = np.zeros((num_data_points, episode_len, state_length))\n",
    "actions_onehot_seq = np.zeros((num_data_points,episode_len, num_actions))\n",
    "\n",
    "index = 0\n",
    "for e in trange(num_episodes):\n",
    "    data = input_reader.next()\n",
    "    for t in range(1,episode_len):\n",
    "        states_seq[index+t,0:t,:] = data['obs'][0:t]\n",
    "        actions_onehot_seq[index+t,0:t,data['actions'][0:t]] = 1  \n",
    "    index += 99"
   ]
  },
  {
   "cell_type": "code",
   "execution_count": 61,
   "metadata": {},
   "outputs": [],
   "source": [
    "np.save(path + '/data/states_seq.npy', states_seq)\n",
    "np.save(path + '/data/actions_onehot_seq.npy', actions_onehot_seq)"
   ]
  },
  {
   "cell_type": "code",
   "execution_count": 66,
   "metadata": {},
   "outputs": [
    {
     "name": "stderr",
     "output_type": "stream",
     "text": [
      "100%|██████████| 2000/2000 [00:39<00:00, 50.18it/s]\n"
     ]
    }
   ],
   "source": [
    "episode_len = 99\n",
    "window = 20\n",
    "\n",
    "states_seq = np.zeros((num_data_points, window, state_length))\n",
    "actions_onehot_seq = np.zeros((num_data_points,window, num_actions))\n",
    "\n",
    "index = 0\n",
    "for e in trange(num_episodes):\n",
    "    data = input_reader.next()\n",
    "    for t in range(1,episode_len-window):\n",
    "        states_seq[index+t,:,:] = data['obs'][t:t+window]\n",
    "        actions_onehot_seq[index+t,:,data['actions'][t:t+window]] = 1  \n",
    "    index += 99"
   ]
  },
  {
   "cell_type": "code",
   "execution_count": 67,
   "metadata": {},
   "outputs": [],
   "source": [
    "np.save(path + '/data/states_seq_20.npy', states_seq)\n",
    "np.save(path + '/data/actions_onehot_seq_20.npy', actions_onehot_seq)"
   ]
  },
  {
   "cell_type": "code",
   "execution_count": null,
   "metadata": {},
   "outputs": [],
   "source": []
  }
 ],
 "metadata": {
  "kernelspec": {
   "display_name": "Python 3",
   "language": "python",
   "name": "python3"
  },
  "language_info": {
   "codemirror_mode": {
    "name": "ipython",
    "version": 3
   },
   "file_extension": ".py",
   "mimetype": "text/x-python",
   "name": "python",
   "nbconvert_exporter": "python",
   "pygments_lexer": "ipython3",
   "version": "3.8.10"
  }
 },
 "nbformat": 4,
 "nbformat_minor": 2
}
