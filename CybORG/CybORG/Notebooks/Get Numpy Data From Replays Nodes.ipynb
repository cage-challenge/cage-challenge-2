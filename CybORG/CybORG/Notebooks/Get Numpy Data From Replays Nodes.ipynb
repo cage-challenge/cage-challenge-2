{
 "cells": [
  {
   "cell_type": "code",
   "execution_count": 2,
   "metadata": {},
   "outputs": [
    {
     "name": "stderr",
     "output_type": "stream",
     "text": [
      "/home/adamprice/.local/lib/python3.8/site-packages/scipy/special/orthogonal.py:81: DeprecationWarning: `np.int` is a deprecated alias for the builtin `int`. To silence this warning, use `int` by itself. Doing this will not modify any behavior and is safe. When replacing `np.int`, you may wish to use e.g. `np.int64` or `np.int32` to specify the precision. If you wish to review your current use, check the release note link for additional information.\n",
      "Deprecated in NumPy 1.20; for more details and guidance: https://numpy.org/devdocs/release/1.20.0-notes.html#deprecations\n",
      "  from numpy import (exp, inf, pi, sqrt, floor, sin, cos, around, int,\n"
     ]
    }
   ],
   "source": [
    "import tensorflow as tf\n",
    "from ray.rllib.offline.json_reader import JsonReader\n",
    "import numpy as np\n",
    "import numpy_indexed as npi\n",
    "import pandas as pd\n",
    "#from true_state_viewer import TrueStateTreeGraphViz, display_tree_pairs\n",
    "from tqdm import trange\n",
    "import os"
   ]
  },
  {
   "cell_type": "code",
   "execution_count": 5,
   "metadata": {},
   "outputs": [],
   "source": [
    "def node_action(action, node):\n",
    "    vec = np.zeros(3)\n",
    "    if action < 2: \n",
    "        return vec\n",
    "    action -= 2\n",
    "    if action % 13 == node:\n",
    "        #Analyse #Remove #Resotre\n",
    "        vec[int(action) // 13] = 1\n",
    "    return vec"
   ]
  },
  {
   "cell_type": "code",
   "execution_count": 2,
   "metadata": {},
   "outputs": [
    {
     "ename": "NameError",
     "evalue": "name 'JsonReader' is not defined",
     "output_type": "error",
     "traceback": [
      "\u001b[0;31m---------------------------------------------------------------------------\u001b[0m",
      "\u001b[0;31mNameError\u001b[0m                                 Traceback (most recent call last)",
      "\u001b[0;32m/tmp/ipykernel_26371/461732105.py\u001b[0m in \u001b[0;36m<module>\u001b[0;34m\u001b[0m\n\u001b[1;32m      1\u001b[0m \u001b[0mdata_path\u001b[0m \u001b[0;34m=\u001b[0m \u001b[0;34m'/home/adamprice/u75a-Data-Efficient-Decisions/CybORG/CybORG/Notebooks/logs/PPO/no_decoy_200000'\u001b[0m\u001b[0;34m\u001b[0m\u001b[0;34m\u001b[0m\u001b[0m\n\u001b[0;32m----> 2\u001b[0;31m \u001b[0minput_reader\u001b[0m \u001b[0;34m=\u001b[0m \u001b[0mJsonReader\u001b[0m\u001b[0;34m(\u001b[0m\u001b[0mdata_path\u001b[0m\u001b[0;34m)\u001b[0m\u001b[0;34m\u001b[0m\u001b[0;34m\u001b[0m\u001b[0m\n\u001b[0m\u001b[1;32m      3\u001b[0m \u001b[0mnum_episodes\u001b[0m \u001b[0;34m=\u001b[0m \u001b[0mint\u001b[0m\u001b[0;34m(\u001b[0m\u001b[0;36m200000\u001b[0m\u001b[0;34m/\u001b[0m\u001b[0;36m100\u001b[0m\u001b[0;34m)\u001b[0m\u001b[0;34m\u001b[0m\u001b[0;34m\u001b[0m\u001b[0m\n\u001b[1;32m      4\u001b[0m \u001b[0mnum_data_points\u001b[0m \u001b[0;34m=\u001b[0m \u001b[0mnum_episodes\u001b[0m \u001b[0;34m*\u001b[0m \u001b[0;36m99\u001b[0m\u001b[0;34m\u001b[0m\u001b[0;34m\u001b[0m\u001b[0m\n\u001b[1;32m      5\u001b[0m \u001b[0mstate_length\u001b[0m \u001b[0;34m=\u001b[0m \u001b[0;36m91\u001b[0m\u001b[0;34m\u001b[0m\u001b[0;34m\u001b[0m\u001b[0m\n",
      "\u001b[0;31mNameError\u001b[0m: name 'JsonReader' is not defined"
     ]
    }
   ],
   "source": [
    "data_path = '/home/adamprice/u75a-Data-Efficient-Decisions/CybORG/CybORG/Notebooks/logs/PPO/no_decoy_200000'\n",
    "input_reader = JsonReader(data_path)\n",
    "num_episodes = int(200000/100)\n",
    "num_data_points = num_episodes * 99\n",
    "state_length = 91\n",
    "num_actions = 41\n",
    "\n",
    "nodes = np.zeros((num_data_points*13, 7))\n",
    "actions = np.zeros((num_data_points*13, 6))\n",
    "node_id = np.zeros((num_data_points*13, 13))\n",
    "next_nodes = np.zeros((num_data_points*13, 7))\n",
    "exploit = np.zeros((num_data_points*13, 13))\n",
    "scan = np.zeros((num_data_points*13, 13))\n",
    "privileged = np.zeros((num_data_points*13, 13))\n",
    "user = np.zeros((num_data_points*13, 13))\n",
    "unknown = np.zeros((num_data_points*13, 13))\n",
    "no  = np.zeros((num_data_points*13, 13))\n",
    "\n",
    "index = 0\n",
    "for i in trange(int(num_episodes/2)):\n",
    "    samples = input_reader.next()\n",
    "    ts = 0\n",
    "    for i in range(samples['dones'].shape[0]-1):\n",
    "        if samples['dones'][i]:\n",
    "            continue\n",
    "            ts = 0\n",
    "        for n in range(13):\n",
    "            encoding = np.zeros(13)\n",
    "            encoding[n] = 1\n",
    "            node_id[index,:] = encoding\n",
    "            nodes[index,:] = samples['obs'][i][int(n*7):int(n*7)+7]\n",
    "            if ts > 0:\n",
    "                actions[index,:] = np.concatenate([node_action(samples['actions'][i], n), node_action(samples['actions'][i-1], n)])\n",
    "            else: \n",
    "                actions[index,:] = np.concatenate([node_action(samples['actions'][i], n), np.array([0,0,0])])\n",
    "            next_nodes[index,:] = samples['obs'][i+1][int(n*7):int(n*7)+7]\n",
    "            exploit[index,:] = samples['obs'][i][np.arange(0,91,step=7)]\n",
    "            scan[index,:] = samples['obs'][i][np.arange(1,91,step=7)]\n",
    "            privileged[index,:] = samples['obs'][i][np.arange(3,91,step=7)]\n",
    "            user[index,:] = samples['obs'][i][np.arange(4,91,step=7)]\n",
    "            unknown[index,:] = samples['obs'][i][np.arange(5,91,step=7)]\n",
    "            no[index,:]  = samples['obs'][i][np.arange(6,91,step=7)]\n",
    "            index += 1\n",
    "            ts += 1\n",
    "\n",
    "#os.mkdir(data_path + '/data')\n",
    "np.save(data_path + '/data/nodes.npy', nodes)\n",
    "np.save(data_path + '/data/actions.npy', actions)\n",
    "np.save(data_path + '/data/node_id.npy', node_id)\n",
    "np.save(data_path + '/data/next_nodes.npy', next_nodes)\n",
    "np.save(data_path + '/data/exploit.npy', exploit)\n",
    "np.save(data_path + '/data/scan.npy', scan)\n",
    "np.save(data_path + '/data/privileged.npy', privileged)\n",
    "np.save(data_path + '/data/user.npy', user)\n",
    "np.save(data_path + '/data/unknown.npy', unknown)\n",
    "np.save(data_path + '/data/no.npy', no)"
   ]
  },
  {
   "cell_type": "code",
   "execution_count": 22,
   "metadata": {},
   "outputs": [
    {
     "name": "stderr",
     "output_type": "stream",
     "text": [
      "2023-04-21 08:06:48,763\tWARNING json_reader.py:239 -- Treating input directory as glob patterns: ['/home/adamprice/u75a-Data-Efficient-Decisions/CybORG/CybORG/Notebooks/logs/PPO/no_decoy_200000/*.json', '/home/adamprice/u75a-Data-Efficient-Decisions/CybORG/CybORG/Notebooks/logs/PPO/no_decoy_200000/*.zip']\n",
      "100%|██████████| 1000/1000 [00:19<00:00, 52.43it/s]\n"
     ]
    }
   ],
   "source": [
    "data_path = '/home/adamprice/u75a-Data-Efficient-Decisions/CybORG/CybORG/Notebooks/logs/PPO/no_decoy_200000'\n",
    "input_reader = JsonReader(data_path)\n",
    "num_episodes = int(200000/100)\n",
    "num_data_points = num_episodes * 99\n",
    "state_length = 91\n",
    "num_actions = 41\n",
    "seq_len = 10\n",
    "\n",
    "states = np.zeros((num_data_points, seq_len, state_length))\n",
    "rewards = np.zeros(num_data_points)\n",
    "next_states = np.zeros((num_data_points, state_length))\n",
    "action_hist_oh = np.zeros((num_data_points, seq_len, num_actions))\n",
    "nodes = np.zeros((num_data_points*13, seq_len, 7))\n",
    "actions = np.zeros((num_data_points*13, seq_len, 3))\n",
    "node_id = np.zeros((num_data_points*13, seq_len, 13))\n",
    "next_nodes = np.zeros((num_data_points*13, 7))\n",
    "exploit = np.zeros((num_data_points*13, seq_len, 13))\n",
    "scan = np.zeros((num_data_points*13, seq_len, 13))\n",
    "privileged = np.zeros((num_data_points*13, seq_len, 13))\n",
    "user = np.zeros((num_data_points*13, seq_len, 13))\n",
    "unknown = np.zeros((num_data_points*13, seq_len, 13))\n",
    "no  = np.zeros((num_data_points*13, seq_len, 13))\n",
    "\n",
    "s_index = 0\n",
    "index = 0\n",
    "for i in trange(int(num_episodes/2)):\n",
    "    samples = input_reader.next()\n",
    "    ts = 0\n",
    "    for i in range(samples['dones'].shape[0]-1):\n",
    "        if samples['dones'][i]:\n",
    "            ts = 0\n",
    "            continue\n",
    "        steps = ts if ts < seq_len else seq_len-1  \n",
    "        states[s_index,:steps+1,:] =  samples['obs'][i-steps:i+1,:]\n",
    "        next_states[s_index,:] = samples['obs'][i+1,:]\n",
    "        rewards[s_index] = samples['rewards'][i]\n",
    "        #print(samples['actions'][i-steps:i+1])\n",
    "        action_hist_oh[s_index,:steps+1,:] = np.eye(41)[samples['actions'][i-steps:i+1]]\n",
    "        s_index += 1\n",
    "        # for n in range(13):     \n",
    "        #     encoding = np.zeros((steps, 13))\n",
    "        #     encoding[:steps+1,n] = 1\n",
    "        #     node_id[index,:steps+1,n] = 1\n",
    "        #     nodes[index,:steps+1,:] = samples['obs'][i-steps:i+1,int(n*7):int(n*7)+7]\n",
    "        #     actions[index,:steps+1,:] = np.array([node_action(samples['actions'][i], n) for i in range(i-steps,i+1)])\n",
    "        #     next_nodes[index,:] = samples['obs'][i+1,int(n*7):int(n*7)+7]\n",
    "        #     exploit[index,:steps+1,:] = samples['obs'][i-steps:i+1,np.arange(0,91,step=7)]\n",
    "        #     scan[index,:steps+1,:] = samples['obs'][i-steps:i+1,np.arange(1,91,step=7)]\n",
    "        #     privileged[index,:steps+1,:] = samples['obs'][i-steps:i+1,np.arange(3,91,step=7)]\n",
    "        #     user[index,:steps+1,:] = samples['obs'][i-steps:i+1,np.arange(4,91,step=7)]\n",
    "        #     unknown[index,:steps+1,:] = samples['obs'][i-steps:i+1,np.arange(5,91,step=7)]\n",
    "        #     no[index,:steps+1,:]  = samples['obs'][i-steps:i+1,np.arange(6,91,step=7)]\n",
    "        #     index += 1\n",
    "        ts += 1\n",
    "    \n",
    "data_path = data_path + '/data_seqence_10'\n",
    "#os.mkdir(data_path)\n",
    "#np.save(data_path + '/nodes.npy', nodes)\n",
    "#np.save(data_path + '/actions.npy', actions)\n",
    "np.save(data_path + '/actions_oh.npy', action_hist_oh)\n",
    "# np.save(data_path + '/node_id.npy', node_id)\n",
    "# np.save(data_path + '/next_nodes.npy', next_nodes)\n",
    "# np.save(data_path + '/exploit.npy', exploit)\n",
    "# np.save(data_path + '/scan.npy', scan)\n",
    "# np.save(data_path + '/privileged.npy', privileged)\n",
    "# np.save(data_path + '/user.npy', user)\n",
    "# np.save(data_path + '/unknown.npy', unknown)\n",
    "# np.save(data_path + '/no.npy', no)\n",
    "# np.save(data_path + '/states.npy', states)\n",
    "# np.save(data_path + '/next_states.npy', next_states)\n",
    "# np.save(data_path + '/rewards.npy', rewards)"
   ]
  },
  {
   "cell_type": "code",
   "execution_count": 24,
   "metadata": {},
   "outputs": [
    {
     "data": {
      "text/plain": [
       "array([[0., 0., 0., 0., 0., 0., 0., 0., 0., 0., 0., 0., 0., 0., 0., 0.,\n",
       "        0., 0., 0., 0., 0., 0., 0., 0., 0., 0., 0., 0., 0., 0., 1., 0.,\n",
       "        0., 0., 0., 0., 0., 0., 0., 0., 0.],\n",
       "       [0., 0., 0., 0., 0., 0., 0., 0., 0., 0., 0., 0., 0., 0., 0., 0.,\n",
       "        0., 0., 0., 0., 0., 0., 0., 0., 0., 0., 1., 0., 0., 0., 0., 0.,\n",
       "        0., 0., 0., 0., 0., 0., 0., 0., 0.],\n",
       "       [0., 0., 0., 0., 0., 0., 0., 0., 0., 0., 0., 0., 0., 0., 0., 0.,\n",
       "        0., 0., 0., 0., 0., 0., 0., 0., 0., 0., 0., 0., 0., 0., 0., 0.,\n",
       "        0., 0., 0., 0., 0., 0., 0., 0., 0.],\n",
       "       [0., 0., 0., 0., 0., 0., 0., 0., 0., 0., 0., 0., 0., 0., 0., 0.,\n",
       "        0., 0., 0., 0., 0., 0., 0., 0., 0., 0., 0., 0., 0., 0., 0., 0.,\n",
       "        0., 0., 0., 0., 0., 0., 0., 0., 0.],\n",
       "       [0., 0., 0., 0., 0., 0., 0., 0., 0., 0., 0., 0., 0., 0., 0., 0.,\n",
       "        0., 0., 0., 0., 0., 0., 0., 0., 0., 0., 0., 0., 0., 0., 0., 0.,\n",
       "        0., 0., 0., 0., 0., 0., 0., 0., 0.],\n",
       "       [0., 0., 0., 0., 0., 0., 0., 0., 0., 0., 0., 0., 0., 0., 0., 0.,\n",
       "        0., 0., 0., 0., 0., 0., 0., 0., 0., 0., 0., 0., 0., 0., 0., 0.,\n",
       "        0., 0., 0., 0., 0., 0., 0., 0., 0.],\n",
       "       [0., 0., 0., 0., 0., 0., 0., 0., 0., 0., 0., 0., 0., 0., 0., 0.,\n",
       "        0., 0., 0., 0., 0., 0., 0., 0., 0., 0., 0., 0., 0., 0., 0., 0.,\n",
       "        0., 0., 0., 0., 0., 0., 0., 0., 0.],\n",
       "       [0., 0., 0., 0., 0., 0., 0., 0., 0., 0., 0., 0., 0., 0., 0., 0.,\n",
       "        0., 0., 0., 0., 0., 0., 0., 0., 0., 0., 0., 0., 0., 0., 0., 0.,\n",
       "        0., 0., 0., 0., 0., 0., 0., 0., 0.],\n",
       "       [0., 0., 0., 0., 0., 0., 0., 0., 0., 0., 0., 0., 0., 0., 0., 0.,\n",
       "        0., 0., 0., 0., 0., 0., 0., 0., 0., 0., 0., 0., 0., 0., 0., 0.,\n",
       "        0., 0., 0., 0., 0., 0., 0., 0., 0.],\n",
       "       [0., 0., 0., 0., 0., 0., 0., 0., 0., 0., 0., 0., 0., 0., 0., 0.,\n",
       "        0., 0., 0., 0., 0., 0., 0., 0., 0., 0., 0., 0., 0., 0., 0., 0.,\n",
       "        0., 0., 0., 0., 0., 0., 0., 0., 0.]])"
      ]
     },
     "execution_count": 24,
     "metadata": {},
     "output_type": "execute_result"
    }
   ],
   "source": [
    "data_path = '/home/adamprice/u75a-Data-Efficient-Decisions/CybORG/CybORG/Notebooks/logs/PPO/no_decoy_200000'  + '/data_seqence_10'\n",
    "a = np.load(data_path+'/actions_oh.npy')\n",
    "a[1]"
   ]
  },
  {
   "cell_type": "code",
   "execution_count": 4,
   "metadata": {},
   "outputs": [],
   "source": [
    "np.save(data_path + '/states.npy', states)\n",
    "np.save(data_path + '/next_states.npy', next_states)\n",
    "np.save(data_path + '/rewards.npy', rewards)"
   ]
  },
  {
   "cell_type": "code",
   "execution_count": 46,
   "metadata": {},
   "outputs": [
    {
     "name": "stderr",
     "output_type": "stream",
     "text": [
      "2023-04-04 21:23:05,828\tWARNING json_reader.py:239 -- Treating input directory as glob patterns: ['/home/adamprice/u75a-Data-Efficient-Decisions/CybORG/CybORG/Notebooks/logs/PPO/no_decoy_200000/*.json', '/home/adamprice/u75a-Data-Efficient-Decisions/CybORG/CybORG/Notebooks/logs/PPO/no_decoy_200000/*.zip']\n",
      "100%|██████████| 1000/1000 [00:13<00:00, 73.73it/s]\n"
     ]
    }
   ],
   "source": [
    "data_path = '/home/adamprice/u75a-Data-Efficient-Decisions/CybORG/CybORG/Notebooks/logs/PPO/no_decoy_200000'\n",
    "input_reader = JsonReader(data_path)\n",
    "num_episodes = int(200000/100)\n",
    "num_data_points = num_episodes * 99\n",
    "state_length = 91\n",
    "num_actions = 41\n",
    "\n",
    "true_actions = np.zeros((num_data_points, num_actions))\n",
    "\n",
    "index = 0\n",
    "for i in trange(int(num_episodes/2)):\n",
    "    samples = input_reader.next()\n",
    "    ts = 0\n",
    "    for i in range(samples['dones'].shape[0]-1):\n",
    "        if samples['dones'][i]:\n",
    "            continue\n",
    "            ts = 0\n",
    "        true_actions[index,samples['actions'][i]] = 1\n",
    "        index += 1\n",
    "\n",
    "np.save(data_path + '/data/true_actions.npy', true_actions)"
   ]
  },
  {
   "cell_type": "code",
   "execution_count": 7,
   "metadata": {},
   "outputs": [
    {
     "name": "stderr",
     "output_type": "stream",
     "text": [
      "2023-04-19 09:30:43,070\tWARNING json_reader.py:239 -- Treating input directory as glob patterns: ['/home/adamprice/u75a-Data-Efficient-Decisions/CybORG/CybORG/Notebooks/logs/APPO/no_decoy_800000/*.json', '/home/adamprice/u75a-Data-Efficient-Decisions/CybORG/CybORG/Notebooks/logs/APPO/no_decoy_800000/*.zip']\n",
      "100%|██████████| 800/800 [01:27<00:00,  9.13it/s]\n"
     ]
    }
   ],
   "source": [
    "data_path = '/home/adamprice/u75a-Data-Efficient-Decisions/CybORG/CybORG/Notebooks/logs/APPO/no_decoy_800000'\n",
    "input_reader = JsonReader(data_path)\n",
    "num_episodes = int(800000/100)\n",
    "num_data_points = num_episodes * 99\n",
    "state_length = 91\n",
    "num_actions = 41\n",
    "seq_len = 20\n",
    "\n",
    "states = np.zeros((num_data_points, seq_len, state_length))\n",
    "rewards = np.zeros(num_data_points)\n",
    "next_states = np.zeros((num_data_points, state_length))\n",
    "action_hist_oh = np.zeros((num_data_points, seq_len, num_actions))\n",
    "\n",
    "s_index = 0\n",
    "index = 0\n",
    "for i in trange(int(num_episodes/10)):\n",
    "    samples = input_reader.next()\n",
    "    ts = 0\n",
    "    for i in range(samples['dones'].shape[0]-1):\n",
    "        if samples['dones'][i]:\n",
    "            ts = 0\n",
    "            continue\n",
    "        steps = ts if ts < seq_len else seq_len-1  \n",
    "        states[s_index,:steps+1,:] =  samples['obs'][i-steps:i+1,:]\n",
    "        next_states[s_index,:] = samples['obs'][i+1,:]\n",
    "        rewards[s_index] = samples['rewards'][i]\n",
    "        action_hist_oh[samples['actions'][i-steps:i+1]] = 1\n",
    "        s_index += 1\n",
    "        ts += 1\n",
    "    \n",
    "data_path = data_path + '/data_seqence_20'\n",
    "os.mkdir(data_path)\n",
    "np.save(data_path + '/actions_oh.npy', action_hist_oh)\n",
    "np.save(data_path + '/states.npy', states)\n",
    "np.save(data_path + '/next_states.npy', next_states)\n",
    "np.save(data_path + '/rewards.npy', rewards)"
   ]
  },
  {
   "cell_type": "code",
   "execution_count": 2,
   "metadata": {},
   "outputs": [
    {
     "data": {
      "text/plain": [
       "array([[ 0,  1,  2,  3],\n",
       "       [ 4,  5,  6,  7],\n",
       "       [ 8,  9, 10, 11],\n",
       "       [12, 13, 14, 15],\n",
       "       [16, 17, 18, 19]])"
      ]
     },
     "execution_count": 2,
     "metadata": {},
     "output_type": "execute_result"
    }
   ],
   "source": [
    "import numpy as np\n",
    "t = np.arange(20).reshape((5,4))\n",
    "t"
   ]
  },
  {
   "cell_type": "code",
   "execution_count": 4,
   "metadata": {},
   "outputs": [
    {
     "data": {
      "text/plain": [
       "array([[16, 17, 18, 19],\n",
       "       [12, 13, 14, 15],\n",
       "       [ 8,  9, 10, 11],\n",
       "       [ 4,  5,  6,  7],\n",
       "       [ 0,  1,  2,  3]])"
      ]
     },
     "execution_count": 4,
     "metadata": {},
     "output_type": "execute_result"
    }
   ],
   "source": [
    "np.flip(t,axis=0)"
   ]
  }
 ],
 "metadata": {
  "kernelspec": {
   "display_name": "Python 3",
   "language": "python",
   "name": "python3"
  },
  "language_info": {
   "codemirror_mode": {
    "name": "ipython",
    "version": 3
   },
   "file_extension": ".py",
   "mimetype": "text/x-python",
   "name": "python",
   "nbconvert_exporter": "python",
   "pygments_lexer": "ipython3",
   "version": "3.8.16"
  }
 },
 "nbformat": 4,
 "nbformat_minor": 2
}
