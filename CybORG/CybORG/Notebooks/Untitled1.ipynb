{
 "cells": [
  {
   "cell_type": "code",
   "execution_count": 10,
   "metadata": {},
   "outputs": [
    {
     "name": "stdout",
     "output_type": "stream",
     "text": [
      "Traceback (most recent call last):\n",
      "  File \"/home/adamprice/.local/bin/tensorboard\", line 5, in <module>\n",
      "    from tensorboard.main import run_main\n",
      "  File \"/home/adamprice/.local/lib/python3.8/site-packages/tensorboard/main.py\", line 27, in <module>\n",
      "    from tensorboard import default\n",
      "  File \"/home/adamprice/.local/lib/python3.8/site-packages/tensorboard/default.py\", line 33, in <module>\n",
      "    from tensorboard.plugins.audio import audio_plugin\n",
      "  File \"/home/adamprice/.local/lib/python3.8/site-packages/tensorboard/plugins/audio/audio_plugin.py\", line 23, in <module>\n",
      "    from tensorboard import plugin_util\n",
      "  File \"/home/adamprice/.local/lib/python3.8/site-packages/tensorboard/plugin_util.py\", line 24, in <module>\n",
      "    import markdown\n",
      "  File \"/home/adamprice/.local/lib/python3.8/site-packages/markdown/__init__.py\", line 29, in <module>\n",
      "    from .core import Markdown, markdown, markdownFromFile  # noqa: E402\n",
      "  File \"/home/adamprice/.local/lib/python3.8/site-packages/markdown/core.py\", line 26, in <module>\n",
      "    from . import util\n",
      "  File \"/home/adamprice/.local/lib/python3.8/site-packages/markdown/util.py\", line 36, in <module>\n",
      "    import importlib_metadata as metadata\n",
      "ModuleNotFoundError: No module named 'importlib_metadata'\n"
     ]
    }
   ],
   "source": [
    "!tensorboard --logdir=~/ray_results --host 0.0.0.0"
   ]
  },
  {
   "cell_type": "code",
   "execution_count": 1,
   "metadata": {},
   "outputs": [
    {
     "data": {
      "text/plain": [
       "array([[0, 1, 2],\n",
       "       [0, 1, 2]])"
      ]
     },
     "execution_count": 1,
     "metadata": {},
     "output_type": "execute_result"
    }
   ],
   "source": [
    "import numpy as np\n",
    "inital_state = [0,1,2]\n",
    "inital_state = np.repeat(inital_state, 2).reshape(-1,2).transpose()\n",
    "inital_state"
   ]
  },
  {
   "cell_type": "code",
   "execution_count": 2,
   "metadata": {},
   "outputs": [],
   "source": [
    "reward_to_index = np.load('/home/adamprice/u75a-Data-Efficient-Decisions/CybORG/CybORG/Notebooks/reward_to_index.npy', allow_pickle=True).item()"
   ]
  },
  {
   "cell_type": "code",
   "execution_count": 3,
   "metadata": {},
   "outputs": [
    {
     "data": {
      "text/plain": [
       "{-14.100000381469727: 0,\n",
       " -14.0: 1,\n",
       " -13.100000381469727: 2,\n",
       " -13.0: 3,\n",
       " -12.100000381469727: 4,\n",
       " -12.0: 5,\n",
       " -11.100000381469727: 6,\n",
       " -11.0: 7,\n",
       " -4.099999904632568: 8,\n",
       " -4.0: 9,\n",
       " -3.0999999046325684: 10,\n",
       " -3.0: 11,\n",
       " -2.0999999046325684: 12,\n",
       " -2.0: 13,\n",
       " -1.100000023841858: 14,\n",
       " -1.0: 15,\n",
       " -0.10000000149011612: 16,\n",
       " 0.0: 17}"
      ]
     },
     "execution_count": 3,
     "metadata": {},
     "output_type": "execute_result"
    }
   ],
   "source": [
    "reward_to_index"
   ]
  },
  {
   "cell_type": "code",
   "execution_count": 18,
   "metadata": {},
   "outputs": [
    {
     "data": {
      "text/plain": [
       "array([[0, 1, 2],\n",
       "       [3, 4, 5],\n",
       "       [6, 7, 8],\n",
       "       [9, 4, 5]])"
      ]
     },
     "execution_count": 18,
     "metadata": {},
     "output_type": "execute_result"
    }
   ],
   "source": [
    "state = np.array([[[0,1,2],[3,4,5]],[[6,7,8],[9,4,5]]])\n",
    "state.reshape(-1, 3)"
   ]
  },
  {
   "cell_type": "code",
   "execution_count": 7,
   "metadata": {},
   "outputs": [
    {
     "data": {
      "text/plain": [
       "array([-312.4375 , -315.81125, -292.284  , -255.524  , -241.464  ,\n",
       "       -223.86   , -210.831  , -202.806  , -189.495  , -184.291  ,\n",
       "       -176.639  , -166.975  , -162.137  , -153.698  , -143.628  ,\n",
       "       -128.1    , -113.013  , -104.659  ,  -96.593  ,  -93.298  ,\n",
       "        -92.716  ,  -90.448  ,  -86.846  ,  -86.287  ,  -87.487  ,\n",
       "        -87.105  ,  -86.453  ,  -86.016  ,  -85.064  ,  -82.859  ,\n",
       "        -81.647  ,  -80.884  ,  -79.707  ,  -78.872  ,  -77.79   ,\n",
       "        -77.763  ,  -76.443  ,  -75.608  ,  -75.464  ,  -75.03   ,\n",
       "        -74.799  ,  -75.728  ,  -75.797  ,  -74.282  ,  -74.142  ,\n",
       "        -74.614  ,  -73.489  ,  -73.533  ,  -73.965  ,  -75.301  ,\n",
       "        -74.9    ,  -75.038  ,  -76.331  ,  -76.989  ,  -77.577  ,\n",
       "        -76.686  ,  -75.422  ,  -73.963  ,  -74.38   ,  -75.78   ,\n",
       "        -75.684  ,  -76.686  ,  -80.834  ,  -81.933  ,  -79.652  ,\n",
       "        -76.907  ,  -76.66   ,  -75.911  ,  -74.928  ,  -76.218  ,\n",
       "        -77.363  ,  -79.733  ,  -78.091  ,  -76.294  ,  -76.932  ,\n",
       "        -77.744  ,  -77.594  ,  -76.907  ,  -78.082  ,  -80.011  ,\n",
       "        -79.667  ,  -77.33   ,  -76.418  ,  -76.166  ,  -74.101  ,\n",
       "        -72.746  ,  -74.069  ,  -75.736  ,  -76.24   ,  -74.649  ,\n",
       "        -73.778  ,  -74.479  ,  -73.573  ,  -78.389  ,  -91.15   ,\n",
       "        -88.859  ,  -83.372  ,  -75.147  ,  -73.237  ,  -71.939  ,\n",
       "        -74.177  ,  -76.701  ,  -77.431  ,  -74.223  ,  -74.85   ,\n",
       "        -75.704  ,  -75.453  ,  -74.974  ,  -74.276  ,  -74.732  ,\n",
       "        -74.867  ,  -72.847  ,  -72.271  ,  -70.091  ,  -70.252  ,\n",
       "        -70.44   ,  -70.499  ,  -70.864  ,  -69.866  ,  -69.563  ,\n",
       "        -70.745  ,  -71.479  ,  -73.536  ,  -73.267  ,  -72.736  ,\n",
       "        -71.76   ,  -70.852  ,  -70.159  ,  -70.247  ,  -70.993  ,\n",
       "        -70.416  ,  -69.785  ,  -70.932  ,  -71.555  ,  -70.939  ,\n",
       "        -71.875  ,  -72.238  ,  -72.878  ,  -73.446  ,  -75.829  ,\n",
       "        -76.294  ,  -74.391  ,  -72.291  ,  -71.324  ,  -69.531  ,\n",
       "        -69.397  ,  -68.742  ,  -69.484  ,  -69.858  ,  -74.97   ,\n",
       "        -75.776  ,  -75.49   ,  -72.057  ,  -69.906  ,  -67.645  ,\n",
       "        -68.224  ,  -68.85   ,  -68.781  ,  -67.57   ,  -67.459  ,\n",
       "        -76.407  ,  -78.637  ,  -79.648  ,  -76.831  ,  -75.165  ,\n",
       "        -70.105  ,  -70.407  ,  -74.589  ,  -75.366  ,  -75.511  ,\n",
       "        -74.53   ,  -74.659  ,  -75.826  ,  -79.065  ,  -74.617  ,\n",
       "        -69.454  ,  -72.698  ,  -71.851  ,  -71.362  ,  -65.896  ,\n",
       "        -66.947  ,  -68.697  ,  -68.978  ,  -68.699  ,  -77.398  ,\n",
       "        -78.265  ,  -75.226  ,  -69.441  ,  -68.847  ,  -69.477  ,\n",
       "        -69.896  ,  -69.648  ,  -69.746  ,  -68.8    ,  -68.424  ,\n",
       "        -68.062  ,  -67.667  ,  -68.87   ,  -69.86   ,  -72.039  ])"
      ]
     },
     "execution_count": 7,
     "metadata": {},
     "output_type": "execute_result"
    }
   ],
   "source": [
    "import numpy as np\n",
    "np.load('/home/adamprice/u75a-Data-Efficient-Decisions/rewards_dream_100.npy')"
   ]
  }
 ],
 "metadata": {
  "kernelspec": {
   "display_name": "marllib",
   "language": "python",
   "name": "python3"
  },
  "language_info": {
   "codemirror_mode": {
    "name": "ipython",
    "version": 3
   },
   "file_extension": ".py",
   "mimetype": "text/x-python",
   "name": "python",
   "nbconvert_exporter": "python",
   "pygments_lexer": "ipython3",
   "version": "3.8.0"
  },
  "vscode": {
   "interpreter": {
    "hash": "06de7956fc1566c79b6897e6523e43613e9839e96cab77ba5faf7f0efa936099"
   }
  }
 },
 "nbformat": 4,
 "nbformat_minor": 2
}
