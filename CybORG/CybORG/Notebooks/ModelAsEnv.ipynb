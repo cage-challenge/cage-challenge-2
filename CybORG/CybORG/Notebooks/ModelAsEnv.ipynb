{
 "cells": [
  {
   "cell_type": "code",
   "execution_count": 1,
   "metadata": {},
   "outputs": [],
   "source": [
    "import gym\n",
    "from gym import error, spaces, utils\n",
    "from gym.utils import seeding\n",
    "import numpy as np\n",
    "\n",
    "import tensorflow as tf\n",
    "gpus = tf.config.experimental.list_physical_devices('GPU')\n",
    "for gpu in gpus:\n",
    "    tf.config.experimental.set_memory_growth(gpu, True)\n",
    "from keras.layers import Bidirectional\n",
    "from keras.models import Sequential\n",
    "from keras.layers.core import Activation, Dropout, Dense\n",
    "from keras.layers import Flatten, LSTM, Input\n",
    "from keras.layers import Bidirectional\n",
    "from ray import tune\n",
    "from ray.tune.registry import register_env\n",
    "from keras.models import Model"
   ]
  },
  {
   "cell_type": "code",
   "execution_count": 19,
   "metadata": {},
   "outputs": [
    {
     "name": "stderr",
     "output_type": "stream",
     "text": [
      "/usr/local/lib/python3.8/dist-packages/ipykernel/ipkernel.py:281: DeprecationWarning: `should_run_async` will not call `transform_cell` automatically in the future. Please pass the result to `transformed_cell` argument and any exception that happen during thetransform in `preprocessing_exc_tuple` in IPython 7.17 and above.\n",
      "  and should_run_async(code)\n"
     ]
    }
   ],
   "source": [
    "sequence_length=3\n",
    "state_len = 52\n",
    "num_action = 1\n",
    "encoding_len = state_len + num_action\n",
    "NUM_NODES = 6\n",
    "NODE_CLASSES = [3, 4]\n",
    "\n",
    "class WorldMovelEnv(gym.Env):\n",
    "\n",
    "    def __init__(self):\n",
    "        \n",
    "        self.observation_space = gym.spaces.Box(low=0, high=1, shape=(42,))\n",
    "        self.action_space = gym.spaces.Discrete(20)\n",
    "        \n",
    "        self.step_count = 0\n",
    "        '''\n",
    "        #Afterstate Model\n",
    "        self.as_model = Sequential()\n",
    "        self.as_model.add(Input(shape=(42+20,)))\n",
    "        self.as_model.add(Dense(512, activation='relu'))\n",
    "        self.as_model.add(Dense(512, activation='relu'))\n",
    "        self.as_model.add(Dense(512, activation='relu'))\n",
    "        self.as_model.add(Dense(42, activation='sigmoid'))\n",
    "        #self.as_model.compile(optimizer='adam', loss=tf.keras.losses.BinaryCrossentropy(), metrics=[tf.keras.metrics.BinaryAccuracy()])\n",
    "        self.as_model.load_weights('AfterStateModel')\n",
    "        \n",
    "        #Next State Model\n",
    "        self.ns_model = Sequential()\n",
    "        self.ns_model.add(Input(shape=(42+20,)))\n",
    "        self.ns_model.add(Dense(512, activation='relu'))\n",
    "        self.ns_model.add(Dense(512, activation='relu'))\n",
    "        self.ns_model.add(Dense(512, activation='relu'))\n",
    "        self.ns_model.add(Dense(42, activation='sigmoid'))\n",
    "        #self.ns_model.compile(optimizer='adam', loss=tf.keras.losses.BinaryCrossentropy(), metrics=[tf.keras.metrics.BinaryAccuracy()])\n",
    "        self.ns_model.load_weights('NextStateModel')\n",
    "        '''\n",
    "        #Reward Model\n",
    "        self.r_model = Sequential()\n",
    "        self.r_model.add(Input(shape=(43+20,)))\n",
    "        self.r_model.add(Dense(512, activation='relu'))\n",
    "        self.r_model.add(Dense(512, activation='relu'))\n",
    "        self.r_model.add(Dense(512, activation='relu'))\n",
    "        self.r_model.add(Dense(6, activation='softmax'))\n",
    "        #self.r_model.compile(optimizer='adam', loss=tf.keras.losses.CategoricalCrossentropy(), metrics=[tf.keras.metrics.CategoricalAccuracy()])\n",
    "        self.r_model.load_weights('RewardModel')\n",
    "        \n",
    "        input_ = Input(shape=(43+20,))\n",
    "        x = Dense(512, activation='relu')(input_)\n",
    "        x = Dense(512, activation='relu')(x)\n",
    "        outs = []\n",
    "        for i in range(NUM_NODES):\n",
    "            for n in NODE_CLASSES:\n",
    "                x_ = Dense(128, activation='relu')(x)\n",
    "                outs.append(Dense(n, activation='softmax', name=str(i)+str(n))(x_))\n",
    "\n",
    "        self.ns_model_multi_model = Model(input_, outs)\n",
    "        self.ns_model_multi_model.load_weights('AfterStateModel_MulitLabel')\n",
    "        \n",
    "        self.reward_map = np.load('reward_map.npy', allow_pickle=True).item()\n",
    "        self.state = np.array([0., 0., 1., 0., 0., 0., 1., 0., 0., 1., 0., 0., 0., 1., 0., 0., 1.,\n",
    "       0., 0., 0., 1., 0., 0., 1., 0., 0., 0., 1., 0., 0., 1., 0., 0., 0.,\n",
    "       1., 0., 0., 1., 0., 0., 0., 1.])\n",
    "        self.action = np.zeros(20)\n",
    "\n",
    "    def step(self, action):\n",
    "        self.step_count += 1\n",
    "        \n",
    "        #self.state_action[0,52] = action / 145\n",
    "        #obs_index_probs = self.st_model.predict(np.array([self.state_action]))\n",
    "        #obs_index = np.argmax(obs_index_probs)\n",
    "        #obs_index = np.random.choice(np.arange(9674), p=obs_index_probs[0])\n",
    "        #new_state = self.index_to_state[obs_index]\n",
    "        #new_state = np.frombuffer(new_state)\n",
    "        \n",
    "        \n",
    "        #for i in range(1,3):\n",
    "        #    self.state[i,:] = self.state[i-1,:]\n",
    "        \n",
    "        self.action = np.zeros(20)\n",
    "        self.action[action] = 1\n",
    "        state_action = np.concatenate([self.state, [self.step_count/100], self.action])\n",
    "        #afterstate_probs = self.as_model.predict(np.array([state_action]), verbose=0)\n",
    "        #afterstate = np.array(np.random.rand(1, 42) < afterstate_probs, dtype=np.int8)\n",
    "        \n",
    "        #while True:\n",
    "        #    new_state_probs = self.ns_model.predict(np.array([state_action]), verbose=0)\n",
    "        #    new_state = np.array(np.random.rand(1, 42) < new_state_probs, dtype=np.int8)\n",
    "        #    if int(np.sum(self.state-new_state)) == 0:\n",
    "        #        break\n",
    "        #self.state = new_state[0]\n",
    "        probs = self.ns_model_multi_model.predict(np.array([state_action]), verbose=0)\n",
    "        self.state = np.zeros(42)\n",
    "        index_state = 0; index = 0\n",
    "        for i in range(NUM_NODES):\n",
    "            for n in NODE_CLASSES:\n",
    "                self.state[index_state+np.random.choice(np.arange(n), p=probs[index][0])] = 1\n",
    "                index_state += n; index += 1\n",
    "        \n",
    "       # reward_probs = self.r_model.predict(np.array([self.state]), verbose=0)\n",
    "        #reward = np.random.choice(np.arange(6), p=reward_probs[0])\n",
    "        #reward = self.reward_map[reward]\n",
    "        \n",
    "        #for i in range(1,3):\n",
    "        #    self.state_action[i,:] = self.state_action[i-1,:]\n",
    "        #\n",
    "        #self.state_action[0,:] = np.concatenate([new_state, [0]])\n",
    "        \n",
    "        reward_probs = self.r_model.predict(np.array([state_action]))\n",
    "        reward_index = np.random.choice(np.arange(6), p=reward_probs[0])\n",
    "        reward = self.reward_map[reward_index]\n",
    "        \n",
    "        done = self.step_count == 99\n",
    "        if done:\n",
    "            self.step_count = 0\n",
    "        return self.state, reward, done, {}\n",
    "\n",
    "    def reset(self):\n",
    "        step_count = 0\n",
    "        \n",
    "        #self.state_action = np.zeros((sequence_length,encoding_len))\n",
    "        #self.state = np.zeros((sequence_length,state_len))\n",
    "        \n",
    "        #obs_index_probs = self.st_model.predict(np.array([self.state_action]))\n",
    "        #obs_index = np.argmax(obs_index_probs)\n",
    "        #obs_index = np.random.choice(np.arange(9674), p=obs_index_probs[0])\n",
    "        #new_state = self.index_to_state[obs_index]\n",
    "        #new_state = np.frombuffer(new_state)\n",
    "        self.state = np.array([0., 0., 1., 0., 0., 0., 1., 0., 0., 1., 0., 0., 0., 1., 0., 0., 1.,\n",
    "           0., 0., 0., 1., 0., 0., 1., 0., 0., 0., 1., 0., 0., 1., 0., 0., 0.,\n",
    "           1., 0., 0., 1., 0., 0., 0., 1.])\n",
    "      \n",
    "        return self.state\n",
    "    \n",
    "\n",
    "    def render(self, mode='human', close=False):\n",
    "        pass\n",
    "\n",
    "    def close(self):\n",
    "        pass\n",
    "    \n",
    "def env_creator(config):\n",
    "    return WorldMovelEnv() "
   ]
  },
  {
   "cell_type": "code",
   "execution_count": 20,
   "metadata": {},
   "outputs": [
    {
     "name": "stderr",
     "output_type": "stream",
     "text": [
      "/usr/local/lib/python3.8/dist-packages/ipykernel/ipkernel.py:281: DeprecationWarning: `should_run_async` will not call `transform_cell` automatically in the future. Please pass the result to `transformed_cell` argument and any exception that happen during thetransform in `preprocessing_exc_tuple` in IPython 7.17 and above.\n",
      "  and should_run_async(code)\n"
     ]
    },
    {
     "name": "stdout",
     "output_type": "stream",
     "text": [
      "1/1 [==============================] - 0s 107ms/step\n",
      "(array([0., 0., 1., 0., 0., 0., 1., 0., 0., 1., 0., 0., 0., 1., 0., 0., 1.,\n",
      "       0., 0., 0., 1., 0., 0., 1., 0., 0., 0., 1., 0., 0., 1., 0., 0., 0.,\n",
      "       1., 0., 0., 1., 0., 0., 0., 1.]), 0.0, False, {})\n",
      "1/1 [==============================] - 0s 38ms/step\n",
      "(array([0., 0., 1., 0., 0., 0., 1., 0., 1., 0., 0., 0., 0., 1., 0., 0., 1.,\n",
      "       0., 0., 0., 1., 0., 0., 1., 0., 0., 0., 1., 0., 0., 1., 0., 0., 0.,\n",
      "       1., 0., 1., 0., 0., 0., 0., 1.]), 0.0, False, {})\n",
      "1/1 [==============================] - 0s 43ms/step\n",
      "(array([0., 0., 1., 0., 0., 0., 1., 0., 0., 1., 0., 0., 0., 1., 0., 0., 1.,\n",
      "       0., 0., 0., 1., 0., 0., 1., 0., 0., 0., 1., 0., 1., 0., 0., 0., 0.,\n",
      "       1., 0., 0., 1., 0., 0., 0., 1.]), 0.0, False, {})\n",
      "1/1 [==============================] - 0s 34ms/step\n",
      "(array([0., 0., 1., 0., 0., 0., 1., 0., 0., 1., 0., 0., 0., 1., 0., 0., 1.,\n",
      "       0., 0., 0., 1., 0., 0., 1., 0., 0., 0., 1., 0., 0., 1., 0., 0., 0.,\n",
      "       1., 0., 0., 1., 0., 0., 0., 1.]), -1.0, False, {})\n",
      "1/1 [==============================] - 0s 29ms/step\n",
      "(array([0., 0., 1., 0., 0., 0., 1., 0., 0., 1., 0., 0., 0., 1., 0., 0., 1.,\n",
      "       0., 0., 0., 1., 0., 0., 1., 0., 0., 0., 1., 0., 0., 1., 0., 0., 0.,\n",
      "       1., 0., 0., 1., 0., 1., 0., 0.]), -1.0, False, {})\n",
      "1/1 [==============================] - 0s 33ms/step\n",
      "(array([0., 0., 1., 0., 0., 0., 1., 0., 1., 0., 0., 0., 0., 1., 0., 0., 1.,\n",
      "       0., 0., 0., 1., 0., 0., 1., 0., 0., 0., 1., 0., 0., 1., 0., 0., 0.,\n",
      "       1., 0., 0., 1., 0., 1., 0., 0.]), -0.10000000149011612, False, {})\n",
      "1/1 [==============================] - 0s 47ms/step\n",
      "(array([0., 0., 1., 0., 0., 0., 1., 0., 0., 1., 0., 0., 0., 1., 0., 0., 1.,\n",
      "       0., 0., 0., 1., 0., 0., 1., 0., 0., 0., 1., 0., 0., 1., 0., 0., 0.,\n",
      "       1., 0., 0., 1., 0., 1., 0., 0.]), -1.100000023841858, False, {})\n",
      "1/1 [==============================] - 0s 34ms/step\n",
      "(array([0., 0., 1., 0., 0., 0., 1., 0., 1., 0., 0., 0., 0., 1., 0., 0., 1.,\n",
      "       0., 0., 0., 1., 0., 0., 1., 0., 0., 0., 1., 0., 0., 1., 0., 0., 0.,\n",
      "       1., 0., 0., 1., 1., 0., 0., 0.]), -0.10000000149011612, False, {})\n",
      "1/1 [==============================] - 0s 31ms/step\n",
      "(array([0., 0., 1., 0., 0., 0., 1., 0., 0., 1., 0., 0., 0., 1., 0., 0., 1.,\n",
      "       0., 0., 0., 1., 0., 0., 1., 0., 0., 0., 1., 1., 0., 0., 0., 1., 0.,\n",
      "       0., 0., 0., 1., 1., 0., 0., 0.]), -0.10000000149011612, False, {})\n",
      "1/1 [==============================] - 0s 34ms/step\n",
      "(array([0., 0., 1., 0., 0., 0., 1., 1., 0., 0., 0., 1., 0., 0., 0., 0., 1.,\n",
      "       0., 0., 0., 1., 0., 0., 1., 0., 0., 0., 1., 0., 0., 1., 0., 1., 0.,\n",
      "       0., 0., 0., 1., 1., 0., 0., 0.]), -0.10000000149011612, False, {})\n"
     ]
    },
    {
     "name": "stderr",
     "output_type": "stream",
     "text": [
      "\n",
      "KeyboardInterrupt\n",
      "\n"
     ]
    }
   ],
   "source": [
    "test = WorldMovelEnv()\n",
    "test.reset()\n",
    "for i in range(100):\n",
    "    print(test.step(np.random.randint(20)))"
   ]
  },
  {
   "cell_type": "code",
   "execution_count": 21,
   "metadata": {},
   "outputs": [
    {
     "name": "stderr",
     "output_type": "stream",
     "text": [
      "/usr/local/lib/python3.8/dist-packages/ipykernel/ipkernel.py:281: DeprecationWarning: `should_run_async` will not call `transform_cell` automatically in the future. Please pass the result to `transformed_cell` argument and any exception that happen during thetransform in `preprocessing_exc_tuple` in IPython 7.17 and above.\n",
      "  and should_run_async(code)\n"
     ]
    }
   ],
   "source": [
    "register_env(name=\"DreamCybORG\", env_creator=env_creator)"
   ]
  },
  {
   "cell_type": "code",
   "execution_count": 22,
   "metadata": {},
   "outputs": [],
   "source": [
    "def print_results(results_dict):\n",
    "    train_iter = results_dict[\"training_iteration\"]\n",
    "    r_mean = results_dict[\"episode_reward_mean\"]\n",
    "    r_max = results_dict[\"episode_reward_max\"]\n",
    "    r_min = results_dict[\"episode_reward_min\"]\n",
    "    print(f\"{train_iter:4d} \\tr_mean: {r_mean:.1f} \\tr_max: {r_max:.1f} \\tr_min: {r_min: .1f}\")"
   ]
  },
  {
   "cell_type": "code",
   "execution_count": 32,
   "metadata": {},
   "outputs": [
    {
     "name": "stderr",
     "output_type": "stream",
     "text": [
      "/usr/local/lib/python3.8/dist-packages/ipykernel/ipkernel.py:281: DeprecationWarning: `should_run_async` will not call `transform_cell` automatically in the future. Please pass the result to `transformed_cell` argument and any exception that happen during thetransform in `preprocessing_exc_tuple` in IPython 7.17 and above.\n",
      "  and should_run_async(code)\n",
      "\u001b[2m\u001b[36m(pid=24384)\u001b[0m /usr/local/lib/python3.8/dist-packages/tensorflow_probability/python/__init__.py:57: DeprecationWarning: distutils Version classes are deprecated. Use packaging.version instead.\n",
      "\u001b[2m\u001b[36m(pid=24384)\u001b[0m   if (distutils.version.LooseVersion(tf.__version__) <\n",
      "\u001b[2m\u001b[36m(pid=24394)\u001b[0m /usr/local/lib/python3.8/dist-packages/tensorflow_probability/python/__init__.py:57: DeprecationWarning: distutils Version classes are deprecated. Use packaging.version instead.\n",
      "\u001b[2m\u001b[36m(pid=24394)\u001b[0m   if (distutils.version.LooseVersion(tf.__version__) <\n",
      "\u001b[2m\u001b[36m(pid=24436)\u001b[0m /usr/local/lib/python3.8/dist-packages/tensorflow_probability/python/__init__.py:57: DeprecationWarning: distutils Version classes are deprecated. Use packaging.version instead.\n",
      "\u001b[2m\u001b[36m(pid=24436)\u001b[0m   if (distutils.version.LooseVersion(tf.__version__) <\n",
      "\u001b[2m\u001b[36m(pid=24392)\u001b[0m /usr/local/lib/python3.8/dist-packages/tensorflow_probability/python/__init__.py:57: DeprecationWarning: distutils Version classes are deprecated. Use packaging.version instead.\n",
      "\u001b[2m\u001b[36m(pid=24392)\u001b[0m   if (distutils.version.LooseVersion(tf.__version__) <\n",
      "\u001b[2m\u001b[36m(pid=24382)\u001b[0m /usr/local/lib/python3.8/dist-packages/tensorflow_probability/python/__init__.py:57: DeprecationWarning: distutils Version classes are deprecated. Use packaging.version instead.\n",
      "\u001b[2m\u001b[36m(pid=24382)\u001b[0m   if (distutils.version.LooseVersion(tf.__version__) <\n",
      "\u001b[2m\u001b[36m(pid=24439)\u001b[0m /usr/local/lib/python3.8/dist-packages/tensorflow_probability/python/__init__.py:57: DeprecationWarning: distutils Version classes are deprecated. Use packaging.version instead.\n",
      "\u001b[2m\u001b[36m(pid=24439)\u001b[0m   if (distutils.version.LooseVersion(tf.__version__) <\n",
      "\u001b[2m\u001b[36m(pid=24383)\u001b[0m /usr/local/lib/python3.8/dist-packages/tensorflow_probability/python/__init__.py:57: DeprecationWarning: distutils Version classes are deprecated. Use packaging.version instead.\n",
      "\u001b[2m\u001b[36m(pid=24383)\u001b[0m   if (distutils.version.LooseVersion(tf.__version__) <\n",
      "\u001b[2m\u001b[36m(pid=24388)\u001b[0m /usr/local/lib/python3.8/dist-packages/tensorflow_probability/python/__init__.py:57: DeprecationWarning: distutils Version classes are deprecated. Use packaging.version instead.\n",
      "\u001b[2m\u001b[36m(pid=24388)\u001b[0m   if (distutils.version.LooseVersion(tf.__version__) <\n",
      "\u001b[2m\u001b[36m(pid=24385)\u001b[0m /usr/local/lib/python3.8/dist-packages/tensorflow_probability/python/__init__.py:57: DeprecationWarning: distutils Version classes are deprecated. Use packaging.version instead.\n",
      "\u001b[2m\u001b[36m(pid=24385)\u001b[0m   if (distutils.version.LooseVersion(tf.__version__) <\n",
      "\u001b[2m\u001b[36m(pid=24390)\u001b[0m /usr/local/lib/python3.8/dist-packages/tensorflow_probability/python/__init__.py:57: DeprecationWarning: distutils Version classes are deprecated. Use packaging.version instead.\n",
      "\u001b[2m\u001b[36m(pid=24390)\u001b[0m   if (distutils.version.LooseVersion(tf.__version__) <\n",
      "\u001b[2m\u001b[36m(pid=24519)\u001b[0m /usr/local/lib/python3.8/dist-packages/tensorflow_probability/python/__init__.py:57: DeprecationWarning: distutils Version classes are deprecated. Use packaging.version instead.\n",
      "\u001b[2m\u001b[36m(pid=24519)\u001b[0m   if (distutils.version.LooseVersion(tf.__version__) <\n",
      "\u001b[2m\u001b[36m(pid=24386)\u001b[0m /usr/local/lib/python3.8/dist-packages/tensorflow_probability/python/__init__.py:57: DeprecationWarning: distutils Version classes are deprecated. Use packaging.version instead.\n",
      "\u001b[2m\u001b[36m(pid=24386)\u001b[0m   if (distutils.version.LooseVersion(tf.__version__) <\n",
      "\u001b[2m\u001b[36m(pid=24395)\u001b[0m /usr/local/lib/python3.8/dist-packages/tensorflow_probability/python/__init__.py:57: DeprecationWarning: distutils Version classes are deprecated. Use packaging.version instead.\n",
      "\u001b[2m\u001b[36m(pid=24395)\u001b[0m   if (distutils.version.LooseVersion(tf.__version__) <\n",
      "\u001b[2m\u001b[36m(pid=24892)\u001b[0m /usr/local/lib/python3.8/dist-packages/tensorflow_probability/python/__init__.py:57: DeprecationWarning: distutils Version classes are deprecated. Use packaging.version instead.\n",
      "\u001b[2m\u001b[36m(pid=24892)\u001b[0m   if (distutils.version.LooseVersion(tf.__version__) <\n",
      "\u001b[2m\u001b[36m(pid=24990)\u001b[0m /usr/local/lib/python3.8/dist-packages/tensorflow_probability/python/__init__.py:57: DeprecationWarning: distutils Version classes are deprecated. Use packaging.version instead.\n",
      "\u001b[2m\u001b[36m(pid=24990)\u001b[0m   if (distutils.version.LooseVersion(tf.__version__) <\n",
      "\u001b[2m\u001b[36m(pid=24991)\u001b[0m /usr/local/lib/python3.8/dist-packages/tensorflow_probability/python/__init__.py:57: DeprecationWarning: distutils Version classes are deprecated. Use packaging.version instead.\n",
      "\u001b[2m\u001b[36m(pid=24991)\u001b[0m   if (distutils.version.LooseVersion(tf.__version__) <\n",
      "\u001b[2m\u001b[36m(pid=24989)\u001b[0m /usr/local/lib/python3.8/dist-packages/tensorflow_probability/python/__init__.py:57: DeprecationWarning: distutils Version classes are deprecated. Use packaging.version instead.\n",
      "\u001b[2m\u001b[36m(pid=24989)\u001b[0m   if (distutils.version.LooseVersion(tf.__version__) <\n",
      "\u001b[2m\u001b[36m(RolloutWorker pid=24384)\u001b[0m WARNING:tensorflow:OMP_NUM_THREADS is no longer used by the default Keras config. To configure the number of threads, use tf.config.threading APIs.\n",
      "\u001b[2m\u001b[36m(RolloutWorker pid=24394)\u001b[0m WARNING:tensorflow:OMP_NUM_THREADS is no longer used by the default Keras config. To configure the number of threads, use tf.config.threading APIs.\n",
      "\u001b[2m\u001b[36m(pid=24987)\u001b[0m /usr/local/lib/python3.8/dist-packages/tensorflow_probability/python/__init__.py:57: DeprecationWarning: distutils Version classes are deprecated. Use packaging.version instead.\n",
      "\u001b[2m\u001b[36m(pid=24987)\u001b[0m   if (distutils.version.LooseVersion(tf.__version__) <\n",
      "\u001b[2m\u001b[36m(pid=24992)\u001b[0m /usr/local/lib/python3.8/dist-packages/tensorflow_probability/python/__init__.py:57: DeprecationWarning: distutils Version classes are deprecated. Use packaging.version instead.\n",
      "\u001b[2m\u001b[36m(pid=24992)\u001b[0m   if (distutils.version.LooseVersion(tf.__version__) <\n",
      "\u001b[2m\u001b[36m(RolloutWorker pid=24436)\u001b[0m WARNING:tensorflow:OMP_NUM_THREADS is no longer used by the default Keras config. To configure the number of threads, use tf.config.threading APIs.\n",
      "\u001b[2m\u001b[36m(RolloutWorker pid=24392)\u001b[0m WARNING:tensorflow:OMP_NUM_THREADS is no longer used by the default Keras config. To configure the number of threads, use tf.config.threading APIs.\n",
      "\u001b[2m\u001b[36m(RolloutWorker pid=24382)\u001b[0m WARNING:tensorflow:OMP_NUM_THREADS is no longer used by the default Keras config. To configure the number of threads, use tf.config.threading APIs.\n",
      "\u001b[2m\u001b[36m(pid=24988)\u001b[0m /usr/local/lib/python3.8/dist-packages/tensorflow_probability/python/__init__.py:57: DeprecationWarning: distutils Version classes are deprecated. Use packaging.version instead.\n",
      "\u001b[2m\u001b[36m(pid=24988)\u001b[0m   if (distutils.version.LooseVersion(tf.__version__) <\n",
      "\u001b[2m\u001b[36m(RolloutWorker pid=24439)\u001b[0m WARNING:tensorflow:OMP_NUM_THREADS is no longer used by the default Keras config. To configure the number of threads, use tf.config.threading APIs.\n",
      "\u001b[2m\u001b[36m(RolloutWorker pid=24383)\u001b[0m WARNING:tensorflow:OMP_NUM_THREADS is no longer used by the default Keras config. To configure the number of threads, use tf.config.threading APIs.\n",
      "\u001b[2m\u001b[36m(RolloutWorker pid=24388)\u001b[0m WARNING:tensorflow:OMP_NUM_THREADS is no longer used by the default Keras config. To configure the number of threads, use tf.config.threading APIs.\n",
      "\u001b[2m\u001b[36m(RolloutWorker pid=24385)\u001b[0m WARNING:tensorflow:OMP_NUM_THREADS is no longer used by the default Keras config. To configure the number of threads, use tf.config.threading APIs.\n",
      "\u001b[2m\u001b[36m(RolloutWorker pid=24390)\u001b[0m WARNING:tensorflow:OMP_NUM_THREADS is no longer used by the default Keras config. To configure the number of threads, use tf.config.threading APIs.\n",
      "\u001b[2m\u001b[36m(RolloutWorker pid=24395)\u001b[0m WARNING:tensorflow:OMP_NUM_THREADS is no longer used by the default Keras config. To configure the number of threads, use tf.config.threading APIs.\n",
      "\u001b[2m\u001b[36m(RolloutWorker pid=24892)\u001b[0m WARNING:tensorflow:OMP_NUM_THREADS is no longer used by the default Keras config. To configure the number of threads, use tf.config.threading APIs.\n",
      "\u001b[2m\u001b[36m(RolloutWorker pid=24519)\u001b[0m WARNING:tensorflow:OMP_NUM_THREADS is no longer used by the default Keras config. To configure the number of threads, use tf.config.threading APIs.\n",
      "\u001b[2m\u001b[36m(RolloutWorker pid=24386)\u001b[0m WARNING:tensorflow:OMP_NUM_THREADS is no longer used by the default Keras config. To configure the number of threads, use tf.config.threading APIs.\n",
      "\u001b[2m\u001b[36m(RolloutWorker pid=24990)\u001b[0m WARNING:tensorflow:OMP_NUM_THREADS is no longer used by the default Keras config. To configure the number of threads, use tf.config.threading APIs.\n"
     ]
    },
    {
     "name": "stderr",
     "output_type": "stream",
     "text": [
      "\u001b[2m\u001b[36m(RolloutWorker pid=24991)\u001b[0m WARNING:tensorflow:OMP_NUM_THREADS is no longer used by the default Keras config. To configure the number of threads, use tf.config.threading APIs.\n",
      "\u001b[2m\u001b[36m(RolloutWorker pid=24992)\u001b[0m WARNING:tensorflow:OMP_NUM_THREADS is no longer used by the default Keras config. To configure the number of threads, use tf.config.threading APIs.\n",
      "\u001b[2m\u001b[36m(RolloutWorker pid=24987)\u001b[0m WARNING:tensorflow:OMP_NUM_THREADS is no longer used by the default Keras config. To configure the number of threads, use tf.config.threading APIs.\n",
      "\u001b[2m\u001b[36m(RolloutWorker pid=24989)\u001b[0m WARNING:tensorflow:OMP_NUM_THREADS is no longer used by the default Keras config. To configure the number of threads, use tf.config.threading APIs.\n",
      "\u001b[2m\u001b[36m(RolloutWorker pid=24988)\u001b[0m WARNING:tensorflow:OMP_NUM_THREADS is no longer used by the default Keras config. To configure the number of threads, use tf.config.threading APIs.\n",
      "2023-02-08 14:53:57,690\tINFO trainable.py:172 -- Trainable.setup took 14.686 seconds. If your trainable is slow to initialize, consider setting reuse_actors=True to reduce actor creation overheads.\n"
     ]
    }
   ],
   "source": [
    "from ray.rllib.algorithms.ppo import PPOConfig\n",
    "from ray.rllib.policy.policy import PolicySpec\n",
    "\n",
    "config = (\n",
    "    PPOConfig()\n",
    "    #Each rollout worker uses a single cpu\n",
    "    .rollouts(num_rollout_workers=20, num_envs_per_worker=1, horizon=100)\\\n",
    "    .training(sgd_minibatch_size = 100, train_batch_size=2000, gamma=0.99, lr=0.00005, \n",
    "              model={\"fcnet_hiddens\": [256, 256], \"fcnet_activation\": \"tanh\",})\\\n",
    "    .environment(disable_env_checking=True, env = 'DreamCybORG')\\\n",
    "    .resources(num_gpus=1)\\\n",
    "    .framework('torch')\\\n",
    "    #.exploration(explore=True, exploration_config={\"type\": \"RE3\", \"embeds_dim\": 128, \"beta_schedule\": \"constant\", \"sub_exploration\": {\"type\": \"StochasticSampling\",},})\\\n",
    ")\n",
    "trainer = config.build()\n"
   ]
  },
  {
   "cell_type": "code",
   "execution_count": 46,
   "metadata": {},
   "outputs": [
    {
     "name": "stderr",
     "output_type": "stream",
     "text": [
      "/usr/local/lib/python3.8/dist-packages/ipykernel/ipkernel.py:281: DeprecationWarning: `should_run_async` will not call `transform_cell` automatically in the future. Please pass the result to `transformed_cell` argument and any exception that happen during thetransform in `preprocessing_exc_tuple` in IPython 7.17 and above.\n",
      "  and should_run_async(code)\n"
     ]
    },
    {
     "name": "stdout",
     "output_type": "stream",
     "text": [
      " 307 \tr_mean: -51.3 \tr_max: -32.8 \tr_min: -73.4\n",
      " 308 \tr_mean: -52.7 \tr_max: -33.5 \tr_min: -73.4\n",
      " 309 \tr_mean: -53.1 \tr_max: -33.5 \tr_min: -73.4\n",
      " 310 \tr_mean: -52.0 \tr_max: -35.5 \tr_min: -73.4\n",
      " 311 \tr_mean: -52.4 \tr_max: -35.5 \tr_min: -73.3\n",
      " 312 \tr_mean: -51.3 \tr_max: -33.4 \tr_min: -73.3\n",
      " 313 \tr_mean: -50.9 \tr_max: -33.4 \tr_min: -74.4\n",
      " 314 \tr_mean: -49.9 \tr_max: -32.6 \tr_min: -74.4\n",
      " 315 \tr_mean: -49.8 \tr_max: -32.6 \tr_min: -74.4\n",
      " 316 \tr_mean: -48.5 \tr_max: -32.6 \tr_min: -74.4\n",
      " 317 \tr_mean: -48.7 \tr_max: -32.6 \tr_min: -74.4\n",
      " 318 \tr_mean: -48.5 \tr_max: -30.8 \tr_min: -69.8\n",
      " 319 \tr_mean: -49.2 \tr_max: -30.8 \tr_min: -72.7\n",
      " 320 \tr_mean: -49.7 \tr_max: -30.7 \tr_min: -72.7\n",
      " 321 \tr_mean: -51.2 \tr_max: -30.7 \tr_min: -72.7\n",
      " 322 \tr_mean: -51.8 \tr_max: -30.7 \tr_min: -72.7\n"
     ]
    },
    {
     "name": "stderr",
     "output_type": "stream",
     "text": [
      "2023-02-08 16:41:05,748\tERROR actor_manager.py:486 -- Ray error, taking actor 16 out of service. The actor died unexpectedly before finishing this task.\n",
      "2023-02-08 16:41:05,752\tERROR actor_manager.py:486 -- Ray error, taking actor 20 out of service. The actor died unexpectedly before finishing this task.\n"
     ]
    },
    {
     "name": "stdout",
     "output_type": "stream",
     "text": [
      " 323 \tr_mean: -52.1 \tr_max: -30.7 \tr_min: -72.7\n"
     ]
    },
    {
     "name": "stderr",
     "output_type": "stream",
     "text": [
      "2023-02-08 16:41:07,754\tERROR actor_manager.py:486 -- Ray error, taking actor 15 out of service. The actor died unexpectedly before finishing this task.\n"
     ]
    },
    {
     "name": "stdout",
     "output_type": "stream",
     "text": [
      " 324 \tr_mean: -50.9 \tr_max: -34.8 \tr_min: -73.6\n"
     ]
    },
    {
     "name": "stderr",
     "output_type": "stream",
     "text": [
      "\u001b[2m\u001b[33m(raylet)\u001b[0m [2023-02-08 16:41:41,519 E 17097 17097] (raylet) node_manager.cc:3097: 45 Workers (tasks / actors) killed due to memory pressure (OOM), 0 Workers crashed due to other reasons at node (ID: 0eb798f5450c6700c1f813c16d9fc4b860c81125e5dd19ddab711062, IP: 192.168.224.2) over the last time period. To see more information about the Workers killed on this node, use `ray logs raylet.out -ip 192.168.224.2`\n",
      "\u001b[2m\u001b[33m(raylet)\u001b[0m \n",
      "\u001b[2m\u001b[33m(raylet)\u001b[0m Refer to the documentation on how to address the out of memory issue: https://docs.ray.io/en/latest/ray-core/scheduling/ray-oom-prevention.html. Consider provisioning more memory on this node or reducing task parallelism by requesting more CPUs per task. To adjust the kill threshold, set the environment variable `RAY_memory_usage_threshold` when starting Ray. To disable worker killing, set the environment variable `RAY_memory_monitor_refresh_ms` to zero.\n",
      "\n",
      "KeyboardInterrupt\n",
      "\n"
     ]
    }
   ],
   "source": [
    "for i in range(500):\n",
    "    print_results(trainer.train())"
   ]
  },
  {
   "cell_type": "code",
   "execution_count": 7,
   "metadata": {},
   "outputs": [
    {
     "name": "stderr",
     "output_type": "stream",
     "text": [
      "/usr/local/lib/python3.8/dist-packages/ipykernel/ipkernel.py:281: DeprecationWarning: `should_run_async` will not call `transform_cell` automatically in the future. Please pass the result to `transformed_cell` argument and any exception that happen during thetransform in `preprocessing_exc_tuple` in IPython 7.17 and above.\n",
      "  and should_run_async(code)\n"
     ]
    }
   ],
   "source": [
    "trainer.load_checkpoint('results/checkpoint_000268')"
   ]
  },
  {
   "cell_type": "code",
   "execution_count": 25,
   "metadata": {},
   "outputs": [
    {
     "name": "stderr",
     "output_type": "stream",
     "text": [
      "/usr/local/lib/python3.8/dist-packages/ipykernel/ipkernel.py:281: DeprecationWarning: `should_run_async` will not call `transform_cell` automatically in the future. Please pass the result to `transformed_cell` argument and any exception that happen during thetransform in `preprocessing_exc_tuple` in IPython 7.17 and above.\n",
      "  and should_run_async(code)\n"
     ]
    },
    {
     "ename": "NameError",
     "evalue": "name 'CybORG' is not defined",
     "output_type": "error",
     "traceback": [
      "\u001b[0;31m---------------------------------------------------------------------------\u001b[0m",
      "\u001b[0;31mNameError\u001b[0m                                 Traceback (most recent call last)",
      "Cell \u001b[0;32mIn [25], line 3\u001b[0m\n\u001b[1;32m      1\u001b[0m \u001b[38;5;28;01mfor\u001b[39;00m i \u001b[38;5;129;01min\u001b[39;00m \u001b[38;5;28mrange\u001b[39m(\u001b[38;5;241m10\u001b[39m):\n\u001b[0;32m----> 3\u001b[0m     cyborg \u001b[38;5;241m=\u001b[39m \u001b[43mCybORG\u001b[49m(path, \u001b[38;5;124m'\u001b[39m\u001b[38;5;124msim\u001b[39m\u001b[38;5;124m'\u001b[39m, agents\u001b[38;5;241m=\u001b[39m{\u001b[38;5;124m'\u001b[39m\u001b[38;5;124mRed\u001b[39m\u001b[38;5;124m'\u001b[39m: RedMeanderAgent})\n\u001b[1;32m      4\u001b[0m     wrapped_cyborg \u001b[38;5;241m=\u001b[39m wrap(cyborg)\n\u001b[1;32m      6\u001b[0m     observation \u001b[38;5;241m=\u001b[39m wrapped_cyborg\u001b[38;5;241m.\u001b[39mreset()\n",
      "\u001b[0;31mNameError\u001b[0m: name 'CybORG' is not defined"
     ]
    }
   ],
   "source": [
    "for i in range(10):\n",
    "\n",
    "    cyborg = CybORG(path, 'sim', agents={'Red': RedMeanderAgent})\n",
    "    wrapped_cyborg = wrap(cyborg)\n",
    "\n",
    "    observation = wrapped_cyborg.reset()\n",
    "    wrapped_cyborg.reset()\n",
    "    obs = wrapped_cyborg.step(5)[3]['observation']\n",
    "    print(obs)"
   ]
  },
  {
   "cell_type": "code",
   "execution_count": 51,
   "metadata": {},
   "outputs": [
    {
     "name": "stderr",
     "output_type": "stream",
     "text": [
      "/usr/local/lib/python3.8/dist-packages/ipykernel/ipkernel.py:281: DeprecationWarning: `should_run_async` will not call `transform_cell` automatically in the future. Please pass the result to `transformed_cell` argument and any exception that happen during thetransform in `preprocessing_exc_tuple` in IPython 7.17 and above.\n",
      "  and should_run_async(code)\n"
     ]
    },
    {
     "name": "stdout",
     "output_type": "stream",
     "text": [
      "1/1 [==============================] - 0s 35ms/step\n"
     ]
    },
    {
     "data": {
      "text/plain": [
       "array([ 0.,  0.,  0.,  0.,  0.,  0.,  0.,  0., -1.,  1.,  0.,  0.,  0.,\n",
       "        0.,  0.,  0.,  0.,  0.,  0.,  0.,  0.,  0.,  0.,  0.,  0.,  0.,\n",
       "        0.,  0.,  0., -1.,  1.,  0.,  0.,  0.,  0.,  0.,  0.,  0.,  0.,\n",
       "        0.,  0.,  0.])"
      ]
     },
     "execution_count": 51,
     "metadata": {},
     "output_type": "execute_result"
    }
   ],
   "source": [
    "test.reset()\n",
    "obs2, r, d, i = test.step(5)\n",
    "obs - obs2"
   ]
  },
  {
   "cell_type": "code",
   "execution_count": 45,
   "metadata": {
    "scrolled": true
   },
   "outputs": [
    {
     "name": "stderr",
     "output_type": "stream",
     "text": [
      "/usr/local/lib/python3.8/dist-packages/ipykernel/ipkernel.py:281: DeprecationWarning: `should_run_async` will not call `transform_cell` automatically in the future. Please pass the result to `transformed_cell` argument and any exception that happen during thetransform in `preprocessing_exc_tuple` in IPython 7.17 and above.\n",
      "  and should_run_async(code)\n",
      "100%|██████████| 100/100 [06:58<00:00,  4.18s/it]"
     ]
    },
    {
     "name": "stdout",
     "output_type": "stream",
     "text": [
      "Average reward for red agent RedMeanderAgent and steps 100 is: -34.7 with a standard deviation of 4.0\n"
     ]
    },
    {
     "name": "stderr",
     "output_type": "stream",
     "text": [
      "\n"
     ]
    }
   ],
   "source": [
    "import inspect\n",
    "import time\n",
    "from statistics import mean, stdev\n",
    "from CybORG import CybORG\n",
    "from CybORG.Agents import B_lineAgent, SleepAgent, GreenAgent\n",
    "from CybORG.Agents.SimpleAgents.BaseAgent import BaseAgent\n",
    "from CybORG.Agents.SimpleAgents.BlueReactAgent import BlueReactRemoveAgent\n",
    "from CybORG.Agents.SimpleAgents.Meander import RedMeanderAgent\n",
    "from CybORG.Agents.Wrappers.EnumActionWrapper import EnumActionWrapper\n",
    "from CybORG.Agents.Wrappers.rllib_wrapper import RLlibWrapper\n",
    "from CybORG.Agents.Wrappers.FixedFlatWrapper import FixedFlatWrapper\n",
    "from CybORG.Agents.Wrappers.OpenAIGymWrapper import OpenAIGymWrapper\n",
    "from CybORG.Agents.Wrappers.ReduceActionSpaceWrapper import ReduceActionSpaceWrapper\n",
    "from CybORG.Agents.Wrappers import ChallengeWrapper\n",
    "import os\n",
    "from tqdm import trange\n",
    "\n",
    "MAX_EPS = 100\n",
    "agent_name = 'Blue'\n",
    "\n",
    "def wrap(env):\n",
    "    return RLlibWrapper(agent_name=\"Blue\", env=env)\n",
    "\n",
    "def env_creator(env_config: dict):\n",
    "    path = str(inspect.getfile(CybORG))\n",
    "    path = path[:-10] + '/Shared/Scenarios/Scenario2Small.yaml'\n",
    "    agents = {\"Red\": RedMeanderAgent, \"Green\": GreenAgent}\n",
    "    cyborg = CybORG(scenario_file=path, environment='sim', agents=agents)\n",
    "    env = RLlibWrapper(env=cyborg, agent_name=\"Blue\", max_steps=100)\n",
    "    return env\n",
    "\n",
    "register_env(name=\"CybORG\", env_creator=env_creator)\n",
    "\n",
    "\n",
    "path = str(inspect.getfile(CybORG))\n",
    "path = path[:-10] + '/Shared/Scenarios/Scenario2Small.yaml'\n",
    "obs = []\n",
    "#print(f'using CybORG v{cyborg_version}, {scenario}\\n')\n",
    "for red_agent in [RedMeanderAgent]:#, RedMeanderAgent]:\n",
    "\n",
    "    cyborg = CybORG(path, 'sim', agents={'Red': red_agent})\n",
    "    wrapped_cyborg = wrap(cyborg)\n",
    "\n",
    "    observation = wrapped_cyborg.reset()\n",
    "    obs.append(observation)\n",
    "    # observation = cyborg.reset().observation\n",
    "\n",
    "    action_space = wrapped_cyborg.get_action_space(agent_name)\n",
    "    # action_space = cyborg.get_action_space(agent_name)\n",
    "    total_reward = []\n",
    "    actions = []\n",
    "    for i in trange(MAX_EPS):\n",
    "        r = []\n",
    "        #a = []\n",
    "        cyborg = CybORG(path, 'sim', agents={'Red': red_agent})\n",
    "        wrapped_cyborg = wrap(cyborg)\n",
    "\n",
    "        observation = wrapped_cyborg.reset()\n",
    "        obs.append(observation)\n",
    "        # observation = cyborg.reset().observation\n",
    "\n",
    "        # cyborg.env.env.tracker.render()\n",
    "        for j in range(100):\n",
    "            \n",
    "            \n",
    "            action = trainer.compute_single_action(observation, explore=False)\n",
    "            #action_vec = np.zeros(145)\n",
    "            #action_vec[int(action)] = 1\n",
    "            #action = agent.get_action(observation, action_space)\n",
    "            observation, rew, done, info = wrapped_cyborg.step(action)\n",
    "            obs.append(observation)\n",
    "            #actions.append(action_vec)\n",
    "            # result = cyborg.step(agent_name, action)\n",
    "            r.append(rew)\n",
    "            # r.append(result.reward)\n",
    "           # a.append((str(cyborg.get_last_action('Blue')), str(cyborg.get_last_action('Red'))))\n",
    "        total_reward.append(sum(r))\n",
    "        # observation = cyborg.reset().observation\n",
    "        observation = wrapped_cyborg.reset()\n",
    "    print(f'Average reward for red agent {red_agent.__name__} and steps {100} is: {mean(total_reward):.1f} with a standard deviation of {stdev(total_reward):.1f}')\n",
    "    #return mean(total_reward), np.mean(np.array(obs), axis=0),  np.mean(np.array(actions), axis=0)"
   ]
  },
  {
   "cell_type": "code",
   "execution_count": 55,
   "metadata": {},
   "outputs": [
    {
     "name": "stderr",
     "output_type": "stream",
     "text": [
      "/usr/local/lib/python3.8/dist-packages/ipykernel/ipkernel.py:281: DeprecationWarning: `should_run_async` will not call `transform_cell` automatically in the future. Please pass the result to `transformed_cell` argument and any exception that happen during thetransform in `preprocessing_exc_tuple` in IPython 7.17 and above.\n",
      "  and should_run_async(code)\n",
      "\u001b[2m\u001b[36m(pid=25909)\u001b[0m /usr/local/lib/python3.8/dist-packages/tensorflow_probability/python/__init__.py:57: DeprecationWarning: distutils Version classes are deprecated. Use packaging.version instead.\n",
      "\u001b[2m\u001b[36m(pid=25909)\u001b[0m   if (distutils.version.LooseVersion(tf.__version__) <\n",
      "\u001b[2m\u001b[36m(pid=25826)\u001b[0m /usr/local/lib/python3.8/dist-packages/tensorflow_probability/python/__init__.py:57: DeprecationWarning: distutils Version classes are deprecated. Use packaging.version instead.\n",
      "\u001b[2m\u001b[36m(pid=25826)\u001b[0m   if (distutils.version.LooseVersion(tf.__version__) <\n",
      "\u001b[2m\u001b[36m(pid=25829)\u001b[0m /usr/local/lib/python3.8/dist-packages/tensorflow_probability/python/__init__.py:57: DeprecationWarning: distutils Version classes are deprecated. Use packaging.version instead.\n",
      "\u001b[2m\u001b[36m(pid=25829)\u001b[0m   if (distutils.version.LooseVersion(tf.__version__) <\n",
      "\u001b[2m\u001b[36m(pid=25824)\u001b[0m /usr/local/lib/python3.8/dist-packages/tensorflow_probability/python/__init__.py:57: DeprecationWarning: distutils Version classes are deprecated. Use packaging.version instead.\n",
      "\u001b[2m\u001b[36m(pid=25824)\u001b[0m   if (distutils.version.LooseVersion(tf.__version__) <\n",
      "\u001b[2m\u001b[36m(pid=25822)\u001b[0m /usr/local/lib/python3.8/dist-packages/tensorflow_probability/python/__init__.py:57: DeprecationWarning: distutils Version classes are deprecated. Use packaging.version instead.\n",
      "\u001b[2m\u001b[36m(pid=25822)\u001b[0m   if (distutils.version.LooseVersion(tf.__version__) <\n",
      "\u001b[2m\u001b[36m(pid=25828)\u001b[0m /usr/local/lib/python3.8/dist-packages/tensorflow_probability/python/__init__.py:57: DeprecationWarning: distutils Version classes are deprecated. Use packaging.version instead.\n",
      "\u001b[2m\u001b[36m(pid=25828)\u001b[0m   if (distutils.version.LooseVersion(tf.__version__) <\n",
      "\u001b[2m\u001b[36m(pid=25820)\u001b[0m /usr/local/lib/python3.8/dist-packages/tensorflow_probability/python/__init__.py:57: DeprecationWarning: distutils Version classes are deprecated. Use packaging.version instead.\n",
      "\u001b[2m\u001b[36m(pid=25820)\u001b[0m   if (distutils.version.LooseVersion(tf.__version__) <\n",
      "\u001b[2m\u001b[36m(pid=25911)\u001b[0m /usr/local/lib/python3.8/dist-packages/tensorflow_probability/python/__init__.py:57: DeprecationWarning: distutils Version classes are deprecated. Use packaging.version instead.\n",
      "\u001b[2m\u001b[36m(pid=25911)\u001b[0m   if (distutils.version.LooseVersion(tf.__version__) <\n",
      "\u001b[2m\u001b[36m(pid=25819)\u001b[0m /usr/local/lib/python3.8/dist-packages/tensorflow_probability/python/__init__.py:57: DeprecationWarning: distutils Version classes are deprecated. Use packaging.version instead.\n",
      "\u001b[2m\u001b[36m(pid=25819)\u001b[0m   if (distutils.version.LooseVersion(tf.__version__) <\n",
      "\u001b[2m\u001b[36m(pid=25818)\u001b[0m /usr/local/lib/python3.8/dist-packages/tensorflow_probability/python/__init__.py:57: DeprecationWarning: distutils Version classes are deprecated. Use packaging.version instead.\n",
      "\u001b[2m\u001b[36m(pid=25818)\u001b[0m   if (distutils.version.LooseVersion(tf.__version__) <\n",
      "\u001b[2m\u001b[36m(RolloutWorker pid=25909)\u001b[0m WARNING:tensorflow:OMP_NUM_THREADS is no longer used by the default Keras config. To configure the number of threads, use tf.config.threading APIs.\n",
      "\u001b[2m\u001b[36m(RolloutWorker pid=25826)\u001b[0m WARNING:tensorflow:OMP_NUM_THREADS is no longer used by the default Keras config. To configure the number of threads, use tf.config.threading APIs.\n",
      "\u001b[2m\u001b[36m(RolloutWorker pid=25829)\u001b[0m WARNING:tensorflow:OMP_NUM_THREADS is no longer used by the default Keras config. To configure the number of threads, use tf.config.threading APIs.\n",
      "\u001b[2m\u001b[36m(RolloutWorker pid=25824)\u001b[0m WARNING:tensorflow:OMP_NUM_THREADS is no longer used by the default Keras config. To configure the number of threads, use tf.config.threading APIs.\n",
      "\u001b[2m\u001b[36m(RolloutWorker pid=25822)\u001b[0m WARNING:tensorflow:OMP_NUM_THREADS is no longer used by the default Keras config. To configure the number of threads, use tf.config.threading APIs.\n",
      "\u001b[2m\u001b[36m(RolloutWorker pid=25828)\u001b[0m WARNING:tensorflow:OMP_NUM_THREADS is no longer used by the default Keras config. To configure the number of threads, use tf.config.threading APIs.\n",
      "\u001b[2m\u001b[36m(RolloutWorker pid=25911)\u001b[0m WARNING:tensorflow:OMP_NUM_THREADS is no longer used by the default Keras config. To configure the number of threads, use tf.config.threading APIs.\n",
      "\u001b[2m\u001b[36m(RolloutWorker pid=25820)\u001b[0m WARNING:tensorflow:OMP_NUM_THREADS is no longer used by the default Keras config. To configure the number of threads, use tf.config.threading APIs.\n",
      "\u001b[2m\u001b[36m(RolloutWorker pid=25818)\u001b[0m WARNING:tensorflow:OMP_NUM_THREADS is no longer used by the default Keras config. To configure the number of threads, use tf.config.threading APIs.\n",
      "\u001b[2m\u001b[36m(RolloutWorker pid=25819)\u001b[0m WARNING:tensorflow:OMP_NUM_THREADS is no longer used by the default Keras config. To configure the number of threads, use tf.config.threading APIs.\n",
      "2023-02-08 12:36:23,387\tINFO trainable.py:172 -- Trainable.setup took 12.251 seconds. If your trainable is slow to initialize, consider setting reuse_actors=True to reduce actor creation overheads.\n",
      "\u001b[2m\u001b[36m(RolloutWorker pid=25826)\u001b[0m /usr/local/lib/python3.8/dist-packages/keras/engine/training_v1.py:2357: UserWarning: `Model.state_updates` will be removed in a future version. This property should not be used in TensorFlow 2.0, as `updates` are applied automatically.\n",
      "\u001b[2m\u001b[36m(RolloutWorker pid=25826)\u001b[0m   updates=self.state_updates,\n",
      "\u001b[2m\u001b[36m(RolloutWorker pid=25824)\u001b[0m /usr/local/lib/python3.8/dist-packages/keras/engine/training_v1.py:2357: UserWarning: `Model.state_updates` will be removed in a future version. This property should not be used in TensorFlow 2.0, as `updates` are applied automatically.\n",
      "\u001b[2m\u001b[36m(RolloutWorker pid=25824)\u001b[0m   updates=self.state_updates,\n",
      "\u001b[2m\u001b[36m(RolloutWorker pid=25822)\u001b[0m /usr/local/lib/python3.8/dist-packages/keras/engine/training_v1.py:2357: UserWarning: `Model.state_updates` will be removed in a future version. This property should not be used in TensorFlow 2.0, as `updates` are applied automatically.\n",
      "\u001b[2m\u001b[36m(RolloutWorker pid=25822)\u001b[0m   updates=self.state_updates,\n",
      "\u001b[2m\u001b[36m(RolloutWorker pid=25820)\u001b[0m /usr/local/lib/python3.8/dist-packages/keras/engine/training_v1.py:2357: UserWarning: `Model.state_updates` will be removed in a future version. This property should not be used in TensorFlow 2.0, as `updates` are applied automatically.\n",
      "\u001b[2m\u001b[36m(RolloutWorker pid=25820)\u001b[0m   updates=self.state_updates,\n",
      "\u001b[2m\u001b[36m(RolloutWorker pid=25819)\u001b[0m /usr/local/lib/python3.8/dist-packages/keras/engine/training_v1.py:2357: UserWarning: `Model.state_updates` will be removed in a future version. This property should not be used in TensorFlow 2.0, as `updates` are applied automatically.\n",
      "\u001b[2m\u001b[36m(RolloutWorker pid=25819)\u001b[0m   updates=self.state_updates,\n",
      "\u001b[2m\u001b[36m(RolloutWorker pid=25818)\u001b[0m /usr/local/lib/python3.8/dist-packages/keras/engine/training_v1.py:2357: UserWarning: `Model.state_updates` will be removed in a future version. This property should not be used in TensorFlow 2.0, as `updates` are applied automatically.\n",
      "\u001b[2m\u001b[36m(RolloutWorker pid=25818)\u001b[0m   updates=self.state_updates,\n",
      "\u001b[2m\u001b[36m(RolloutWorker pid=25909)\u001b[0m /usr/local/lib/python3.8/dist-packages/keras/engine/training_v1.py:2357: UserWarning: `Model.state_updates` will be removed in a future version. This property should not be used in TensorFlow 2.0, as `updates` are applied automatically.\n",
      "\u001b[2m\u001b[36m(RolloutWorker pid=25909)\u001b[0m   updates=self.state_updates,\n",
      "\u001b[2m\u001b[36m(RolloutWorker pid=25829)\u001b[0m /usr/local/lib/python3.8/dist-packages/keras/engine/training_v1.py:2357: UserWarning: `Model.state_updates` will be removed in a future version. This property should not be used in TensorFlow 2.0, as `updates` are applied automatically.\n",
      "\u001b[2m\u001b[36m(RolloutWorker pid=25829)\u001b[0m   updates=self.state_updates,\n",
      "\u001b[2m\u001b[36m(RolloutWorker pid=25828)\u001b[0m /usr/local/lib/python3.8/dist-packages/keras/engine/training_v1.py:2357: UserWarning: `Model.state_updates` will be removed in a future version. This property should not be used in TensorFlow 2.0, as `updates` are applied automatically.\n",
      "\u001b[2m\u001b[36m(RolloutWorker pid=25828)\u001b[0m   updates=self.state_updates,\n",
      "\u001b[2m\u001b[36m(RolloutWorker pid=25911)\u001b[0m /usr/local/lib/python3.8/dist-packages/keras/engine/training_v1.py:2357: UserWarning: `Model.state_updates` will be removed in a future version. This property should not be used in TensorFlow 2.0, as `updates` are applied automatically.\n",
      "\u001b[2m\u001b[36m(RolloutWorker pid=25911)\u001b[0m   updates=self.state_updates,\n"
     ]
    },
    {
     "name": "stderr",
     "output_type": "stream",
     "text": [
      "2023-02-08 12:36:23,787\tWARNING multi_agent_prioritized_replay_buffer.py:215 -- Adding batches with column `weights` to this buffer while providing weights as a call argument to the add method results in the column being overwritten.\n",
      "2023-02-08 12:36:26,890\tWARNING deprecation.py:47 -- DeprecationWarning: `concat_samples` has been deprecated. Use `concat_samples() from rllib.policy.sample_batch` instead. This will raise an error in the future!\n"
     ]
    },
    {
     "name": "stdout",
     "output_type": "stream",
     "text": [
      "   1 \tr_mean: -81.2 \tr_max: -67.7 \tr_min: -97.9\n"
     ]
    },
    {
     "name": "stderr",
     "output_type": "stream",
     "text": [
      "/usr/local/lib/python3.8/dist-packages/ray/rllib/algorithms/algorithm.py:1716: DeprecationWarning: invalid escape sequence \\|\n",
      "  \"\"\"Adds a new policy to this Algorithm.\n",
      "/usr/local/lib/python3.8/dist-packages/ray/rllib/algorithms/dqn/dqn.py:54: DeprecationWarning: invalid escape sequence \\ \n",
      "  \"\"\"Defines a configuration class from which a DQN Algorithm can be built.\n",
      "\n",
      "KeyboardInterrupt\n",
      "\n"
     ]
    }
   ],
   "source": [
    "from ray.rllib.algorithms.dqn import DQNConfig\n",
    "from ray.rllib.policy.policy import PolicySpec\n",
    "\n",
    "config = (\n",
    "    DQNConfig()\n",
    "    #Each rollout worker uses a single cpu\n",
    "    .rollouts(num_rollout_workers=10, num_envs_per_worker=1, horizon=100)\\\n",
    "    .training(gamma=0.99, lr=0.005, \n",
    "              model={\"fcnet_hiddens\": [256, 256], \"fcnet_activation\": \"tanh\",})\\\n",
    "    .environment(disable_env_checking=True, env = 'DreamCybORG')\\\n",
    "    .resources(num_gpus=1)\\\n",
    "    .framework('torch')\\\n",
    "    #.exploration(explore=True, exploration_config={\"type\": \"RE3\", \"embeds_dim\": 128, \"beta_schedule\": \"constant\", \"sub_exploration\": {\"type\": \"StochasticSampling\",},})\\\n",
    ")\n",
    "trainer = config.build()\n",
    "for i in range(500):\n",
    "    print_results(trainer.train())"
   ]
  },
  {
   "cell_type": "code",
   "execution_count": null,
   "metadata": {},
   "outputs": [],
   "source": [
    "test = WorldMovelEnv()\n",
    "import time \n",
    "\n",
    "t = time.time()\n",
    "print(test.reset())\n",
    "for i in range(100):\n",
    "    print(test.step(55))\n",
    "print(t-time.time())"
   ]
  },
  {
   "cell_type": "code",
   "execution_count": 14,
   "metadata": {},
   "outputs": [
    {
     "name": "stderr",
     "output_type": "stream",
     "text": [
      "/usr/local/lib/python3.8/dist-packages/ipykernel/ipkernel.py:281: DeprecationWarning: `should_run_async` will not call `transform_cell` automatically in the future. Please pass the result to `transformed_cell` argument and any exception that happen during thetransform in `preprocessing_exc_tuple` in IPython 7.17 and above.\n",
      "  and should_run_async(code)\n"
     ]
    },
    {
     "data": {
      "text/plain": [
       "'results/checkpoint_000268'"
      ]
     },
     "execution_count": 14,
     "metadata": {},
     "output_type": "execute_result"
    }
   ],
   "source": [
    "trainer.save('results')"
   ]
  },
  {
   "cell_type": "code",
   "execution_count": 9,
   "metadata": {},
   "outputs": [
    {
     "name": "stderr",
     "output_type": "stream",
     "text": [
      "/usr/local/lib/python3.8/dist-packages/ipykernel/ipkernel.py:281: DeprecationWarning: `should_run_async` will not call `transform_cell` automatically in the future. Please pass the result to `transformed_cell` argument and any exception that happen during thetransform in `preprocessing_exc_tuple` in IPython 7.17 and above.\n",
      "  and should_run_async(code)\n"
     ]
    },
    {
     "name": "stdout",
     "output_type": "stream",
     "text": [
      "Collecting tqdm\n",
      "  Downloading tqdm-4.64.1-py2.py3-none-any.whl (78 kB)\n",
      "\u001b[K     |████████████████████████████████| 78 kB 3.5 MB/s eta 0:00:01\n",
      "\u001b[?25hInstalling collected packages: tqdm\n",
      "Successfully installed tqdm-4.64.1\n",
      "\u001b[33mWARNING: You are using pip version 20.2.4; however, version 23.0 is available.\n",
      "You should consider upgrading via the '/usr/bin/python3 -m pip install --upgrade pip' command.\u001b[0m\n"
     ]
    }
   ],
   "source": [
    "!pip install tqdm"
   ]
  },
  {
   "cell_type": "code",
   "execution_count": null,
   "metadata": {},
   "outputs": [],
   "source": []
  }
 ],
 "metadata": {
  "kernelspec": {
   "display_name": "Python 3",
   "language": "python",
   "name": "python3"
  },
  "language_info": {
   "codemirror_mode": {
    "name": "ipython",
    "version": 3
   },
   "file_extension": ".py",
   "mimetype": "text/x-python",
   "name": "python",
   "nbconvert_exporter": "python",
   "pygments_lexer": "ipython3",
   "version": "3.8.10"
  }
 },
 "nbformat": 4,
 "nbformat_minor": 2
}
