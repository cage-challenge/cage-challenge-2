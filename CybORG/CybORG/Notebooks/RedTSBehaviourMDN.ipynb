{
 "cells": [
  {
   "cell_type": "markdown",
   "metadata": {},
   "source": [
    "### MDN References:\n",
    "\n",
    "[useful pytorch reference](https://github.com/tonyduan/mixture-density-network)\n",
    "\n",
    "[keras version](https://github.com/cpmpercussion/keras-mdn-layer)\n",
    "\n",
    "[another keras version](https://github.com/omimo/Keras-MDN/blob/master/kmdn/mdn.py)\n"
   ]
  },
  {
   "cell_type": "code",
   "execution_count": 1,
   "metadata": {
    "scrolled": true
   },
   "outputs": [],
   "source": [
    "import MDN\n",
    "import numpy as np\n",
    "import tensorflow as tf\n",
    "import tensorflow.keras.backend as K\n",
    "import pandas as pd\n",
    "from ProcessTrueStateActionData import read_df_in_chunks\n",
    "\n",
    "from true_state_viewer import TrueStateTreeGraphViz, display_tree_red_preds\n",
    "\n",
    "import time\n",
    "from IPython import display\n",
    "from pathlib import Path"
   ]
  },
  {
   "cell_type": "markdown",
   "metadata": {},
   "source": [
    "### Load and preprocess the data \n",
    "(produce tf train+test datasets)"
   ]
  },
  {
   "cell_type": "code",
   "execution_count": 2,
   "metadata": {
    "scrolled": true
   },
   "outputs": [
    {
     "name": "stderr",
     "output_type": "stream",
     "text": [
      "/usr/local/lib/python3.8/dist-packages/ipykernel/ipkernel.py:281: DeprecationWarning: `should_run_async` will not call `transform_cell` automatically in the future. Please pass the result to `transformed_cell` argument and any exception that happen during thetransform in `preprocessing_exc_tuple` in IPython 7.17 and above.\n",
      "  and should_run_async(code)\n"
     ]
    }
   ],
   "source": [
    "batch_size = 128\n",
    "train_test_split = 0.999\n",
    "\n",
    "LATENT_SIZE = 8 # (mdn output_dimension)\n",
    "NUMBER_MIXTURES = 5\n",
    "\n",
    "EPOCHS = 50\n",
    "\n",
    "# DATA_CAP = 3_000_000"
   ]
  },
  {
   "cell_type": "code",
   "execution_count": 32,
   "metadata": {},
   "outputs": [],
   "source": [
    "def get_columns_for_training():\n",
    "    true_states = [\"pre\",\"blue\",\"red\", \"_\"]\n",
    "    ts_columns = {}\n",
    "    for true_state in true_states:\n",
    "        ts_columns[true_state] = []\n",
    "        for node in range(13):\n",
    "            ts_columns[true_state].append(f\"{node}_ts_{true_state}_known_status\")\n",
    "            ts_columns[true_state].append(f\"{node}_ts_{true_state}_access_status\")\n",
    "    return ts_columns"
   ]
  },
  {
   "cell_type": "code",
   "execution_count": 33,
   "metadata": {},
   "outputs": [],
   "source": [
    "cols_dict = get_columns_for_training()\n",
    "pre_cols, blue_cols, red_cols = cols_dict[\"pre\"], cols_dict[\"blue\"], cols_dict[\"red\"]\n",
    "all_cols = pre_cols + blue_cols + red_cols"
   ]
  },
  {
   "cell_type": "code",
   "execution_count": 5,
   "metadata": {},
   "outputs": [],
   "source": [
    "def pre_process_chunk(full_df, chunk_df, all_cols):\n",
    "    chunk_df = chunk_df[all_cols].astype(\"category\")\n",
    "    full_df = pd.concat([full_df, chunk_df])\n",
    "    return full_df"
   ]
  },
  {
   "cell_type": "code",
   "execution_count": 6,
   "metadata": {},
   "outputs": [
    {
     "name": "stdout",
     "output_type": "stream",
     "text": [
      "loading chunk: csv_data/TrueStatesObsActsRwds_1221_4000_B_Line_chunks_500000/chunk_8.parquet\n",
      "loading chunk: csv_data/TrueStatesObsActsRwds_1221_4000_B_Line_chunks_500000/chunk_5.parquet\n",
      "loading chunk: csv_data/TrueStatesObsActsRwds_1221_4000_B_Line_chunks_500000/chunk_2.parquet\n",
      "loading chunk: csv_data/TrueStatesObsActsRwds_1221_4000_B_Line_chunks_500000/chunk_7.parquet\n",
      "loading chunk: csv_data/TrueStatesObsActsRwds_1221_4000_B_Line_chunks_500000/chunk_9.parquet\n",
      "loading chunk: csv_data/TrueStatesObsActsRwds_1221_4000_B_Line_chunks_500000/chunk_6.parquet\n",
      "loading chunk: csv_data/TrueStatesObsActsRwds_1221_4000_B_Line_chunks_500000/chunk_3.parquet\n",
      "loading chunk: csv_data/TrueStatesObsActsRwds_1221_4000_B_Line_chunks_500000/chunk_1.parquet\n",
      "loading chunk: csv_data/TrueStatesObsActsRwds_1221_4000_B_Line_chunks_500000/chunk_0.parquet\n",
      "loading chunk: csv_data/TrueStatesObsActsRwds_1221_4000_B_Line_chunks_500000/chunk_4.parquet\n"
     ]
    }
   ],
   "source": [
    "chunks_data_path = \"csv_data/TrueStatesObsActsRwds_1221_4000_B_Line_chunks_500000\"\n",
    "\n",
    "full_df = pd.DataFrame(columns=all_cols)\n",
    "\n",
    "pathlist = Path(chunks_data_path).glob('**/*.parquet')\n",
    "for path in pathlist:\n",
    "    # because path is object not string\n",
    "    print(f\"loading chunk: {path}\")\n",
    "    chunk_df = pd.read_parquet(path)\n",
    "    full_df = pre_process_chunk(full_df, chunk_df, all_cols)\n",
    "    \n",
    "df = full_df"
   ]
  },
  {
   "cell_type": "code",
   "execution_count": 5,
   "metadata": {},
   "outputs": [],
   "source": [
    "# df=pd.read_parquet(\"csv_data/TrueStatesObsActsRwds_1221_4000_B_Line.parquet\").iloc[:DATA_CAP]\n",
    "# df = df[all_cols].astype(\"category\")"
   ]
  },
  {
   "cell_type": "code",
   "execution_count": 7,
   "metadata": {
    "scrolled": true
   },
   "outputs": [
    {
     "name": "stdout",
     "output_type": "stream",
     "text": [
      "4884000\n"
     ]
    },
    {
     "name": "stderr",
     "output_type": "stream",
     "text": [
      "/usr/local/lib/python3.8/dist-packages/ipykernel/ipkernel.py:281: DeprecationWarning: `should_run_async` will not call `transform_cell` automatically in the future. Please pass the result to `transformed_cell` argument and any exception that happen during thetransform in `preprocessing_exc_tuple` in IPython 7.17 and above.\n",
      "  and should_run_async(code)\n"
     ]
    },
    {
     "data": {
      "text/plain": [
       "Index                      39072000\n",
       "0_ts_pre_known_status       4884124\n",
       "0_ts_pre_access_status      4884116\n",
       "1_ts_pre_known_status       4884132\n",
       "1_ts_pre_access_status      4884132\n",
       "                             ...   \n",
       "10_ts_red_access_status     4884132\n",
       "11_ts_red_known_status      4884124\n",
       "11_ts_red_access_status     4884132\n",
       "12_ts_red_known_status      4884124\n",
       "12_ts_red_access_status     4884132\n",
       "Length: 79, dtype: int64"
      ]
     },
     "execution_count": 7,
     "metadata": {},
     "output_type": "execute_result"
    }
   ],
   "source": [
    "print(len(full_df))\n",
    "df.memory_usage(deep=True)"
   ]
  },
  {
   "cell_type": "code",
   "execution_count": 8,
   "metadata": {},
   "outputs": [
    {
     "name": "stderr",
     "output_type": "stream",
     "text": [
      "/usr/local/lib/python3.8/dist-packages/ipykernel/ipkernel.py:281: DeprecationWarning: `should_run_async` will not call `transform_cell` automatically in the future. Please pass the result to `transformed_cell` argument and any exception that happen during thetransform in `preprocessing_exc_tuple` in IPython 7.17 and above.\n",
      "  and should_run_async(code)\n"
     ]
    }
   ],
   "source": [
    "train_df=df.sample(frac=train_test_split,random_state=42)\n",
    "train_pre_df = train_df[pre_cols]\n",
    "train_blue_df = train_df[blue_cols]\n",
    "train_red_df = train_df[red_cols]\n",
    "\n",
    "test_df=df.drop(train_df.index)\n",
    "test_pre_df = test_df[pre_cols]\n",
    "test_blue_df = test_df[blue_cols]\n",
    "test_red_df = test_df[red_cols]\n",
    "\n",
    "train_size = train_df.shape[0]\n",
    "test_size = test_df.shape[0]"
   ]
  },
  {
   "cell_type": "code",
   "execution_count": 9,
   "metadata": {},
   "outputs": [
    {
     "name": "stdout",
     "output_type": "stream",
     "text": [
      "4879116\n"
     ]
    },
    {
     "name": "stderr",
     "output_type": "stream",
     "text": [
      "/usr/local/lib/python3.8/dist-packages/ipykernel/ipkernel.py:281: DeprecationWarning: `should_run_async` will not call `transform_cell` automatically in the future. Please pass the result to `transformed_cell` argument and any exception that happen during thetransform in `preprocessing_exc_tuple` in IPython 7.17 and above.\n",
      "  and should_run_async(code)\n"
     ]
    }
   ],
   "source": [
    "print(train_size)"
   ]
  },
  {
   "cell_type": "code",
   "execution_count": 10,
   "metadata": {},
   "outputs": [],
   "source": [
    "train_dataset = (tf.data.Dataset.from_tensor_slices(((train_pre_df.values,train_blue_df.values),train_red_df.values)).batch(batch_size))\n",
    "test_dataset = (tf.data.Dataset.from_tensor_slices(((test_pre_df.values,test_blue_df.values),test_red_df.values)).batch(1))"
   ]
  },
  {
   "cell_type": "code",
   "execution_count": 11,
   "metadata": {
    "scrolled": true
   },
   "outputs": [
    {
     "name": "stdout",
     "output_type": "stream",
     "text": [
      "((<tf.Tensor: shape=(128, 26), dtype=int64, numpy=\n",
      "array([[0, 0, 2, ..., 0, 2, 2],\n",
      "       [0, 0, 0, ..., 0, 1, 0],\n",
      "       [0, 0, 2, ..., 2, 1, 0],\n",
      "       ...,\n",
      "       [1, 0, 1, ..., 0, 1, 0],\n",
      "       [1, 0, 1, ..., 0, 1, 0],\n",
      "       [0, 0, 0, ..., 0, 1, 0]])>, <tf.Tensor: shape=(128, 26), dtype=int64, numpy=\n",
      "array([[0, 0, 2, ..., 0, 2, 2],\n",
      "       [0, 0, 0, ..., 0, 1, 0],\n",
      "       [0, 0, 2, ..., 2, 1, 0],\n",
      "       ...,\n",
      "       [1, 0, 1, ..., 0, 1, 0],\n",
      "       [1, 0, 1, ..., 0, 1, 0],\n",
      "       [0, 0, 0, ..., 0, 1, 0]])>), <tf.Tensor: shape=(128, 26), dtype=int64, numpy=\n",
      "array([[0, 0, 2, ..., 0, 2, 2],\n",
      "       [0, 0, 0, ..., 0, 1, 0],\n",
      "       [0, 0, 2, ..., 2, 1, 0],\n",
      "       ...,\n",
      "       [1, 0, 1, ..., 0, 1, 0],\n",
      "       [1, 0, 1, ..., 0, 1, 0],\n",
      "       [0, 0, 0, ..., 0, 1, 0]])>)\n"
     ]
    }
   ],
   "source": [
    "for row in train_dataset.take(1):\n",
    "  print(row)"
   ]
  },
  {
   "cell_type": "markdown",
   "metadata": {},
   "source": [
    "### Create an MDN based model with pretrained encoder/decoder layers"
   ]
  },
  {
   "cell_type": "code",
   "execution_count": 12,
   "metadata": {},
   "outputs": [],
   "source": [
    "class RedTSPrediction(tf.keras.Model):\n",
    "\n",
    "    def __init__(self, vae_path, latent_size, num_mixtures):\n",
    "        super().__init__()\n",
    "        self.ts_vae = tf.keras.models.load_model(vae_path)\n",
    "        self.ts_vae.trainable = False\n",
    "        self.encoder = self.ts_vae.encoder\n",
    "        self.decoder = self.ts_vae.decoder\n",
    "\n",
    "        self.ts_dense = tf.keras.layers.Dense(1024, activation=tf.nn.relu)\n",
    "        self.cross_dense = tf.keras.layers.Dense(4096, activation=tf.nn.relu)\n",
    "        \n",
    "        self.fc_1 = tf.keras.layers.Dense(4096, activation=tf.nn.relu)\n",
    "\n",
    "        self.mdn = MDN.MDN(output_dimension=latent_size, num_mixtures=num_mixtures)\n",
    "\n",
    "    @tf.function(input_signature=[tf.TensorSpec(shape=[None,78], dtype=tf.float32)])\n",
    "    def encode(self, x):\n",
    "        mean, logvar = tf.split(self.encoder(x), num_or_size_splits=2, axis=1)\n",
    "        z = self.reparameterize(mean, logvar)\n",
    "        return z\n",
    "    \n",
    "    @tf.function(input_signature=[tf.TensorSpec(shape=[None,LATENT_SIZE], dtype=tf.float32),tf.TensorSpec(shape=[None,LATENT_SIZE], dtype=tf.float32)])\n",
    "    def reparameterize(self, mean, logvar):\n",
    "        #     eps = tf.random.normal(shape=mean.shape)\n",
    "        eps = tf.random.normal(shape=tf.shape(mean))\n",
    "\n",
    "        return eps * tf.exp(logvar * .5) + mean\n",
    " \n",
    "    @tf.function(input_signature=[tf.TensorSpec(shape=[None,LATENT_SIZE], dtype=tf.float32)])\n",
    "    def decode(self, latent, apply_sigmoid=False):\n",
    "        logits = self.decoder(latent)\n",
    "        if apply_sigmoid:\n",
    "          probs = tf.sigmoid(logits)\n",
    "        return logits #self.decoder(latent_pred)\n",
    "\n",
    "    @tf.function#(input_signature=[tf.TensorSpec(shape=[None,26], dtype=tf.uint8),tf.TensorSpec(shape=[None,26], dtype=tf.uint8)])\n",
    "    def call(self, inputs):\n",
    "        pre_ts = inputs[0]\n",
    "        blue_ts = inputs[1]\n",
    "        \n",
    "        pre_ts_oh = tf.cast(tf.reshape(tf.one_hot(pre_ts,3),(-1,78)),tf.float32)\n",
    "#         pre_ts_access = tf.reshape(tf.one_hot(pre_ts[:,13:],3),(-1,39))\n",
    "        \n",
    "        blue_ts_oh = tf.cast(tf.reshape(tf.one_hot(blue_ts,3),(-1,78)),tf.float32)\n",
    "#         blue_ts_access = tf.reshape(tf.one_hot(blue_ts[:,13:],3),(-1,39))\n",
    "        \n",
    "#         print(pre_ts[:,:])\n",
    "#         print(pre_ts_oh)\n",
    "#         print(blue_ts)\n",
    "#         blue_ts_kn = K.print_tensor(blue_ts[:,:13], message='blue known = ')\n",
    "#         blue_ts_known = K.print_tensor(blue_ts_known[:,:13], message='blue known OH = ')\n",
    "#         print(blue_ts_known.shape)\n",
    "\n",
    "        pre_ts_encoded = self.encode(pre_ts_oh)\n",
    "#         mean, logvar = self.ts_vae.encode(pre_ts_oh)\n",
    "#         mean, logvar = tf.split(self.encoder(pre_ts_oh), num_or_size_splits=2, axis=1)\n",
    "#         pre_ts_encoded = self.reparameterize(mean, logvar)\n",
    "        pre_ts_encoded = self.ts_dense(pre_ts_encoded)\n",
    "        \n",
    "        blue_ts_encoded = self.encode(blue_ts_oh)\n",
    "        blue_ts_encoded = self.ts_dense(blue_ts_encoded)\n",
    "\n",
    "        combined = tf.keras.layers.concatenate([pre_ts_encoded, blue_ts_encoded])\n",
    "\n",
    "        combined_hidden = self.cross_dense(combined)\n",
    "        \n",
    "        fc = self.fc_1(combined_hidden)\n",
    "\n",
    "        mdn_out = self.mdn(fc)\n",
    "\n",
    "        return mdn_out\n",
    "        \n"
   ]
  },
  {
   "cell_type": "code",
   "execution_count": 13,
   "metadata": {},
   "outputs": [],
   "source": [
    "@tf.function\n",
    "def forward_pass(model, x, y):\n",
    "    out = model(x)\n",
    "    \n",
    "    y_oh = tf.reshape(tf.one_hot(y,3),(-1,78))\n",
    "    y_encoded = model.encode(y_oh)\n",
    "    \n",
    "    return out, y_encoded\n",
    "\n",
    "@tf.function\n",
    "def decode_z(model, x):\n",
    "    x_oh = model.ts_vae.get_oh_output(model.decode(tf.cast(x,tf.float32)))\n",
    "#     y_oh = model.ts_vae.get_oh_output(model.decode(tf.cast(y,tf.float32)))\n",
    "    \n",
    "    return x_oh\n",
    "    \n",
    "\n",
    "@tf.function\n",
    "def compute_loss(model, x, y, loss_func):\n",
    "    out, y_encoded = forward_pass(model, x, y)\n",
    "    \n",
    "    loss = loss_func(y_encoded, out)\n",
    "    \n",
    "    return loss\n",
    "    \n",
    "\n",
    "@tf.function\n",
    "def train_step(model, x, y, optimizer, loss_func):\n",
    "    \"\"\"Executes one training step and returns the loss.\n",
    "\n",
    "    This function computes the loss and gradients, and uses the latter to\n",
    "    update the model's parameters.\n",
    "    \"\"\"\n",
    "#     y_encoded = model.encode(y)\n",
    "    with tf.GradientTape() as tape:\n",
    "        loss = compute_loss(model, x, y, loss_func)\n",
    "    gradients = tape.gradient(loss, model.trainable_variables)\n",
    "    optimizer.apply_gradients(zip(gradients, model.trainable_variables))"
   ]
  },
  {
   "cell_type": "markdown",
   "metadata": {},
   "source": [
    "### Training loop"
   ]
  },
  {
   "cell_type": "code",
   "execution_count": 14,
   "metadata": {},
   "outputs": [
    {
     "name": "stdout",
     "output_type": "stream",
     "text": [
      "WARNING:tensorflow:No training configuration found in save file, so the model was *not* compiled. Compile it manually.\n"
     ]
    }
   ],
   "source": [
    "red_ts_predictor = RedTSPrediction('models/trueStateVAE_7_L8', latent_size=LATENT_SIZE, num_mixtures=NUMBER_MIXTURES)"
   ]
  },
  {
   "cell_type": "code",
   "execution_count": 16,
   "metadata": {},
   "outputs": [
    {
     "name": "stdout",
     "output_type": "stream",
     "text": [
      "tf.Tensor(\n",
      "[[-0.12222395  0.01585624  0.00727669  0.02337963 -0.10568135 -0.03288135\n",
      "  -0.02218098  0.11942726 -0.0305853  -0.07263276  0.02637395  0.07172744\n",
      "  -0.01315062  0.03927666  0.04185179 -0.02946183 -0.02907011 -0.02483988\n",
      "   0.12993863  0.0746675  -0.02883039 -0.07881409 -0.04964251  0.01882863\n",
      "   0.09136044  0.04786986 -0.02841164 -0.08794334 -0.03244712 -0.01360381\n",
      "  -0.07149517 -0.01682883 -0.04962696  0.02391597  0.1142946  -0.02050039\n",
      "  -0.1108646  -0.05139026  0.06124741  0.03488232  0.98607945  1.1665311\n",
      "   0.9712365   0.9638739   1.0037962   1.0348972   0.91646785  0.8797206\n",
      "   0.9665289   0.9335194   0.98988116  1.0152488   0.9687118   1.0680681\n",
      "   1.0253307   1.0036045   1.0672158   0.9280012   0.95186555  0.99818397\n",
      "   0.94740385  1.0470762   1.0349078   1.0047235   0.9779146   1.0252663\n",
      "   0.9368207   0.94395226  0.98524207  0.8728518   0.98289025  1.0881991\n",
      "   0.96212095  1.0134054   1.1228137   1.0559785   0.90827733  1.0187753\n",
      "   1.0885262   0.96832    -0.11405783  0.1251438   0.06552782  0.03343084\n",
      "   0.0803483 ]], shape=(1, 85), dtype=float32)\n"
     ]
    }
   ],
   "source": [
    "for row in test_dataset.take(1):\n",
    "#   print(row)\n",
    "  out = red_ts_predictor(row[0])\n",
    "  print(out)"
   ]
  },
  {
   "cell_type": "code",
   "execution_count": 17,
   "metadata": {},
   "outputs": [
    {
     "name": "stdout",
     "output_type": "stream",
     "text": [
      "Model: \"red_ts_prediction\"\n",
      "_________________________________________________________________\n",
      " Layer (type)                Output Shape              Param #   \n",
      "=================================================================\n",
      " true_state_vae_4 (TrueState  multiple                 121736094 \n",
      " VAE)                                                            \n",
      "                                                                 \n",
      " sequential_8 (Sequential)   (None, 16)                60892016  \n",
      "                                                                 \n",
      " sequential_9 (Sequential)   (None, 78)                60844078  \n",
      "                                                                 \n",
      " dense (Dense)               multiple                  9216      \n",
      "                                                                 \n",
      " dense_1 (Dense)             multiple                  8392704   \n",
      "                                                                 \n",
      " dense_2 (Dense)             multiple                  16781312  \n",
      "                                                                 \n",
      " mdn (MDN)                   multiple                  348245    \n",
      "                                                                 \n",
      "=================================================================\n",
      "Total params: 147,267,571\n",
      "Trainable params: 25,531,477\n",
      "Non-trainable params: 121,736,094\n",
      "_________________________________________________________________\n"
     ]
    }
   ],
   "source": [
    "# red_ts_predictor.compile(loss=get_mixture_loss_func(LATENT_SIZE,NUMBER_MIXTURES,red_ts_predictor.encode), optimizer=tf.keras.optimizers.Adam(),metrics=['mean_squared_error'])\n",
    "# red_ts_predictor.build(((1,78),(1,78)))\n",
    "red_ts_predictor.summary()\n"
   ]
  },
  {
   "cell_type": "code",
   "execution_count": 18,
   "metadata": {},
   "outputs": [],
   "source": [
    "loss_func = MDN.get_mixture_loss_func(LATENT_SIZE,NUMBER_MIXTURES)\n",
    "optimizer = tf.keras.optimizers.Adam(1e-4)"
   ]
  },
  {
   "cell_type": "code",
   "execution_count": 19,
   "metadata": {
    "scrolled": true
   },
   "outputs": [
    {
     "name": "stdout",
     "output_type": "stream",
     "text": [
      "Epoch: 50, Test set loss: 3.9351608753204346, time elapse for current epoch: 236.7035527229309\n"
     ]
    }
   ],
   "source": [
    "# train_dataset=test_dataset.take(10)\n",
    "\n",
    "# EPOCHS = 500\n",
    "for epoch in range(1, EPOCHS + 1):\n",
    "    count = 0\n",
    "    start_time = time.time()\n",
    "    for train_x, train_y in train_dataset:\n",
    "        if (count %1000) == 0:\n",
    "            print(f\"{count}={count*batch_size} samples\")\n",
    "        train_step(red_ts_predictor, train_x, train_y, optimizer, loss_func)\n",
    "        count += 1\n",
    "    end_time = time.time()\n",
    "\n",
    "    \n",
    "    total_matches = 0\n",
    "    total = 0\n",
    "    nodes = 0\n",
    "    sum_diffs_sqrd = 0\n",
    "    state_pred_pairs = []\n",
    "    state_pred_pair_tree_vis = []\n",
    "    loss = tf.keras.metrics.Mean()\n",
    "    for test_x, test_y in test_dataset.take(1000):#.take(10):#test_dataset:\n",
    "        total += 1\n",
    "        if (total %100) == 0:\n",
    "            print(f\"{total}={total*1} samples\")\n",
    "        out, y_encoded = forward_pass(red_ts_predictor, test_x, test_y)\n",
    "        loss_val = loss_func(y_encoded, out)\n",
    "        loss(loss_val)\n",
    "        \n",
    "#         sampled_out = MDN.sample_from_output(out[0].numpy(), output_dim=LATENT_SIZE, num_mixes=NUMBER_MIXTURES)\n",
    "#         pred_oh, y_oh = decode_zs(red_ts_predictor, sampled_out, y_encoded)\n",
    "        \n",
    "        \n",
    "#         state_pred_pairs.append([y_oh, pred_oh])\n",
    "# #         state_pred_pair_tree_vis.append([TrueStateTreeGraphViz(y_oh), TrueStateTreeGraphViz(pred_oh)])\n",
    "# #         loss(compute_loss(red_ts_predictor, test_x, test_y, loss_func))\n",
    "#         diffs = np.rint(y_oh.numpy()) - np.rint(pred_oh.numpy())\n",
    "#     #     diffs = get_state_diff(true_state_model,test_x)\n",
    "#         nodes += len(diffs.flatten())\n",
    "#         diffs_sqrd = np.sum(diffs*diffs)\n",
    "#         sum_diffs_sqrd += diffs_sqrd\n",
    "#         if not diffs_sqrd >0:\n",
    "#     #       print(diffs)\n",
    "#     #     else:\n",
    "#           total_matches += 1\n",
    "#     #       print(\"Match\")\n",
    "    #       print(diffs)\n",
    "\n",
    "    loss = loss.result()\n",
    "    display.clear_output(wait=False)\n",
    "#     print(f\"accuracy = {total_matches}/{total} = {total_matches/total}, \\nmean of squared diffs = {sum_diffs_sqrd}/{nodes}={sum_diffs_sqrd/nodes}\\npercentage wrong = ({sum_diffs_sqrd}/{2})/({nodes}/{3})={(sum_diffs_sqrd/2)/(nodes/3)}\")\n",
    "    print('Epoch: {}, Test set loss: {}, time elapse for current epoch: {}'\n",
    "        .format(epoch, loss, end_time - start_time))\n",
    "#     display_tree_pairs(state_pred_pair_tree_vis)"
   ]
  },
  {
   "cell_type": "code",
   "execution_count": 20,
   "metadata": {
    "scrolled": true
   },
   "outputs": [],
   "source": [
    "# pre_ts_encoded = red_ts_predictor.ts_vae.encode(np.zeros((1,78),dtype=np.float32))\n",
    "# red_ts_predictor.ts_dense(pre_ts_encoded)\n",
    "\n",
    "red_ts_predictor((np.zeros((1,26),dtype=np.uint8),np.zeros((1,26),dtype=np.uint8)))\n",
    "\n",
    "red_ts_predictor.save('models/RedTSPredictionMDN_3',overwrite=True)"
   ]
  },
  {
   "cell_type": "markdown",
   "metadata": {},
   "source": [
    "### Test and evaluate"
   ]
  },
  {
   "cell_type": "code",
   "execution_count": 21,
   "metadata": {
    "scrolled": true
   },
   "outputs": [
    {
     "name": "stderr",
     "output_type": "stream",
     "text": [
      "/usr/local/lib/python3.8/dist-packages/ipykernel/ipkernel.py:281: DeprecationWarning: `should_run_async` will not call `transform_cell` automatically in the future. Please pass the result to `transformed_cell` argument and any exception that happen during thetransform in `preprocessing_exc_tuple` in IPython 7.17 and above.\n",
      "  and should_run_async(code)\n"
     ]
    },
    {
     "name": "stdout",
     "output_type": "stream",
     "text": [
      "WARNING:tensorflow:No training configuration found in save file, so the model was *not* compiled. Compile it manually.\n"
     ]
    },
    {
     "name": "stderr",
     "output_type": "stream",
     "text": [
      "WARNING:tensorflow:No training configuration found in save file, so the model was *not* compiled. Compile it manually.\n"
     ]
    }
   ],
   "source": [
    "m2 = tf.keras.models.load_model(\n",
    "    'models/RedTSPredictionMDN_3',\n",
    ")"
   ]
  },
  {
   "cell_type": "code",
   "execution_count": 98,
   "metadata": {
    "scrolled": true
   },
   "outputs": [
    {
     "name": "stderr",
     "output_type": "stream",
     "text": [
      "/usr/local/lib/python3.8/dist-packages/ipykernel/ipkernel.py:281: DeprecationWarning: `should_run_async` will not call `transform_cell` automatically in the future. Please pass the result to `transformed_cell` argument and any exception that happen during thetransform in `preprocessing_exc_tuple` in IPython 7.17 and above.\n",
      "  and should_run_async(code)\n"
     ]
    }
   ],
   "source": [
    "def evaluate_on_test_dataset(test_dataset, model, num_eval_samples = 10, test_dataset_cap = 4884):\n",
    "\n",
    "    total_matches = 0\n",
    "    total = 0\n",
    "    nodes = 0\n",
    "    sum_diffs_sqrd = 0\n",
    "    state_pred_pairs = []\n",
    "    state_pred_pair_tree_vis = []\n",
    "    state_pred_samples_correct = []\n",
    "\n",
    "    red_change_test_indices = []\n",
    "    no_change_indices = []\n",
    "\n",
    "    loss = tf.keras.metrics.Mean()\n",
    "\n",
    "    for i, (test_x, test_y) in enumerate(test_dataset.take(test_dataset_cap)):#.take(10):#test_dataset:\n",
    "        pre_ts = tf.reshape(tf.one_hot(test_x[0],3),(-1,2,3))\n",
    "        blue_ts = tf.reshape(tf.one_hot(test_x[1],3),(-1,2,3))\n",
    "\n",
    "        out, y_encoded = forward_pass(model, test_x, test_y)\n",
    "    #     y_oh = decode_z(m2, y_encoded)\n",
    "\n",
    "        y_oh = tf.one_hot(tf.reshape(test_y,(-1,2)),depth=3)\n",
    "\n",
    "    #     if not ONLY_MEASURE_CHANGES or np.any(blue_ts != y_oh):\n",
    "\n",
    "        if np.any(blue_ts != y_oh):\n",
    "            red_change_test_indices.append(i)\n",
    "        else:\n",
    "            no_change_indices.append(i)\n",
    "\n",
    "        loss_val = loss_func(y_encoded, out)\n",
    "        loss(loss_val)\n",
    "\n",
    "        y_tree_vis = TrueStateTreeGraphViz(y_oh)\n",
    "\n",
    "        predictions = []\n",
    "        pred_tree_vis = []\n",
    "        pred_corrects = []\n",
    "        for i in range(num_eval_samples):\n",
    "            total += 1\n",
    "            sampled_out = MDN.sample_from_output(out[0].numpy(), output_dim=LATENT_SIZE, num_mixes=NUMBER_MIXTURES)\n",
    "            pred_oh = decode_z(model, sampled_out)\n",
    "\n",
    "            predictions.append(pred_oh)\n",
    "            pred_tree_vis.append(TrueStateTreeGraphViz(pred_oh))\n",
    "\n",
    "            diffs = np.rint(y_oh.numpy()) - np.rint(pred_oh.numpy())\n",
    "            diffs_sqrd = np.sum(diffs*diffs)\n",
    "            sum_diffs_sqrd += diffs_sqrd\n",
    "\n",
    "            nodes += len(diffs.flatten())\n",
    "            pred_correct = not diffs_sqrd >0\n",
    "            if pred_correct:\n",
    "                total_matches += 1\n",
    "            pred_corrects.append(pred_correct)\n",
    "\n",
    "\n",
    "\n",
    "        state_pred_pairs.append([y_oh, predictions])\n",
    "\n",
    "        state_pred_pair_tree_vis.append([TrueStateTreeGraphViz(pre_ts),\n",
    "                                         TrueStateTreeGraphViz(blue_ts),\n",
    "                                         y_tree_vis,\n",
    "                                         pred_tree_vis])\n",
    "\n",
    "        state_pred_samples_correct.append(pred_corrects)\n",
    "\n",
    "    state_pred_samples_correct = np.array(state_pred_samples_correct)\n",
    "\n",
    "    #         state_pred_pairs.append([y_oh, pred_oh])\n",
    "    #     state_pred_pair_tree_vis.append([TrueStateTreeGraphViz(y_oh), TrueStateTreeGraphViz(pred_oh)])\n",
    "    #         loss(compute_loss(m2, test_x, test_y, loss_func))\n",
    "    #     diffs = np.rint(y_oh.numpy()) - np.rint(pred_oh.numpy())\n",
    "    #     diffs = get_state_diff(true_state_model,test_x)\n",
    "    #     nodes += len(diffs.flatten())\n",
    "    #     diffs_sqrd = np.sum(diffs*diffs)\n",
    "    #     sum_diffs_sqrd += diffs_sqrd\n",
    "    #     if not diffs_sqrd >0:\n",
    "    # #       print(diffs)\n",
    "    # #     else:\n",
    "    #       total_matches += 1\n",
    "    #       print(\"Match\")\n",
    "    #       print(diffs)\n",
    "\n",
    "    loss = loss.result()\n",
    "    print(f\"accuracy = {total_matches}/{total} = {total_matches/total}, \\nmean of squared diffs = {sum_diffs_sqrd}/{nodes}={sum_diffs_sqrd/nodes}\\npercentage wrong = ({sum_diffs_sqrd}/{2})/({nodes}/{3})={(sum_diffs_sqrd/2)/(nodes/3)}\")\n",
    "    # print('Epoch: {}, Test set loss: {}, time elapse for current epoch: {}'\n",
    "    #     .format(epoch, loss, end_time - start_time))\n",
    "    return (total_matches, total, nodes, sum_diffs_sqrd, loss), state_pred_pairs, state_pred_pair_tree_vis, state_pred_samples_correct, red_change_test_indices, no_change_indices\n"
   ]
  },
  {
   "cell_type": "code",
   "execution_count": 104,
   "metadata": {},
   "outputs": [
    {
     "name": "stdout",
     "output_type": "stream",
     "text": [
      "accuracy = 637/1000 = 0.637, \n",
      "mean of squared diffs = 932.0/78000=0.011948717948717949\n",
      "percentage wrong = (932.0/2)/(78000/3)=0.017923076923076924\n"
     ]
    }
   ],
   "source": [
    "totals_tuple, \\\n",
    "state_pred_pairs, \\\n",
    "state_pred_pair_tree_vis, \\\n",
    "state_pred_samples_correct, \\\n",
    "red_change_test_indices, \\\n",
    "no_change_indices = evaluate_on_test_dataset(test_dataset, m2, test_dataset_cap=100)"
   ]
  },
  {
   "cell_type": "code",
   "execution_count": 105,
   "metadata": {},
   "outputs": [
    {
     "data": {
      "image/png": "[encoded data removed]",
      "text/plain": [
       "<Figure size 640x480 with 1 Axes>"
      ]
     },
     "metadata": {},
     "output_type": "display_data"
    }
   ],
   "source": [
    "import matplotlib.pyplot as plt\n",
    "\n",
    "correct_pred_counts = np.sum(state_pred_samples_correct[no_change_indices],axis=1)\n",
    "\n",
    "correct_pred_counts_change_only = np.sum(state_pred_samples_correct[red_change_test_indices], axis=1)\n",
    "\n",
    "# print(f\"Correct prediction frequencies: {correct_pred_counts}\")\n",
    "\n",
    "plt.hist([correct_pred_counts,correct_pred_counts_change_only],num_eval_samples+1,density=True, stacked=True, label=[\"No state change\", \"Changes only\"])\n",
    "# plt.hist(correct_pred_counts_change_only,num_eval_samples+1,density=True)\n",
    "plt.legend(loc=\"lower right\")\n",
    "plt.xlabel('Count of correct predictions in 10 samples')\n",
    "plt.ylabel('Density')\n",
    "plt.show()"
   ]
  },
  {
   "cell_type": "code",
   "execution_count": 115,
   "metadata": {},
   "outputs": [],
   "source": [
    "from importlib import reload\n",
    "import true_state_viewer\n",
    "reload(true_state_viewer)\n",
    "from true_state_viewer import display_tree_red_preds"
   ]
  },
  {
   "cell_type": "code",
   "execution_count": 111,
   "metadata": {
    "scrolled": true
   },
   "outputs": [
    {
     "name": "stdout",
     "output_type": "stream",
     "text": [
      "100\n"
     ]
    },
    {
     "name": "stderr",
     "output_type": "stream",
     "text": [
      "/usr/local/lib/python3.8/dist-packages/ipywidgets/widgets/widget.py:443: DeprecationWarning: Passing unrecognized arguments to super(IntSlider).__init__(name='Index').\n",
      "object.__init__() takes exactly one argument (the instance to initialize)\n",
      "This is deprecated in traitlets 4.2.This error will be raised in a future release of traitlets.\n",
      "  super().__init__(**kwargs)\n",
      "/usr/local/lib/python3.8/dist-packages/ipywidgets/widgets/widget.py:443: DeprecationWarning: Passing unrecognized arguments to super(HBox).__init__(overflow_x='auto', overflow='scroll').\n",
      "object.__init__() takes exactly one argument (the instance to initialize)\n",
      "This is deprecated in traitlets 4.2.This error will be raised in a future release of traitlets.\n",
      "  super().__init__(**kwargs)\n"
     ]
    },
    {
     "data": {
      "application/vnd.jupyter.widget-view+json": {
       "model_id": "4477f885eedf4095ad4441a8672733af",
       "version_major": 2,
       "version_minor": 0
      },
      "text/plain": [
       "HBox(children=(Button(description='<<', style=ButtonStyle()), Button(description='>>', style=ButtonStyle()), I…"
      ]
     },
     "metadata": {},
     "output_type": "display_data"
    },
    {
     "data": {
      "application/vnd.jupyter.widget-view+json": {
       "model_id": "e9bad1f59aa447b8bbde59f9ca23056c",
       "version_major": 2,
       "version_minor": 0
      },
      "text/plain": [
       "HBox(children=(Image(value=b'\\x89PNG\\r\\n\\x1a\\n\\x00\\x00\\x00\\rIHDR\\x00\\x00\\x01\\xfa\\x00\\x00\\x01[\\x08\\x02\\x00\\x00\\…"
      ]
     },
     "metadata": {},
     "output_type": "display_data"
    },
    {
     "data": {
      "application/vnd.jupyter.widget-view+json": {
       "model_id": "d924450400fa4130b5d2f050cde17ad6",
       "version_major": 2,
       "version_minor": 0
      },
      "text/plain": [
       "HBox(children=(Image(value=b'\\x89PNG\\r\\n\\x1a\\n\\x00\\x00\\x00\\rIHDR\\x00\\x00\\x01\\xfa\\x00\\x00\\x01[\\x08\\x02\\x00\\x00\\…"
      ]
     },
     "metadata": {},
     "output_type": "display_data"
    }
   ],
   "source": [
    "display_tree_red_preds(state_pred_pair_tree_vis)"
   ]
  },
  {
   "cell_type": "code",
   "execution_count": 82,
   "metadata": {},
   "outputs": [
    {
     "name": "stderr",
     "output_type": "stream",
     "text": [
      "/usr/local/lib/python3.8/dist-packages/ipykernel/ipkernel.py:281: DeprecationWarning: `should_run_async` will not call `transform_cell` automatically in the future. Please pass the result to `transformed_cell` argument and any exception that happen during thetransform in `preprocessing_exc_tuple` in IPython 7.17 and above.\n",
      "  and should_run_async(code)\n"
     ]
    }
   ],
   "source": [
    "dist_of_item = train_df[(train_df[pre_cols + blue_cols] == test_df[pre_cols + blue_cols].iloc[2,:]).all(axis=1)][red_cols]\n",
    "# for i, (test_x, test_y) in enumerate(test_dataset.take(1)):\n",
    "#     print(test_x[0])\n",
    "#     print(test_x[1])\n",
    "#     print(test_y)\n",
    "\n",
    "dist_of_item\n",
    "\n",
    "uniques, counts = np.unique(dist_of_item.values, axis=0, return_counts=True)\n",
    "\n",
    "print(uniques)\n",
    "\n",
    "unique1 = tf.one_hot(tf.reshape(uniques[0],(-1,2)),depth=3)\n",
    "gv = TrueStateTreeGraphViz(unique1)\n",
    "gv.display()"
   ]
  },
  {
   "cell_type": "code",
   "execution_count": null,
   "metadata": {},
   "outputs": [],
   "source": [
    "# GET A HISTOGRAM WORKING\n",
    "# add a function to display a histogram of the counts and the true state viz diagrams of the ith test df\n",
    "# "
   ]
  },
  {
   "cell_type": "code",
   "execution_count": 95,
   "metadata": {},
   "outputs": [
    {
     "name": "stderr",
     "output_type": "stream",
     "text": [
      "/usr/local/lib/python3.8/dist-packages/ipykernel/ipkernel.py:281: DeprecationWarning: `should_run_async` will not call `transform_cell` automatically in the future. Please pass the result to `transformed_cell` argument and any exception that happen during thetransform in `preprocessing_exc_tuple` in IPython 7.17 and above.\n",
      "  and should_run_async(code)\n"
     ]
    }
   ],
   "source": [
    "from IPython.display import display as display_func\n",
    "import ipywidgets as widgets"
   ]
  },
  {
   "cell_type": "code",
   "execution_count": 142,
   "metadata": {},
   "outputs": [
    {
     "name": "stderr",
     "output_type": "stream",
     "text": [
      "/usr/local/lib/python3.8/dist-packages/ipykernel/ipkernel.py:281: DeprecationWarning: `should_run_async` will not call `transform_cell` automatically in the future. Please pass the result to `transformed_cell` argument and any exception that happen during thetransform in `preprocessing_exc_tuple` in IPython 7.17 and above.\n",
      "  and should_run_async(code)\n"
     ]
    }
   ],
   "source": [
    "def display_ith_train_histogram(test_index_i, preds):\n",
    "    dist_of_item = train_df[(train_df[pre_cols + blue_cols] == test_df[pre_cols + blue_cols].iloc[test_index_i,:]).all(axis=1)][red_cols]\n",
    "    uniques, counts = np.unique(dist_of_item.values, axis=0, return_counts=True)\n",
    "    \n",
    "    pred_uniques, pred_counts = np.unique(preds, axis=0, return_counts=True)\n",
    "    density = list(counts/np.sum(counts))\n",
    "    density.append(0)\n",
    "    pred_density = pred_counts/np.sum(pred_counts)\n",
    "    \n",
    "    red_ts_ohs = []\n",
    "    gv_imgs = []\n",
    "    for red_ts in uniques:\n",
    "        red_ts_oh = tf.one_hot(tf.reshape(red_ts,(-1,2)),depth=3)\n",
    "        red_ts_ohs.append(red_ts_oh)\n",
    "        gv = TrueStateTreeGraphViz(red_ts_oh)\n",
    "        gv_imgs.append(widgets.Image(value = gv.g.pipe(), format='png', width=150))\n",
    "    \n",
    "    sidebyside_images = widgets.HBox(gv_imgs)\n",
    "    \n",
    "    pred_hist_list = []\n",
    "    density_sum = 0\n",
    "    for red_ts_ohs in red_ts_ohs:\n",
    "        index=-1\n",
    "        for i, pred in enumerate(pred_uniques):\n",
    "            if np.all(red_ts_ohs == pred):\n",
    "                index=i\n",
    "                break\n",
    "        if index >=0:\n",
    "            pred_hist_list.append(pred_density[index])\n",
    "            density_sum += pred_density[index]\n",
    "        else:\n",
    "            pred_hist_list.append(0)\n",
    "            \n",
    "    pred_hist_list.append(1.0-density_sum)\n",
    "    \n",
    "\n",
    "    x = [i for i in range(len(density))]\n",
    "\n",
    "#     x_pos = [i for i, _ in enumerate(x)]\n",
    "    x_pos = np.arange(len(x))\n",
    "#     plt.bar(x_pos, density)\n",
    "    plt.bar(x_pos - 0.2, density, 0.4, label = 'Dataset')\n",
    "    plt.bar(x_pos + 0.2, pred_hist_list, 0.4, label = 'Predictions')\n",
    "    plt.xlabel(\"Red TS transitions in training data\")\n",
    "    plt.ylabel(\"Count of predictions\")\n",
    "    plt.title(f\"Histogram of Red behaviours for test data at index {test_index_i}\")\n",
    "\n",
    "    plt.xticks(x_pos, x)\n",
    "    plt.legend()\n",
    "\n",
    "    fig = plt.figure()\n",
    "\n",
    "    plt.show(fig)\n",
    "    display_func(sidebyside_images)\n"
   ]
  },
  {
   "cell_type": "code",
   "execution_count": 97,
   "metadata": {},
   "outputs": [
    {
     "data": {
      "image/png": "[encoded data removed]",
      "text/plain": [
       "<Figure size 640x480 with 1 Axes>"
      ]
     },
     "metadata": {},
     "output_type": "display_data"
    },
    {
     "data": {
      "text/plain": [
       "<Figure size 640x480 with 0 Axes>"
      ]
     },
     "metadata": {},
     "output_type": "display_data"
    },
    {
     "data": {
      "application/vnd.jupyter.widget-view+json": {
       "model_id": "b7d7ef5c6ec44342a0939a59a4a7570c",
       "version_major": 2,
       "version_minor": 0
      },
      "text/plain": [
       "HBox(children=(Image(value=b'\\x89PNG\\r\\n\\x1a\\n\\x00\\x00\\x00\\rIHDR\\x00\\x00\\x01\\xfa\\x00\\x00\\x01[\\x08\\x02\\x00\\x00\\…"
      ]
     },
     "metadata": {},
     "output_type": "display_data"
    }
   ],
   "source": [
    "display_ith_train_histogram(2)"
   ]
  },
  {
   "cell_type": "code",
   "execution_count": null,
   "metadata": {},
   "outputs": [],
   "source": [
    "# run the eval code again but limit to 10 test samples with 100 samples each and no data shuffling\n",
    "# (add a cap to the OG visualisation code)\n",
    "# "
   ]
  },
  {
   "cell_type": "code",
   "execution_count": 113,
   "metadata": {},
   "outputs": [
    {
     "name": "stdout",
     "output_type": "stream",
     "text": [
      "accuracy = 455/750 = 0.6066666666666667, \n",
      "mean of squared diffs = 660.0/58500=0.011282051282051283\n",
      "percentage wrong = (660.0/2)/(58500/3)=0.016923076923076923\n"
     ]
    }
   ],
   "source": [
    "test_dataset_no_shuffle = (tf.data.Dataset.from_tensor_slices(((test_pre_df.values,test_blue_df.values),test_red_df.values)).batch(1))\n",
    "\n",
    "totals_tuple, \\\n",
    "state_pred_pairs, \\\n",
    "state_pred_pair_tree_vis, \\\n",
    "state_pred_samples_correct, \\\n",
    "red_change_test_indices, \\\n",
    "no_change_indices = evaluate_on_test_dataset(test_dataset_no_shuffle, m2, test_dataset_cap=15, num_eval_samples=50)"
   ]
  },
  {
   "cell_type": "code",
   "execution_count": 116,
   "metadata": {},
   "outputs": [
    {
     "name": "stdout",
     "output_type": "stream",
     "text": [
      "15\n"
     ]
    },
    {
     "name": "stderr",
     "output_type": "stream",
     "text": [
      "/usr/local/lib/python3.8/dist-packages/ipywidgets/widgets/widget.py:443: DeprecationWarning: Passing unrecognized arguments to super(IntSlider).__init__(name='Index').\n",
      "object.__init__() takes exactly one argument (the instance to initialize)\n",
      "This is deprecated in traitlets 4.2.This error will be raised in a future release of traitlets.\n",
      "  super().__init__(**kwargs)\n",
      "/usr/local/lib/python3.8/dist-packages/ipywidgets/widgets/widget.py:443: DeprecationWarning: Passing unrecognized arguments to super(HBox).__init__(overflow_x='auto', overflow='scroll').\n",
      "object.__init__() takes exactly one argument (the instance to initialize)\n",
      "This is deprecated in traitlets 4.2.This error will be raised in a future release of traitlets.\n",
      "  super().__init__(**kwargs)\n"
     ]
    },
    {
     "data": {
      "application/vnd.jupyter.widget-view+json": {
       "model_id": "c6c308b4142b4f4c9a3d7c89c8172800",
       "version_major": 2,
       "version_minor": 0
      },
      "text/plain": [
       "HBox(children=(Button(description='<<', style=ButtonStyle()), Button(description='>>', style=ButtonStyle()), I…"
      ]
     },
     "metadata": {},
     "output_type": "display_data"
    },
    {
     "data": {
      "application/vnd.jupyter.widget-view+json": {
       "model_id": "b310035c8bab46e682c51708207a27d8",
       "version_major": 2,
       "version_minor": 0
      },
      "text/plain": [
       "HBox(children=(Image(value=b'\\x89PNG\\r\\n\\x1a\\n\\x00\\x00\\x00\\rIHDR\\x00\\x00\\x01\\xfa\\x00\\x00\\x01[\\x08\\x02\\x00\\x00\\…"
      ]
     },
     "metadata": {},
     "output_type": "display_data"
    },
    {
     "data": {
      "application/vnd.jupyter.widget-view+json": {
       "model_id": "950956d16d47492da45ffc0ac4a5d32a",
       "version_major": 2,
       "version_minor": 0
      },
      "text/plain": [
       "HBox(children=(Image(value=b'\\x89PNG\\r\\n\\x1a\\n\\x00\\x00\\x00\\rIHDR\\x00\\x00\\x01\\xfa\\x00\\x00\\x01[\\x08\\x02\\x00\\x00\\…"
      ]
     },
     "metadata": {},
     "output_type": "display_data"
    }
   ],
   "source": [
    "display_tree_red_preds(state_pred_pair_tree_vis, pred_display_cap=15)"
   ]
  },
  {
   "cell_type": "code",
   "execution_count": 151,
   "metadata": {
    "scrolled": false
   },
   "outputs": [
    {
     "name": "stderr",
     "output_type": "stream",
     "text": [
      "/usr/local/lib/python3.8/dist-packages/ipykernel/ipkernel.py:281: DeprecationWarning: `should_run_async` will not call `transform_cell` automatically in the future. Please pass the result to `transformed_cell` argument and any exception that happen during thetransform in `preprocessing_exc_tuple` in IPython 7.17 and above.\n",
      "  and should_run_async(code)\n"
     ]
    },
    {
     "data": {
      "image/png": "[encoded data removed]",
      "text/plain": [
       "<Figure size 640x480 with 1 Axes>"
      ]
     },
     "metadata": {},
     "output_type": "display_data"
    },
    {
     "data": {
      "text/plain": [
       "<Figure size 640x480 with 0 Axes>"
      ]
     },
     "metadata": {},
     "output_type": "display_data"
    },
    {
     "data": {
      "application/vnd.jupyter.widget-view+json": {
       "model_id": "e46b500706dc4248aa97e98c33b4e2f2",
       "version_major": 2,
       "version_minor": 0
      },
      "text/plain": [
       "HBox(children=(Image(value=b'\\x89PNG\\r\\n\\x1a\\n\\x00\\x00\\x00\\rIHDR\\x00\\x00\\x01\\xfa\\x00\\x00\\x01[\\x08\\x02\\x00\\x00\\…"
      ]
     },
     "metadata": {},
     "output_type": "display_data"
    }
   ],
   "source": [
    "idx = 3\n",
    "display_ith_train_histogram(idx,state_pred_pairs[idx][1])"
   ]
  },
  {
   "cell_type": "code",
   "execution_count": null,
   "metadata": {},
   "outputs": [],
   "source": [
    "# add a funtion to get predictions from the state pred pairs and create the same unique counts\n",
    "# add a function to match and reorder the the unique counts to the test data unique count elements (adding column/s for incorrect ones)\n",
    "# add that plot to the histogram\n",
    "# \n",
    "# add functionality to flick through the indexes (or add this to the existing functionality)\n",
    "# "
   ]
  },
  {
   "cell_type": "code",
   "execution_count": null,
   "metadata": {},
   "outputs": [],
   "source": []
  }
 ],
 "metadata": {
  "kernelspec": {
   "display_name": "Python 3",
   "language": "python",
   "name": "python3"
  },
  "language_info": {
   "codemirror_mode": {
    "name": "ipython",
    "version": 3
   },
   "file_extension": ".py",
   "mimetype": "text/x-python",
   "name": "python",
   "nbconvert_exporter": "python",
   "pygments_lexer": "ipython3",
   "version": "3.8.10"
  }
 },
 "nbformat": 4,
 "nbformat_minor": 2
}
