{
 "cells": [
  {
   "cell_type": "markdown",
   "metadata": {},
   "source": [
    "### MDN References:\n",
    "\n",
    "[useful pytorch reference](https://github.com/tonyduan/mixture-density-network)\n",
    "\n",
    "[keras version](https://github.com/cpmpercussion/keras-mdn-layer)\n",
    "\n",
    "[another keras version](https://github.com/omimo/Keras-MDN/blob/master/kmdn/mdn.py)\n"
   ]
  },
  {
   "cell_type": "code",
   "execution_count": 1,
   "metadata": {
    "scrolled": false
   },
   "outputs": [
    {
     "name": "stdout",
     "output_type": "stream",
     "text": [
      "Collecting tensorflow-probability\n",
      "  Downloading tensorflow_probability-0.19.0-py2.py3-none-any.whl (6.7 MB)\n",
      "\u001b[K     |████████████████████████████████| 6.7 MB 20.4 MB/s eta 0:00:01\n",
      "\u001b[?25hRequirement already satisfied: numpy>=1.13.3 in /usr/local/lib/python3.8/dist-packages (from tensorflow-probability) (1.23.4)\n",
      "Requirement already satisfied: dm-tree in /usr/local/lib/python3.8/dist-packages (from tensorflow-probability) (0.1.8)\n",
      "Requirement already satisfied: cloudpickle>=1.3 in /usr/local/lib/python3.8/dist-packages (from tensorflow-probability) (2.2.1)\n",
      "Requirement already satisfied: gast>=0.3.2 in /usr/local/lib/python3.8/dist-packages (from tensorflow-probability) (0.4.0)\n",
      "Requirement already satisfied: absl-py in /usr/local/lib/python3.8/dist-packages (from tensorflow-probability) (1.3.0)\n",
      "Requirement already satisfied: decorator in /usr/local/lib/python3.8/dist-packages (from tensorflow-probability) (5.1.1)\n",
      "Requirement already satisfied: six>=1.10.0 in /usr/lib/python3/dist-packages (from tensorflow-probability) (1.14.0)\n",
      "Installing collected packages: tensorflow-probability\n",
      "Successfully installed tensorflow-probability-0.19.0\n",
      "\u001b[33mWARNING: You are using pip version 20.2.4; however, version 22.3.1 is available.\n",
      "You should consider upgrading via the '/usr/bin/python3 -m pip install --upgrade pip' command.\u001b[0m\n",
      "Requirement already satisfied: graphviz in /usr/local/lib/python3.8/dist-packages (0.20.1)\n",
      "\u001b[33mWARNING: You are using pip version 20.2.4; however, version 22.3.1 is available.\n",
      "You should consider upgrading via the '/usr/bin/python3 -m pip install --upgrade pip' command.\u001b[0m\n"
     ]
    }
   ],
   "source": [
    "!pip install tensorflow-probability\n",
    "!pip install graphviz"
   ]
  },
  {
   "cell_type": "code",
   "execution_count": 1,
   "metadata": {
    "scrolled": true
   },
   "outputs": [],
   "source": [
    "import MDN\n",
    "import numpy as np\n",
    "import tensorflow as tf\n",
    "import tensorflow.keras.backend as K\n",
    "import pandas as pd\n",
    "from ProcessTrueStateActionData import read_df_in_chunks\n",
    "\n",
    "from true_state_viewer import TrueStateTreeGraphViz, display_tree_pairs\n",
    "\n",
    "import time\n",
    "from IPython import display"
   ]
  },
  {
   "cell_type": "markdown",
   "metadata": {},
   "source": [
    "### Load and preprocess the data \n",
    "(produce tf train+test datasets)"
   ]
  },
  {
   "cell_type": "code",
   "execution_count": 2,
   "metadata": {},
   "outputs": [
    {
     "name": "stderr",
     "output_type": "stream",
     "text": [
      "/usr/local/lib/python3.8/dist-packages/ipykernel/ipkernel.py:281: DeprecationWarning: `should_run_async` will not call `transform_cell` automatically in the future. Please pass the result to `transformed_cell` argument and any exception that happen during thetransform in `preprocessing_exc_tuple` in IPython 7.17 and above.\n",
      "  and should_run_async(code)\n"
     ]
    }
   ],
   "source": [
    "batch_size = 128\n",
    "train_test_split = 0.99\n",
    "\n",
    "LATENT_SIZE = 8 # (mdn output_dimension)\n",
    "NUMBER_MIXTURES = 5\n",
    "\n",
    "EPOCHS = 30\n",
    "\n",
    "DATA_CAP = 2_000_000"
   ]
  },
  {
   "cell_type": "code",
   "execution_count": 3,
   "metadata": {},
   "outputs": [],
   "source": [
    "def get_columns_for_training():\n",
    "    true_states = [\"pre\",\"blue\",\"red\"]\n",
    "    ts_columns = {}\n",
    "    for true_state in true_states:\n",
    "        ts_columns[true_state] = []\n",
    "        for node in range(13):\n",
    "            ts_columns[true_state].append(f\"{node}_ts_{true_state}_known_status\")\n",
    "            ts_columns[true_state].append(f\"{node}_ts_{true_state}_access_status\")\n",
    "    return ts_columns"
   ]
  },
  {
   "cell_type": "code",
   "execution_count": 4,
   "metadata": {},
   "outputs": [],
   "source": [
    "cols_dict = get_columns_for_training()\n",
    "pre_cols, blue_cols, red_cols = cols_dict[\"pre\"], cols_dict[\"blue\"], cols_dict[\"red\"]\n",
    "all_cols = pre_cols + blue_cols + red_cols"
   ]
  },
  {
   "cell_type": "code",
   "execution_count": 5,
   "metadata": {},
   "outputs": [],
   "source": [
    "df=pd.read_parquet(\"csv_data/TrueStatesObsActsRwds_1221_4000_B_Line.parquet\").iloc[:DATA_CAP]\n",
    "df = df[all_cols].astype(\"category\")"
   ]
  },
  {
   "cell_type": "code",
   "execution_count": 6,
   "metadata": {
    "scrolled": true
   },
   "outputs": [
    {
     "name": "stderr",
     "output_type": "stream",
     "text": [
      "/usr/local/lib/python3.8/dist-packages/ipykernel/ipkernel.py:281: DeprecationWarning: `should_run_async` will not call `transform_cell` automatically in the future. Please pass the result to `transformed_cell` argument and any exception that happen during thetransform in `preprocessing_exc_tuple` in IPython 7.17 and above.\n",
      "  and should_run_async(code)\n"
     ]
    },
    {
     "data": {
      "text/plain": [
       "Index                      16000000\n",
       "0_ts_pre_known_status       2000124\n",
       "0_ts_pre_access_status      2000116\n",
       "1_ts_pre_known_status       2000132\n",
       "1_ts_pre_access_status      2000132\n",
       "                             ...   \n",
       "10_ts_red_access_status     2000132\n",
       "11_ts_red_known_status      2000124\n",
       "11_ts_red_access_status     2000132\n",
       "12_ts_red_known_status      2000124\n",
       "12_ts_red_access_status     2000132\n",
       "Length: 79, dtype: int64"
      ]
     },
     "execution_count": 6,
     "metadata": {},
     "output_type": "execute_result"
    }
   ],
   "source": [
    "df.memory_usage(deep=True)"
   ]
  },
  {
   "cell_type": "code",
   "execution_count": 7,
   "metadata": {},
   "outputs": [
    {
     "name": "stderr",
     "output_type": "stream",
     "text": [
      "/usr/local/lib/python3.8/dist-packages/ipykernel/ipkernel.py:281: DeprecationWarning: `should_run_async` will not call `transform_cell` automatically in the future. Please pass the result to `transformed_cell` argument and any exception that happen during thetransform in `preprocessing_exc_tuple` in IPython 7.17 and above.\n",
      "  and should_run_async(code)\n"
     ]
    }
   ],
   "source": [
    "train_df=df.sample(frac=train_test_split,random_state=42)\n",
    "train_pre_df = train_df[pre_cols]\n",
    "train_blue_df = train_df[blue_cols]\n",
    "train_red_df = train_df[red_cols]\n",
    "\n",
    "test_df=df.drop(train_df.index)\n",
    "test_pre_df = test_df[pre_cols]\n",
    "test_blue_df = test_df[blue_cols]\n",
    "test_red_df = test_df[red_cols]\n",
    "\n",
    "train_size = train_df.shape[0]\n",
    "test_size = test_df.shape[0]"
   ]
  },
  {
   "cell_type": "code",
   "execution_count": 8,
   "metadata": {},
   "outputs": [
    {
     "name": "stdout",
     "output_type": "stream",
     "text": [
      "1980000\n"
     ]
    },
    {
     "name": "stderr",
     "output_type": "stream",
     "text": [
      "/usr/local/lib/python3.8/dist-packages/ipykernel/ipkernel.py:281: DeprecationWarning: `should_run_async` will not call `transform_cell` automatically in the future. Please pass the result to `transformed_cell` argument and any exception that happen during thetransform in `preprocessing_exc_tuple` in IPython 7.17 and above.\n",
      "  and should_run_async(code)\n"
     ]
    }
   ],
   "source": [
    "print(train_size)"
   ]
  },
  {
   "cell_type": "code",
   "execution_count": 9,
   "metadata": {},
   "outputs": [],
   "source": [
    "train_dataset = (tf.data.Dataset.from_tensor_slices(((train_pre_df.values,train_blue_df.values),train_red_df.values)).batch(batch_size))\n",
    "test_dataset = (tf.data.Dataset.from_tensor_slices(((test_pre_df.values,test_blue_df.values),test_red_df.values)).shuffle(test_size).batch(1))"
   ]
  },
  {
   "cell_type": "code",
   "execution_count": 10,
   "metadata": {},
   "outputs": [
    {
     "name": "stdout",
     "output_type": "stream",
     "text": [
      "((<tf.Tensor: shape=(128, 26), dtype=int64, numpy=\n",
      "array([[0, 0, 0, ..., 0, 1, 0],\n",
      "       [1, 0, 1, ..., 0, 1, 0],\n",
      "       [0, 0, 2, ..., 2, 1, 0],\n",
      "       ...,\n",
      "       [0, 0, 0, ..., 0, 1, 0],\n",
      "       [0, 0, 2, ..., 0, 2, 2],\n",
      "       [0, 0, 2, ..., 0, 2, 2]])>, <tf.Tensor: shape=(128, 26), dtype=int64, numpy=\n",
      "array([[0, 0, 0, ..., 0, 1, 0],\n",
      "       [1, 0, 1, ..., 0, 1, 0],\n",
      "       [0, 0, 2, ..., 2, 1, 0],\n",
      "       ...,\n",
      "       [0, 0, 0, ..., 0, 1, 0],\n",
      "       [0, 0, 2, ..., 0, 2, 2],\n",
      "       [0, 0, 2, ..., 0, 2, 2]])>), <tf.Tensor: shape=(128, 26), dtype=int64, numpy=\n",
      "array([[0, 0, 0, ..., 0, 1, 0],\n",
      "       [1, 0, 1, ..., 0, 1, 0],\n",
      "       [0, 0, 2, ..., 2, 1, 0],\n",
      "       ...,\n",
      "       [0, 0, 0, ..., 0, 1, 0],\n",
      "       [0, 0, 2, ..., 0, 2, 2],\n",
      "       [0, 0, 2, ..., 0, 2, 2]])>)\n"
     ]
    }
   ],
   "source": [
    "for row in train_dataset.take(1):\n",
    "  print(row)"
   ]
  },
  {
   "cell_type": "markdown",
   "metadata": {},
   "source": [
    "### Create an MDN based model with pretrained encoder/decoder layers"
   ]
  },
  {
   "cell_type": "code",
   "execution_count": 16,
   "metadata": {},
   "outputs": [],
   "source": [
    "class RedTSPrediction(tf.keras.Model):\n",
    "\n",
    "    def __init__(self, vae_path, latent_size, num_mixtures):\n",
    "        super().__init__()\n",
    "        self.ts_vae = tf.keras.models.load_model(vae_path)\n",
    "        self.ts_vae.trainable = False\n",
    "        self.encoder = self.ts_vae.encoder\n",
    "        self.decoder = self.ts_vae.decoder\n",
    "\n",
    "        self.ts_dense = tf.keras.layers.Dense(1024, activation=tf.nn.relu)\n",
    "        self.cross_dense = tf.keras.layers.Dense(4096, activation=tf.nn.relu)\n",
    "        \n",
    "        self.fc_1 = tf.keras.layers.Dense(4096, activation=tf.nn.relu)\n",
    "\n",
    "        self.mdn = MDN.MDN(output_dimension=latent_size, num_mixtures=num_mixtures)\n",
    "\n",
    "    @tf.function(input_signature=[tf.TensorSpec(shape=[None,78], dtype=tf.float32)])\n",
    "    def encode(self, x):\n",
    "        mean, logvar = tf.split(self.encoder(x), num_or_size_splits=2, axis=1)\n",
    "        z = self.reparameterize(mean, logvar)\n",
    "        return z\n",
    "    \n",
    "    @tf.function(input_signature=[tf.TensorSpec(shape=[None,LATENT_SIZE], dtype=tf.float32),tf.TensorSpec(shape=[None,LATENT_SIZE], dtype=tf.float32)])\n",
    "    def reparameterize(self, mean, logvar):\n",
    "        #     eps = tf.random.normal(shape=mean.shape)\n",
    "        eps = tf.random.normal(shape=tf.shape(mean))\n",
    "\n",
    "        return eps * tf.exp(logvar * .5) + mean\n",
    " \n",
    "    @tf.function(input_signature=[tf.TensorSpec(shape=[None,LATENT_SIZE], dtype=tf.float32)])\n",
    "    def decode(self, latent, apply_sigmoid=False):\n",
    "        logits = self.decoder(latent)\n",
    "        if apply_sigmoid:\n",
    "          probs = tf.sigmoid(logits)\n",
    "        return logits #self.decoder(latent_pred)\n",
    "\n",
    "    @tf.function#(input_signature=[tf.TensorSpec(shape=[None,26], dtype=tf.uint8),tf.TensorSpec(shape=[None,26], dtype=tf.uint8)])\n",
    "    def call(self, inputs):\n",
    "        pre_ts = inputs[0]\n",
    "        blue_ts = inputs[1]\n",
    "        \n",
    "        pre_ts_oh = tf.cast(tf.reshape(tf.one_hot(pre_ts,3),(-1,78)),tf.float32)\n",
    "#         pre_ts_access = tf.reshape(tf.one_hot(pre_ts[:,13:],3),(-1,39))\n",
    "        \n",
    "        blue_ts_oh = tf.cast(tf.reshape(tf.one_hot(blue_ts,3),(-1,78)),tf.float32)\n",
    "#         blue_ts_access = tf.reshape(tf.one_hot(blue_ts[:,13:],3),(-1,39))\n",
    "        \n",
    "#         print(pre_ts[:,:])\n",
    "#         print(pre_ts_oh)\n",
    "#         print(blue_ts)\n",
    "#         blue_ts_kn = K.print_tensor(blue_ts[:,:13], message='blue known = ')\n",
    "#         blue_ts_known = K.print_tensor(blue_ts_known[:,:13], message='blue known OH = ')\n",
    "#         print(blue_ts_known.shape)\n",
    "\n",
    "        pre_ts_encoded = self.encode(pre_ts_oh)\n",
    "#         mean, logvar = self.ts_vae.encode(pre_ts_oh)\n",
    "#         mean, logvar = tf.split(self.encoder(pre_ts_oh), num_or_size_splits=2, axis=1)\n",
    "#         pre_ts_encoded = self.reparameterize(mean, logvar)\n",
    "        pre_ts_encoded = self.ts_dense(pre_ts_encoded)\n",
    "        \n",
    "        blue_ts_encoded = self.encode(blue_ts_oh)\n",
    "        blue_ts_encoded = self.ts_dense(blue_ts_encoded)\n",
    "\n",
    "        combined = tf.keras.layers.concatenate([pre_ts_encoded, blue_ts_encoded])\n",
    "\n",
    "        combined_hidden = self.cross_dense(combined)\n",
    "        \n",
    "        fc = self.fc_1(combined_hidden)\n",
    "\n",
    "        mdn_out = self.mdn(fc)\n",
    "\n",
    "        return mdn_out\n",
    "        \n"
   ]
  },
  {
   "cell_type": "code",
   "execution_count": 21,
   "metadata": {},
   "outputs": [
    {
     "name": "stderr",
     "output_type": "stream",
     "text": [
      "/usr/local/lib/python3.8/dist-packages/ipykernel/ipkernel.py:281: DeprecationWarning: `should_run_async` will not call `transform_cell` automatically in the future. Please pass the result to `transformed_cell` argument and any exception that happen during thetransform in `preprocessing_exc_tuple` in IPython 7.17 and above.\n",
      "  and should_run_async(code)\n"
     ]
    }
   ],
   "source": [
    "@tf.function\n",
    "def forward_pass(model, x, y):\n",
    "    out = model(x)\n",
    "    \n",
    "    y_oh = tf.reshape(tf.one_hot(y,3),(-1,78))\n",
    "    y_encoded = model.encode(y_oh)\n",
    "    \n",
    "    return out, y_encoded\n",
    "\n",
    "@tf.function\n",
    "def decode_z(model, x):\n",
    "    x_oh = model.ts_vae.get_oh_output(model.decode(tf.cast(x,tf.float32)))\n",
    "#     y_oh = model.ts_vae.get_oh_output(model.decode(tf.cast(y,tf.float32)))\n",
    "    \n",
    "    return x_oh\n",
    "    \n",
    "\n",
    "@tf.function\n",
    "def compute_loss(model, x, y, loss_func):\n",
    "    out, y_encoded = forward_pass(model, x, y)\n",
    "    \n",
    "    loss = loss_func(y_encoded, out)\n",
    "    \n",
    "    return loss\n",
    "    \n",
    "\n",
    "@tf.function\n",
    "def train_step(model, x, y, optimizer, loss_func):\n",
    "    \"\"\"Executes one training step and returns the loss.\n",
    "\n",
    "    This function computes the loss and gradients, and uses the latter to\n",
    "    update the model's parameters.\n",
    "    \"\"\"\n",
    "#     y_encoded = model.encode(y)\n",
    "    with tf.GradientTape() as tape:\n",
    "        loss = compute_loss(model, x, y, loss_func)\n",
    "    gradients = tape.gradient(loss, model.trainable_variables)\n",
    "    optimizer.apply_gradients(zip(gradients, model.trainable_variables))"
   ]
  },
  {
   "cell_type": "markdown",
   "metadata": {},
   "source": [
    "### Training loop"
   ]
  },
  {
   "cell_type": "code",
   "execution_count": 12,
   "metadata": {},
   "outputs": [
    {
     "name": "stdout",
     "output_type": "stream",
     "text": [
      "WARNING:tensorflow:No training configuration found in save file, so the model was *not* compiled. Compile it manually.\n"
     ]
    }
   ],
   "source": [
    "red_ts_predictor = RedTSPrediction('models/trueStateVAE_7_L8', latent_size=LATENT_SIZE, num_mixtures=NUMBER_MIXTURES)"
   ]
  },
  {
   "cell_type": "code",
   "execution_count": 13,
   "metadata": {},
   "outputs": [
    {
     "name": "stderr",
     "output_type": "stream",
     "text": [
      "/usr/local/lib/python3.8/dist-packages/ipykernel/ipkernel.py:281: DeprecationWarning: `should_run_async` will not call `transform_cell` automatically in the future. Please pass the result to `transformed_cell` argument and any exception that happen during thetransform in `preprocessing_exc_tuple` in IPython 7.17 and above.\n",
      "  and should_run_async(code)\n"
     ]
    },
    {
     "name": "stdout",
     "output_type": "stream",
     "text": [
      "tf.Tensor(\n",
      "[[-2.1179868e-03  3.6244500e-02 -1.7986381e-01  3.3291462e-01\n",
      "   3.0949807e-02 -3.3571877e-02 -1.5058097e-01 -2.4488902e-01\n",
      "  -1.3672502e-01  5.6034032e-02 -1.4086106e-01  4.6781264e-03\n",
      "  -1.3754016e-01 -1.0134836e-01  2.5119722e-01 -4.0824196e-01\n",
      "   1.9067058e-01  7.3767856e-02 -1.7701218e-01  2.1799131e-01\n",
      "  -1.9003060e-03  1.9926766e-01 -2.8401411e-01 -2.5834475e-02\n",
      "  -2.3582147e-01 -4.6198051e-02  8.6594693e-02  2.3850985e-04\n",
      "   3.1222925e-01 -1.2751795e-01  7.4389786e-02  8.7453082e-02\n",
      "  -1.3483889e-01 -1.9408233e-02  1.2227374e-01 -2.5353983e-01\n",
      "   1.1041008e-01 -5.3749159e-03 -4.4944596e-02 -1.0472686e-01\n",
      "   8.9145577e-01  9.4130999e-01  1.1497808e+00  1.1018574e+00\n",
      "   1.0397984e+00  1.0513984e+00  9.2240608e-01  1.1383569e+00\n",
      "   1.0527142e+00  1.0940250e+00  1.0025165e+00  9.6285552e-01\n",
      "   9.5457250e-01  7.6767647e-01  7.9955494e-01  1.3214015e+00\n",
      "   1.0597596e+00  8.7119871e-01  1.0375562e+00  1.0713509e+00\n",
      "   8.8040894e-01  9.4466883e-01  8.5019118e-01  1.0719435e+00\n",
      "   1.0083954e+00  1.0224159e+00  1.1384671e+00  8.7299943e-01\n",
      "   1.0775391e+00  1.1334666e+00  1.3705747e+00  9.3001103e-01\n",
      "   1.1887988e+00  9.6712321e-01  9.8184228e-01  8.8231373e-01\n",
      "   8.1236541e-01  9.9464279e-01  9.6136612e-01  8.6094433e-01\n",
      "  -1.2044176e-01 -5.5629048e-02  1.5041440e-02  2.0069392e-02\n",
      "  -2.8448138e-02]], shape=(1, 85), dtype=float32)\n"
     ]
    }
   ],
   "source": [
    "for row in test_dataset.take(1):\n",
    "#   print(row)\n",
    "  out = red_ts_predictor(row[0])\n",
    "  print(out)"
   ]
  },
  {
   "cell_type": "code",
   "execution_count": 15,
   "metadata": {},
   "outputs": [
    {
     "name": "stdout",
     "output_type": "stream",
     "text": [
      "Model: \"red_ts_prediction\"\n",
      "_________________________________________________________________\n",
      " Layer (type)                Output Shape              Param #   \n",
      "=================================================================\n",
      " true_state_vae_4 (TrueState  multiple                 121736094 \n",
      " VAE)                                                            \n",
      "                                                                 \n",
      " sequential_8 (Sequential)   (None, 16)                60892016  \n",
      "                                                                 \n",
      " sequential_9 (Sequential)   (None, 78)                60844078  \n",
      "                                                                 \n",
      " dense (Dense)               multiple                  1152      \n",
      "                                                                 \n",
      " dense_1 (Dense)             multiple                  526336    \n",
      "                                                                 \n",
      " mdn (MDN)                   multiple                  174165    \n",
      "                                                                 \n",
      "=================================================================\n",
      "Total params: 122,437,747\n",
      "Trainable params: 701,653\n",
      "Non-trainable params: 121,736,094\n",
      "_________________________________________________________________\n"
     ]
    }
   ],
   "source": [
    "# red_ts_predictor.compile(loss=get_mixture_loss_func(LATENT_SIZE,NUMBER_MIXTURES,red_ts_predictor.encode), optimizer=tf.keras.optimizers.Adam(),metrics=['mean_squared_error'])\n",
    "# red_ts_predictor.build(((1,78),(1,78)))\n",
    "red_ts_predictor.summary()\n"
   ]
  },
  {
   "cell_type": "code",
   "execution_count": 18,
   "metadata": {},
   "outputs": [],
   "source": [
    "loss_func = MDN.get_mixture_loss_func(LATENT_SIZE,NUMBER_MIXTURES)\n",
    "optimizer = tf.keras.optimizers.Adam(1e-4)"
   ]
  },
  {
   "cell_type": "code",
   "execution_count": 17,
   "metadata": {
    "scrolled": true
   },
   "outputs": [
    {
     "name": "stdout",
     "output_type": "stream",
     "text": [
      "Epoch: 30, Test set loss: 4.099617958068848, time elapse for current epoch: 90.83968353271484\n"
     ]
    }
   ],
   "source": [
    "# train_dataset=test_dataset.take(10)\n",
    "\n",
    "# EPOCHS = 500\n",
    "for epoch in range(1, EPOCHS + 1):\n",
    "    count = 0\n",
    "    start_time = time.time()\n",
    "    for train_x, train_y in train_dataset:\n",
    "        if (count %1000) == 0:\n",
    "            print(f\"{count}={count*batch_size} samples\")\n",
    "        train_step(red_ts_predictor, train_x, train_y, optimizer, loss_func)\n",
    "        count += 1\n",
    "    end_time = time.time()\n",
    "\n",
    "    \n",
    "    total_matches = 0\n",
    "    total = 0\n",
    "    nodes = 0\n",
    "    sum_diffs_sqrd = 0\n",
    "    state_pred_pairs = []\n",
    "    state_pred_pair_tree_vis = []\n",
    "    loss = tf.keras.metrics.Mean()\n",
    "    for test_x, test_y in test_dataset.take(1000):#.take(10):#test_dataset:\n",
    "        total += 1\n",
    "        if (total %100) == 0:\n",
    "            print(f\"{total}={total*1} samples\")\n",
    "        out, y_encoded = forward_pass(red_ts_predictor, test_x, test_y)\n",
    "        loss_val = loss_func(y_encoded, out)\n",
    "        loss(loss_val)\n",
    "        \n",
    "#         sampled_out = MDN.sample_from_output(out[0].numpy(), output_dim=LATENT_SIZE, num_mixes=NUMBER_MIXTURES)\n",
    "#         pred_oh, y_oh = decode_zs(red_ts_predictor, sampled_out, y_encoded)\n",
    "        \n",
    "        \n",
    "#         state_pred_pairs.append([y_oh, pred_oh])\n",
    "# #         state_pred_pair_tree_vis.append([TrueStateTreeGraphViz(y_oh), TrueStateTreeGraphViz(pred_oh)])\n",
    "# #         loss(compute_loss(red_ts_predictor, test_x, test_y, loss_func))\n",
    "#         diffs = np.rint(y_oh.numpy()) - np.rint(pred_oh.numpy())\n",
    "#     #     diffs = get_state_diff(true_state_model,test_x)\n",
    "#         nodes += len(diffs.flatten())\n",
    "#         diffs_sqrd = np.sum(diffs*diffs)\n",
    "#         sum_diffs_sqrd += diffs_sqrd\n",
    "#         if not diffs_sqrd >0:\n",
    "#     #       print(diffs)\n",
    "#     #     else:\n",
    "#           total_matches += 1\n",
    "#     #       print(\"Match\")\n",
    "    #       print(diffs)\n",
    "\n",
    "    loss = loss.result()\n",
    "    display.clear_output(wait=False)\n",
    "#     print(f\"accuracy = {total_matches}/{total} = {total_matches/total}, \\nmean of squared diffs = {sum_diffs_sqrd}/{nodes}={sum_diffs_sqrd/nodes}\\npercentage wrong = ({sum_diffs_sqrd}/{2})/({nodes}/{3})={(sum_diffs_sqrd/2)/(nodes/3)}\")\n",
    "    print('Epoch: {}, Test set loss: {}, time elapse for current epoch: {}'\n",
    "        .format(epoch, loss, end_time - start_time))\n",
    "#     display_tree_pairs(state_pred_pair_tree_vis)"
   ]
  },
  {
   "cell_type": "code",
   "execution_count": 18,
   "metadata": {
    "scrolled": true
   },
   "outputs": [],
   "source": [
    "# pre_ts_encoded = red_ts_predictor.ts_vae.encode(np.zeros((1,78),dtype=np.float32))\n",
    "# red_ts_predictor.ts_dense(pre_ts_encoded)\n",
    "\n",
    "red_ts_predictor((np.zeros((1,26),dtype=np.uint8),np.zeros((1,26),dtype=np.uint8)))\n",
    "\n",
    "red_ts_predictor.save('models/RedTSPredictionMDN_1',overwrite=True)"
   ]
  },
  {
   "cell_type": "markdown",
   "metadata": {},
   "source": [
    "### Test and evaluate"
   ]
  },
  {
   "cell_type": "code",
   "execution_count": 11,
   "metadata": {
    "scrolled": true
   },
   "outputs": [
    {
     "name": "stdout",
     "output_type": "stream",
     "text": [
      "WARNING:tensorflow:No training configuration found in save file, so the model was *not* compiled. Compile it manually.\n"
     ]
    }
   ],
   "source": [
    "m2 = tf.keras.models.load_model(\n",
    "    'models/RedTSPredictionMDN_1',\n",
    ")"
   ]
  },
  {
   "cell_type": "code",
   "execution_count": 47,
   "metadata": {
    "scrolled": true
   },
   "outputs": [
    {
     "name": "stdout",
     "output_type": "stream",
     "text": [
      "accuracy = 5470/10000 = 0.547, \n",
      "mean of squared diffs = 12136.0/780000=0.015558974358974359\n",
      "percentage wrong = (12136.0/2)/(780000/3)=0.023338461538461537\n"
     ]
    }
   ],
   "source": [
    "total_matches = 0\n",
    "total = 0\n",
    "nodes = 0\n",
    "sum_diffs_sqrd = 0\n",
    "state_pred_pairs = []\n",
    "state_pred_pair_tree_vis = []\n",
    "state_pred_samples_correct = []\n",
    "\n",
    "red_change_test_indices = []\n",
    "no_change_indices = []\n",
    "\n",
    "loss = tf.keras.metrics.Mean()\n",
    "\n",
    "num_eval_samples = 10\n",
    "\n",
    "for i, (test_x, test_y) in enumerate(test_dataset.take(1000)):#.take(10):#test_dataset:\n",
    "    pre_ts = tf.reshape(tf.one_hot(test_x[0],3),(-1,2,3))\n",
    "    blue_ts = tf.reshape(tf.one_hot(test_x[1],3),(-1,2,3))\n",
    "    \n",
    "    out, y_encoded = forward_pass(m2, test_x, test_y)\n",
    "    y_oh = decode_z(m2, y_encoded)\n",
    "    \n",
    "#     if not ONLY_MEASURE_CHANGES or np.any(blue_ts != y_oh):\n",
    "    if np.any(blue_ts != y_oh):\n",
    "        red_change_test_indices.append(i)\n",
    "    else:\n",
    "        no_change_indices.append(i)\n",
    "        \n",
    "    loss_val = loss_func(y_encoded, out)\n",
    "    loss(loss_val)\n",
    "\n",
    "    y_tree_vis = TrueStateTreeGraphViz(y_oh)\n",
    "\n",
    "    predictions = []\n",
    "    pred_tree_vis = []\n",
    "    pred_corrects = []\n",
    "    for i in range(num_eval_samples):\n",
    "        total += 1\n",
    "        sampled_out = MDN.sample_from_output(out[0].numpy(), output_dim=LATENT_SIZE, num_mixes=NUMBER_MIXTURES)\n",
    "        pred_oh = decode_z(m2, sampled_out)\n",
    "\n",
    "        predictions.append(pred_oh)\n",
    "        pred_tree_vis.append(TrueStateTreeGraphViz(pred_oh))\n",
    "\n",
    "        diffs = np.rint(y_oh.numpy()) - np.rint(pred_oh.numpy())\n",
    "        diffs_sqrd = np.sum(diffs*diffs)\n",
    "        sum_diffs_sqrd += diffs_sqrd\n",
    "\n",
    "        nodes += len(diffs.flatten())\n",
    "        pred_correct = not diffs_sqrd >0\n",
    "        if pred_correct:\n",
    "            total_matches += 1\n",
    "        pred_corrects.append(pred_correct)\n",
    "\n",
    "\n",
    "\n",
    "    state_pred_pairs.append([y_oh, predictions])\n",
    "\n",
    "    state_pred_pair_tree_vis.append([TrueStateTreeGraphViz(pre_ts),\n",
    "                                     TrueStateTreeGraphViz(blue_ts),\n",
    "                                     y_tree_vis,\n",
    "                                     pred_tree_vis])\n",
    "\n",
    "    state_pred_samples_correct.append(pred_corrects)\n",
    "\n",
    "state_pred_samples_correct = np.array(state_pred_samples_correct)\n",
    "\n",
    "#         state_pred_pairs.append([y_oh, pred_oh])\n",
    "#     state_pred_pair_tree_vis.append([TrueStateTreeGraphViz(y_oh), TrueStateTreeGraphViz(pred_oh)])\n",
    "#         loss(compute_loss(m2, test_x, test_y, loss_func))\n",
    "#     diffs = np.rint(y_oh.numpy()) - np.rint(pred_oh.numpy())\n",
    "#     diffs = get_state_diff(true_state_model,test_x)\n",
    "#     nodes += len(diffs.flatten())\n",
    "#     diffs_sqrd = np.sum(diffs*diffs)\n",
    "#     sum_diffs_sqrd += diffs_sqrd\n",
    "#     if not diffs_sqrd >0:\n",
    "# #       print(diffs)\n",
    "# #     else:\n",
    "#       total_matches += 1\n",
    "#       print(\"Match\")\n",
    "#       print(diffs)\n",
    "\n",
    "loss = loss.result()\n",
    "display.clear_output(wait=False)\n",
    "print(f\"accuracy = {total_matches}/{total} = {total_matches/total}, \\nmean of squared diffs = {sum_diffs_sqrd}/{nodes}={sum_diffs_sqrd/nodes}\\npercentage wrong = ({sum_diffs_sqrd}/{2})/({nodes}/{3})={(sum_diffs_sqrd/2)/(nodes/3)}\")\n",
    "# print('Epoch: {}, Test set loss: {}, time elapse for current epoch: {}'\n",
    "#     .format(epoch, loss, end_time - start_time))\n"
   ]
  },
  {
   "cell_type": "code",
   "execution_count": 48,
   "metadata": {},
   "outputs": [
    {
     "data": {
      "image/png": "[encoded data removed]",
      "text/plain": [
       "<Figure size 640x480 with 1 Axes>"
      ]
     },
     "metadata": {},
     "output_type": "display_data"
    }
   ],
   "source": [
    "import matplotlib.pyplot as plt\n",
    "\n",
    "correct_pred_counts = np.sum(state_pred_samples_correct[no_change_indices],axis=1)\n",
    "\n",
    "correct_pred_counts_change_only = np.sum(state_pred_samples_correct[red_change_test_indices], axis=1)\n",
    "\n",
    "# print(f\"Correct prediction frequencies: {correct_pred_counts}\")\n",
    "\n",
    "plt.hist([correct_pred_counts,correct_pred_counts_change_only],num_eval_samples+1,density=True, stacked=True, label=[\"ALL\", \"ONLY CHANGES\"])\n",
    "# plt.hist(correct_pred_counts_change_only,num_eval_samples+1,density=True)\n",
    "plt.show()"
   ]
  },
  {
   "cell_type": "code",
   "execution_count": 20,
   "metadata": {},
   "outputs": [
    {
     "name": "stderr",
     "output_type": "stream",
     "text": [
      "/usr/local/lib/python3.8/dist-packages/ipykernel/ipkernel.py:281: DeprecationWarning: `should_run_async` will not call `transform_cell` automatically in the future. Please pass the result to `transformed_cell` argument and any exception that happen during thetransform in `preprocessing_exc_tuple` in IPython 7.17 and above.\n",
      "  and should_run_async(code)\n",
      "/usr/local/lib/python3.8/dist-packages/ipywidgets/widgets/widget.py:443: DeprecationWarning: Passing unrecognized arguments to super(IntSlider).__init__(name='Index').\n",
      "object.__init__() takes exactly one argument (the instance to initialize)\n",
      "This is deprecated in traitlets 4.2.This error will be raised in a future release of traitlets.\n",
      "  super().__init__(**kwargs)\n"
     ]
    },
    {
     "name": "stdout",
     "output_type": "stream",
     "text": [
      "200\n"
     ]
    },
    {
     "data": {
      "application/vnd.jupyter.widget-view+json": {
       "model_id": "5fa710a9e13e43a7ae8db959a35185eb",
       "version_major": 2,
       "version_minor": 0
      },
      "text/plain": [
       "HBox(children=(Button(description='<<', style=ButtonStyle()), Button(description='>>', style=ButtonStyle()), I…"
      ]
     },
     "metadata": {},
     "output_type": "display_data"
    },
    {
     "data": {
      "application/vnd.jupyter.widget-view+json": {
       "model_id": "47f00d7e9c5a478bba764f23cd6cff24",
       "version_major": 2,
       "version_minor": 0
      },
      "text/plain": [
       "HBox(children=(Image(value=b'\\x89PNG\\r\\n\\x1a\\n\\x00\\x00\\x00\\rIHDR\\x00\\x00\\x01\\xfa\\x00\\x00\\x01[\\x08\\x02\\x00\\x00\\…"
      ]
     },
     "metadata": {},
     "output_type": "display_data"
    }
   ],
   "source": [
    "display_tree_pairs(state_pred_pair_tree_vis)"
   ]
  },
  {
   "cell_type": "code",
   "execution_count": null,
   "metadata": {},
   "outputs": [],
   "source": []
  }
 ],
 "metadata": {
  "kernelspec": {
   "display_name": "Python 3",
   "language": "python",
   "name": "python3"
  },
  "language_info": {
   "codemirror_mode": {
    "name": "ipython",
    "version": 3
   },
   "file_extension": ".py",
   "mimetype": "text/x-python",
   "name": "python",
   "nbconvert_exporter": "python",
   "pygments_lexer": "ipython3",
   "version": "3.8.10"
  }
 },
 "nbformat": 4,
 "nbformat_minor": 2
}
