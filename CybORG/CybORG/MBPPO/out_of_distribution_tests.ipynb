{
 "cells": [
  {
   "cell_type": "code",
   "execution_count": 1,
   "metadata": {},
   "outputs": [],
   "source": [
    "import numpy as np\n",
    "from sklearn import svm\n",
    "import joblib"
   ]
  },
  {
   "cell_type": "code",
   "execution_count": 2,
   "metadata": {},
   "outputs": [],
   "source": [
    "#Get unique states \n",
    "data_path = '/home/adamprice/u75a-Data-Efficient-Decisions/CybORG/CybORG/Notebooks/logs/PPO/no_decoy_200000'\n",
    "state = np.load(data_path + '/data/state.npy')\n",
    "unique_states = np.unique(state, axis=0)\n",
    "unique_states = list(unique_states)"
   ]
  },
  {
   "cell_type": "markdown",
   "metadata": {},
   "source": []
  },
  {
   "cell_type": "code",
   "execution_count": 3,
   "metadata": {},
   "outputs": [],
   "source": [
    "#Load in an out of distrbution state examples\n",
    "ID_States = np.load('ID_States.npy')\n",
    "OOD_States = np.load('OOD_States.npy')"
   ]
  },
  {
   "cell_type": "code",
   "execution_count": 13,
   "metadata": {},
   "outputs": [
    {
     "name": "stdout",
     "output_type": "stream",
     "text": [
      "Out of Distribution Accuracy:\n",
      "0.6300309597523219\n",
      "In Distribution Accuracy:\n",
      "0.9984897769516728\n"
     ]
    }
   ],
   "source": [
    "#Train an out-of-distribution classifier on unique observed states\n",
    "clf = svm.OneClassSVM(nu=0.5, kernel=\"rbf\", gamma=0.75)\n",
    "clf.fit(unique_states)\n",
    "\n",
    "#Measure Accuracy on test data\n",
    "print('Out of Distribution Accuracy:')\n",
    "print(np.where(clf.predict(OOD_States)==-1)[0].shape[0]/OOD_States.shape[0])\n",
    "print('In Distribution Accuracy:')\n",
    "print(np.where(clf.predict(ID_States)==1)[0].shape[0]/ID_States.shape[0])\n"
   ]
  },
  {
   "cell_type": "code",
   "execution_count": 14,
   "metadata": {},
   "outputs": [
    {
     "data": {
      "text/plain": [
       "['state_novelty.pkl']"
      ]
     },
     "execution_count": 14,
     "metadata": {},
     "output_type": "execute_result"
    }
   ],
   "source": [
    "#save model\n",
    "joblib.dump(clf, 'state_novelty.pkl', compress=9)"
   ]
  }
 ],
 "metadata": {
  "kernelspec": {
   "display_name": "u75a",
   "language": "python",
   "name": "python3"
  },
  "language_info": {
   "codemirror_mode": {
    "name": "ipython",
    "version": 3
   },
   "file_extension": ".py",
   "mimetype": "text/x-python",
   "name": "python",
   "nbconvert_exporter": "python",
   "pygments_lexer": "ipython3",
   "version": "3.8.16"
  },
  "orig_nbformat": 4
 },
 "nbformat": 4,
 "nbformat_minor": 2
}
